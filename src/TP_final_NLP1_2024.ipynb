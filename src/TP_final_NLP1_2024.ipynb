{
  "cells": [
    {
      "cell_type": "markdown",
      "metadata": {
        "id": "1zpufDLRXXvJ"
      },
      "source": [
        "# Building a general purpose chatbot\n",
        "\n",
        "In this practical exercise, your goal will be to implement the different tasks in a general purpose chatbot.\n",
        "\n",
        "The code below will help you load the data."
      ]
    },
    {
      "cell_type": "code",
      "execution_count": 1,
      "metadata": {
        "id": "UPrrLpTIXfe2"
      },
      "outputs": [
        {
          "name": "stdout",
          "output_type": "stream",
          "text": [
            "/home/sandro/.local/lib/python3.10/site-packages/gdown/__main__.py:140: FutureWarning: Option `--id` was deprecated in version 4.3.1 and will be removed in 5.0. You don't need to pass it anymore to use a file ID.\n",
            "  warnings.warn(\n",
            "Downloading...\n",
            "From: https://drive.google.com/uc?id=1JipPFr14hWBoQ0tnEJyTrOh5RoGFhaf3\n",
            "To: /home/sandro/NLP/Eval NLP1/NLP1-MiniChatbot/src/train.csv\n",
            "100%|████████████████████████████████████████| 812k/812k [00:00<00:00, 3.00MB/s]\n",
            "/home/sandro/.local/lib/python3.10/site-packages/gdown/__main__.py:140: FutureWarning: Option `--id` was deprecated in version 4.3.1 and will be removed in 5.0. You don't need to pass it anymore to use a file ID.\n",
            "  warnings.warn(\n",
            "Downloading...\n",
            "From: https://drive.google.com/uc?id=12DkcmwEEuitna9XJNYD9mBhDdaTzsWcS\n",
            "To: /home/sandro/NLP/Eval NLP1/NLP1-MiniChatbot/src/val.csv\n",
            "100%|████████████████████████████████████████| 165k/165k [00:00<00:00, 4.69MB/s]\n",
            "/home/sandro/.local/lib/python3.10/site-packages/gdown/__main__.py:140: FutureWarning: Option `--id` was deprecated in version 4.3.1 and will be removed in 5.0. You don't need to pass it anymore to use a file ID.\n",
            "  warnings.warn(\n",
            "Downloading...\n",
            "From: https://drive.google.com/uc?id=1iU73m8iDxEcqAmmLc4i_cudFOWJQMORY\n",
            "To: /home/sandro/NLP/Eval NLP1/NLP1-MiniChatbot/src/intent_response.csv\n",
            "100%|██████████████████████████████████████| 10.3k/10.3k [00:00<00:00, 26.5MB/s]\n",
            "Defaulting to user installation because normal site-packages is not writeable\n",
            "Requirement already satisfied: stop-words in /home/sandro/.local/lib/python3.10/site-packages (2018.7.23)\n",
            "\n",
            "\u001b[1m[\u001b[0m\u001b[34;49mnotice\u001b[0m\u001b[1;39;49m]\u001b[0m\u001b[39;49m A new release of pip is available: \u001b[0m\u001b[31;49m24.2\u001b[0m\u001b[39;49m -> \u001b[0m\u001b[32;49m24.3\u001b[0m\n",
            "\u001b[1m[\u001b[0m\u001b[34;49mnotice\u001b[0m\u001b[1;39;49m]\u001b[0m\u001b[39;49m To update, run: \u001b[0m\u001b[32;49mpip install --upgrade pip\u001b[0m\n",
            "Defaulting to user installation because normal site-packages is not writeable\n",
            "Requirement already satisfied: plotly in /home/sandro/.local/lib/python3.10/site-packages (5.24.1)\n",
            "Requirement already satisfied: tenacity>=6.2.0 in /home/sandro/.local/lib/python3.10/site-packages (from plotly) (8.5.0)\n",
            "Requirement already satisfied: packaging in /home/sandro/.local/lib/python3.10/site-packages (from plotly) (24.0)\n",
            "\n",
            "\u001b[1m[\u001b[0m\u001b[34;49mnotice\u001b[0m\u001b[1;39;49m]\u001b[0m\u001b[39;49m A new release of pip is available: \u001b[0m\u001b[31;49m24.2\u001b[0m\u001b[39;49m -> \u001b[0m\u001b[32;49m24.3\u001b[0m\n",
            "\u001b[1m[\u001b[0m\u001b[34;49mnotice\u001b[0m\u001b[1;39;49m]\u001b[0m\u001b[39;49m To update, run: \u001b[0m\u001b[32;49mpip install --upgrade pip\u001b[0m\n",
            "Defaulting to user installation because normal site-packages is not writeable\n",
            "Collecting en-core-web-md==3.7.1\n",
            "  Downloading https://github.com/explosion/spacy-models/releases/download/en_core_web_md-3.7.1/en_core_web_md-3.7.1-py3-none-any.whl (42.8 MB)\n",
            "\u001b[2K     \u001b[90m━━━━━━━━━━━━━━━━━━━━━━━━━━━━━━━━━━━━━━━━\u001b[0m \u001b[32m42.8/42.8 MB\u001b[0m \u001b[31m21.0 MB/s\u001b[0m eta \u001b[36m0:00:00\u001b[0m00:01\u001b[0m00:01\u001b[0m\n",
            "\u001b[?25hRequirement already satisfied: spacy<3.8.0,>=3.7.2 in /home/sandro/.local/lib/python3.10/site-packages (from en-core-web-md==3.7.1) (3.7.4)\n",
            "Requirement already satisfied: spacy-legacy<3.1.0,>=3.0.11 in /home/sandro/.local/lib/python3.10/site-packages (from spacy<3.8.0,>=3.7.2->en-core-web-md==3.7.1) (3.0.12)\n",
            "Requirement already satisfied: spacy-loggers<2.0.0,>=1.0.0 in /home/sandro/.local/lib/python3.10/site-packages (from spacy<3.8.0,>=3.7.2->en-core-web-md==3.7.1) (1.0.5)\n",
            "Requirement already satisfied: murmurhash<1.1.0,>=0.28.0 in /home/sandro/.local/lib/python3.10/site-packages (from spacy<3.8.0,>=3.7.2->en-core-web-md==3.7.1) (1.0.10)\n",
            "Requirement already satisfied: cymem<2.1.0,>=2.0.2 in /home/sandro/.local/lib/python3.10/site-packages (from spacy<3.8.0,>=3.7.2->en-core-web-md==3.7.1) (2.0.8)\n",
            "Requirement already satisfied: preshed<3.1.0,>=3.0.2 in /home/sandro/.local/lib/python3.10/site-packages (from spacy<3.8.0,>=3.7.2->en-core-web-md==3.7.1) (3.0.9)\n",
            "Requirement already satisfied: thinc<8.3.0,>=8.2.2 in /home/sandro/.local/lib/python3.10/site-packages (from spacy<3.8.0,>=3.7.2->en-core-web-md==3.7.1) (8.2.3)\n",
            "Requirement already satisfied: wasabi<1.2.0,>=0.9.1 in /home/sandro/.local/lib/python3.10/site-packages (from spacy<3.8.0,>=3.7.2->en-core-web-md==3.7.1) (1.1.2)\n",
            "Requirement already satisfied: srsly<3.0.0,>=2.4.3 in /home/sandro/.local/lib/python3.10/site-packages (from spacy<3.8.0,>=3.7.2->en-core-web-md==3.7.1) (2.4.8)\n",
            "Requirement already satisfied: catalogue<2.1.0,>=2.0.6 in /home/sandro/.local/lib/python3.10/site-packages (from spacy<3.8.0,>=3.7.2->en-core-web-md==3.7.1) (2.0.10)\n",
            "Requirement already satisfied: weasel<0.4.0,>=0.1.0 in /home/sandro/.local/lib/python3.10/site-packages (from spacy<3.8.0,>=3.7.2->en-core-web-md==3.7.1) (0.3.4)\n",
            "Requirement already satisfied: typer<0.10.0,>=0.3.0 in /home/sandro/.local/lib/python3.10/site-packages (from spacy<3.8.0,>=3.7.2->en-core-web-md==3.7.1) (0.9.4)\n",
            "Requirement already satisfied: smart-open<7.0.0,>=5.2.1 in /home/sandro/.local/lib/python3.10/site-packages (from spacy<3.8.0,>=3.7.2->en-core-web-md==3.7.1) (6.4.0)\n",
            "Requirement already satisfied: tqdm<5.0.0,>=4.38.0 in /home/sandro/.local/lib/python3.10/site-packages (from spacy<3.8.0,>=3.7.2->en-core-web-md==3.7.1) (4.66.4)\n",
            "Requirement already satisfied: requests<3.0.0,>=2.13.0 in /home/sandro/.local/lib/python3.10/site-packages (from spacy<3.8.0,>=3.7.2->en-core-web-md==3.7.1) (2.31.0)\n",
            "Requirement already satisfied: pydantic!=1.8,!=1.8.1,<3.0.0,>=1.7.4 in /home/sandro/.local/lib/python3.10/site-packages (from spacy<3.8.0,>=3.7.2->en-core-web-md==3.7.1) (2.9.2)\n",
            "Requirement already satisfied: jinja2 in /home/sandro/.local/lib/python3.10/site-packages (from spacy<3.8.0,>=3.7.2->en-core-web-md==3.7.1) (3.1.4)\n",
            "Requirement already satisfied: setuptools in /home/sandro/.local/lib/python3.10/site-packages (from spacy<3.8.0,>=3.7.2->en-core-web-md==3.7.1) (65.6.3)\n",
            "Requirement already satisfied: packaging>=20.0 in /home/sandro/.local/lib/python3.10/site-packages (from spacy<3.8.0,>=3.7.2->en-core-web-md==3.7.1) (24.0)\n",
            "Requirement already satisfied: langcodes<4.0.0,>=3.2.0 in /home/sandro/.local/lib/python3.10/site-packages (from spacy<3.8.0,>=3.7.2->en-core-web-md==3.7.1) (3.4.0)\n",
            "Requirement already satisfied: numpy>=1.19.0 in /home/sandro/.local/lib/python3.10/site-packages (from spacy<3.8.0,>=3.7.2->en-core-web-md==3.7.1) (1.24.2)\n",
            "Requirement already satisfied: language-data>=1.2 in /home/sandro/.local/lib/python3.10/site-packages (from langcodes<4.0.0,>=3.2.0->spacy<3.8.0,>=3.7.2->en-core-web-md==3.7.1) (1.2.0)\n",
            "Requirement already satisfied: annotated-types>=0.6.0 in /home/sandro/.local/lib/python3.10/site-packages (from pydantic!=1.8,!=1.8.1,<3.0.0,>=1.7.4->spacy<3.8.0,>=3.7.2->en-core-web-md==3.7.1) (0.7.0)\n",
            "Requirement already satisfied: pydantic-core==2.23.4 in /home/sandro/.local/lib/python3.10/site-packages (from pydantic!=1.8,!=1.8.1,<3.0.0,>=1.7.4->spacy<3.8.0,>=3.7.2->en-core-web-md==3.7.1) (2.23.4)\n",
            "Requirement already satisfied: typing-extensions>=4.6.1 in /home/sandro/.local/lib/python3.10/site-packages (from pydantic!=1.8,!=1.8.1,<3.0.0,>=1.7.4->spacy<3.8.0,>=3.7.2->en-core-web-md==3.7.1) (4.12.2)\n",
            "Requirement already satisfied: charset-normalizer<4,>=2 in /home/sandro/.local/lib/python3.10/site-packages (from requests<3.0.0,>=2.13.0->spacy<3.8.0,>=3.7.2->en-core-web-md==3.7.1) (3.3.2)\n",
            "Requirement already satisfied: idna<4,>=2.5 in /usr/lib/python3/dist-packages (from requests<3.0.0,>=2.13.0->spacy<3.8.0,>=3.7.2->en-core-web-md==3.7.1) (3.3)\n",
            "Requirement already satisfied: urllib3<3,>=1.21.1 in /usr/lib/python3/dist-packages (from requests<3.0.0,>=2.13.0->spacy<3.8.0,>=3.7.2->en-core-web-md==3.7.1) (1.26.5)\n",
            "Requirement already satisfied: certifi>=2017.4.17 in /home/sandro/.local/lib/python3.10/site-packages (from requests<3.0.0,>=2.13.0->spacy<3.8.0,>=3.7.2->en-core-web-md==3.7.1) (2023.7.22)\n",
            "Requirement already satisfied: blis<0.8.0,>=0.7.8 in /home/sandro/.local/lib/python3.10/site-packages (from thinc<8.3.0,>=8.2.2->spacy<3.8.0,>=3.7.2->en-core-web-md==3.7.1) (0.7.11)\n",
            "Requirement already satisfied: confection<1.0.0,>=0.0.1 in /home/sandro/.local/lib/python3.10/site-packages (from thinc<8.3.0,>=8.2.2->spacy<3.8.0,>=3.7.2->en-core-web-md==3.7.1) (0.1.4)\n",
            "Requirement already satisfied: click<9.0.0,>=7.1.1 in /home/sandro/.local/lib/python3.10/site-packages (from typer<0.10.0,>=0.3.0->spacy<3.8.0,>=3.7.2->en-core-web-md==3.7.1) (8.1.7)\n",
            "Requirement already satisfied: cloudpathlib<0.17.0,>=0.7.0 in /home/sandro/.local/lib/python3.10/site-packages (from weasel<0.4.0,>=0.1.0->spacy<3.8.0,>=3.7.2->en-core-web-md==3.7.1) (0.16.0)\n",
            "Requirement already satisfied: MarkupSafe>=2.0 in /home/sandro/.local/lib/python3.10/site-packages (from jinja2->spacy<3.8.0,>=3.7.2->en-core-web-md==3.7.1) (2.1.5)\n",
            "Requirement already satisfied: marisa-trie>=0.7.7 in /home/sandro/.local/lib/python3.10/site-packages (from language-data>=1.2->langcodes<4.0.0,>=3.2.0->spacy<3.8.0,>=3.7.2->en-core-web-md==3.7.1) (1.1.1)\n",
            "\n",
            "\u001b[1m[\u001b[0m\u001b[34;49mnotice\u001b[0m\u001b[1;39;49m]\u001b[0m\u001b[39;49m A new release of pip is available: \u001b[0m\u001b[31;49m24.2\u001b[0m\u001b[39;49m -> \u001b[0m\u001b[32;49m24.3\u001b[0m\n",
            "\u001b[1m[\u001b[0m\u001b[34;49mnotice\u001b[0m\u001b[1;39;49m]\u001b[0m\u001b[39;49m To update, run: \u001b[0m\u001b[32;49mpip install --upgrade pip\u001b[0m\n",
            "\u001b[38;5;2m✔ Download and installation successful\u001b[0m\n",
            "You can now load the package via spacy.load('en_core_web_md')\n"
          ]
        }
      ],
      "source": [
        "!gdown --id 1JipPFr14hWBoQ0tnEJyTrOh5RoGFhaf3\n",
        "!gdown --id 12DkcmwEEuitna9XJNYD9mBhDdaTzsWcS\n",
        "!gdown --id 1iU73m8iDxEcqAmmLc4i_cudFOWJQMORY\n",
        "!pip install stop-words\n",
        "!pip install plotly\n",
        "!python3 -m spacy download en_core_web_md"
      ]
    },
    {
      "cell_type": "code",
      "execution_count": 2,
      "metadata": {
        "id": "goZQyUAFZfLs"
      },
      "outputs": [
        {
          "data": {
            "text/html": [
              "<div>\n",
              "<style scoped>\n",
              "    .dataframe tbody tr th:only-of-type {\n",
              "        vertical-align: middle;\n",
              "    }\n",
              "\n",
              "    .dataframe tbody tr th {\n",
              "        vertical-align: top;\n",
              "    }\n",
              "\n",
              "    .dataframe thead th {\n",
              "        text-align: right;\n",
              "    }\n",
              "</style>\n",
              "<table border=\"1\" class=\"dataframe\">\n",
              "  <thead>\n",
              "    <tr style=\"text-align: right;\">\n",
              "      <th></th>\n",
              "      <th>sentence</th>\n",
              "      <th>intent</th>\n",
              "    </tr>\n",
              "  </thead>\n",
              "  <tbody>\n",
              "    <tr>\n",
              "      <th>0</th>\n",
              "      <td>what expression would i use to say i love you ...</td>\n",
              "      <td>translate</td>\n",
              "    </tr>\n",
              "    <tr>\n",
              "      <th>1</th>\n",
              "      <td>can you tell me how to say 'i do not speak muc...</td>\n",
              "      <td>translate</td>\n",
              "    </tr>\n",
              "    <tr>\n",
              "      <th>2</th>\n",
              "      <td>what is the equivalent of, 'life is good' in f...</td>\n",
              "      <td>translate</td>\n",
              "    </tr>\n",
              "    <tr>\n",
              "      <th>3</th>\n",
              "      <td>tell me how to say, 'it is a beautiful morning...</td>\n",
              "      <td>translate</td>\n",
              "    </tr>\n",
              "    <tr>\n",
              "      <th>4</th>\n",
              "      <td>if i were mongolian, how would i say that i am...</td>\n",
              "      <td>translate</td>\n",
              "    </tr>\n",
              "  </tbody>\n",
              "</table>\n",
              "</div>"
            ],
            "text/plain": [
              "                                            sentence     intent\n",
              "0  what expression would i use to say i love you ...  translate\n",
              "1  can you tell me how to say 'i do not speak muc...  translate\n",
              "2  what is the equivalent of, 'life is good' in f...  translate\n",
              "3  tell me how to say, 'it is a beautiful morning...  translate\n",
              "4  if i were mongolian, how would i say that i am...  translate"
            ]
          },
          "execution_count": 2,
          "metadata": {},
          "output_type": "execute_result"
        }
      ],
      "source": [
        "import pandas as pd\n",
        "\n",
        "train_df = pd.read_csv('train.csv')\n",
        "val_df = pd.read_csv('val.csv')\n",
        "intent_responses = pd.read_csv('intent_response.csv')\n",
        "\n",
        "train_df.head()"
      ]
    },
    {
      "cell_type": "code",
      "execution_count": 3,
      "metadata": {},
      "outputs": [
        {
          "data": {
            "text/html": [
              "<div>\n",
              "<style scoped>\n",
              "    .dataframe tbody tr th:only-of-type {\n",
              "        vertical-align: middle;\n",
              "    }\n",
              "\n",
              "    .dataframe tbody tr th {\n",
              "        vertical-align: top;\n",
              "    }\n",
              "\n",
              "    .dataframe thead th {\n",
              "        text-align: right;\n",
              "    }\n",
              "</style>\n",
              "<table border=\"1\" class=\"dataframe\">\n",
              "  <thead>\n",
              "    <tr style=\"text-align: right;\">\n",
              "      <th></th>\n",
              "      <th>sentence</th>\n",
              "      <th>intent</th>\n",
              "    </tr>\n",
              "  </thead>\n",
              "  <tbody>\n",
              "    <tr>\n",
              "      <th>0</th>\n",
              "      <td>in spanish, meet me tomorrow is said how</td>\n",
              "      <td>translate</td>\n",
              "    </tr>\n",
              "    <tr>\n",
              "      <th>1</th>\n",
              "      <td>in french, how do i say, see you later</td>\n",
              "      <td>translate</td>\n",
              "    </tr>\n",
              "    <tr>\n",
              "      <th>2</th>\n",
              "      <td>how do you say hello in japanese</td>\n",
              "      <td>translate</td>\n",
              "    </tr>\n",
              "    <tr>\n",
              "      <th>3</th>\n",
              "      <td>how do i ask about the weather in chinese</td>\n",
              "      <td>translate</td>\n",
              "    </tr>\n",
              "    <tr>\n",
              "      <th>4</th>\n",
              "      <td>how can i say \"cancel my order\" in french</td>\n",
              "      <td>translate</td>\n",
              "    </tr>\n",
              "  </tbody>\n",
              "</table>\n",
              "</div>"
            ],
            "text/plain": [
              "                                    sentence     intent\n",
              "0   in spanish, meet me tomorrow is said how  translate\n",
              "1     in french, how do i say, see you later  translate\n",
              "2           how do you say hello in japanese  translate\n",
              "3  how do i ask about the weather in chinese  translate\n",
              "4  how can i say \"cancel my order\" in french  translate"
            ]
          },
          "execution_count": 3,
          "metadata": {},
          "output_type": "execute_result"
        }
      ],
      "source": [
        "val_df.head()"
      ]
    },
    {
      "cell_type": "code",
      "execution_count": 4,
      "metadata": {},
      "outputs": [
        {
          "data": {
            "text/html": [
              "<div>\n",
              "<style scoped>\n",
              "    .dataframe tbody tr th:only-of-type {\n",
              "        vertical-align: middle;\n",
              "    }\n",
              "\n",
              "    .dataframe tbody tr th {\n",
              "        vertical-align: top;\n",
              "    }\n",
              "\n",
              "    .dataframe thead th {\n",
              "        text-align: right;\n",
              "    }\n",
              "</style>\n",
              "<table border=\"1\" class=\"dataframe\">\n",
              "  <thead>\n",
              "    <tr style=\"text-align: right;\">\n",
              "      <th></th>\n",
              "      <th>intent</th>\n",
              "      <th>response</th>\n",
              "    </tr>\n",
              "  </thead>\n",
              "  <tbody>\n",
              "    <tr>\n",
              "      <th>0</th>\n",
              "      <td>translate</td>\n",
              "      <td>I can assist you in translating languages.</td>\n",
              "    </tr>\n",
              "    <tr>\n",
              "      <th>1</th>\n",
              "      <td>transfer</td>\n",
              "      <td>I'm here to help with transferring your reques...</td>\n",
              "    </tr>\n",
              "    <tr>\n",
              "      <th>2</th>\n",
              "      <td>timer</td>\n",
              "      <td>Let me set up a timer for you.</td>\n",
              "    </tr>\n",
              "    <tr>\n",
              "      <th>3</th>\n",
              "      <td>definition</td>\n",
              "      <td>I can provide you with definitions of words or...</td>\n",
              "    </tr>\n",
              "    <tr>\n",
              "      <th>4</th>\n",
              "      <td>meaning_of_life</td>\n",
              "      <td>Ah, the eternal question! Let's explore the me...</td>\n",
              "    </tr>\n",
              "  </tbody>\n",
              "</table>\n",
              "</div>"
            ],
            "text/plain": [
              "            intent                                           response\n",
              "0        translate         I can assist you in translating languages.\n",
              "1         transfer  I'm here to help with transferring your reques...\n",
              "2            timer                     Let me set up a timer for you.\n",
              "3       definition  I can provide you with definitions of words or...\n",
              "4  meaning_of_life  Ah, the eternal question! Let's explore the me..."
            ]
          },
          "execution_count": 4,
          "metadata": {},
          "output_type": "execute_result"
        }
      ],
      "source": [
        "intent_responses.head()"
      ]
    },
    {
      "cell_type": "markdown",
      "metadata": {
        "id": "62632nSsbHi4"
      },
      "source": [
        "The dataset has a 100 examples for many intents ('translate', 'transfer', 'timer', 'definition', 'meaning_of_life',\n",
        " 'insurance_change', 'find_phone', 'travel_alert', 'pto_request'...).\n",
        "\n",
        "Your ultimate goal will be to build a general purpose assistant that detects the user intent and relevant entities and provides generic answers. You will also try to discover if there are out of scope intents in the dataset.\n",
        "\n",
        "## Exercise\n",
        "\n",
        "In this exercise, you are asked to implement the following:\n",
        "\n",
        "1) EDA:\n",
        "* Count the number of the classes and the number of examples in the training set.\n",
        "* Display, on three histograms, the 20 words (without the english stop-words) with the highest counts for the classes 'transfer', 'timer' and 'meaning_of_life'.\n",
        "* What is the average number of words in the sentences?\n",
        "\n",
        "2) Data preparation:\n",
        "* Create a new column `processed_sentence` where you remove stop words, punctuation and perform lemmatization on column `sentence`. You can use the library of your choice (spacy, nltk, other...). (Execution takes about 2/3 min with spacy model `en_core_web_md`).\n",
        "* Separate the class `oos` from the datasets (remove it from `train_df`, `val_df` and put it in two new dataframes `train_df_oos` and `eval_df_oos`).\n",
        "\n",
        "\n",
        "3) Topic modeling:\n",
        "* Build the TF-IDF matrix without stop words using the column `sentence` from `train_df`.\n",
        "* Run LSA on it with 20 components.\n",
        "* Display the obtained topics (top 5 words with their weights).\n",
        "* Display all the distinct intents from `train_df`.\n",
        "* Do you see a relationship between the automatically extracted topics and the real intents?\n",
        "* Try to find some topics in all oos sentence (train and eval). You can use LSA and also display the sentences. Are these topics different from the existing intents?\n",
        "\n",
        "4) Classification:\n",
        "* Build the bag of words matrices (word counts, not tfidf) for the column `sentence` and for the column `processed_sentence`, for train and eval.\n",
        "* Train two Logistic Regression classifiers, one from each train matrix.\n",
        "* Evaluate both with accuracy and the micro F1 score on the eval set.\n",
        "* Switch to TF-IDF and see if the scores are better.\n",
        "* Select the best approach, train it on the follow subset of intents and and display the evaluation confusion matrix: 'translate', 'transfer', 'definition', 'change_language', 'payday', 'replacement_card_duration', 'balance', 'pay_bill', 'spending_history', 'credit_score', 'report_lost_card', 'damaged_card', 'credit_limit', 'account_blocked', 'report_fraud', 'direct_deposit', 'interest_rate', 'credit_limit_change', 'card_declined'.\n",
        "* Which pair of intents are the most confused together?\n",
        "\n",
        "5) Named Entity Recognition:\n",
        "\n",
        "For this task, let us focus on the following intents: **change_user_name, time, change_language, pto_request, travel_alert, timer, translate**.\n",
        "* Display 10 random training sentences from each intent. What are all the kinds of entities to recognize in these sentences?\n",
        "* Instantiate the spacy english model.\n",
        "* Add rule based recognition for entities languages, dates, and countries (some code snippets are provided below to help)\n",
        "* Display the entities detected by the model for the ten first sentences of the relevant intents.\n",
        "\n",
        "6) Chatbot: Now that you are able to detect the intents and extract the entities, build a simple loop that executes this scenario:\n",
        "* Ask the user to enter a sentence.\n",
        "* Extract the entities and the user intent.\n",
        "* Display the intent, the entities, and a generic response using `intent_responses`.\n",
        "\n",
        "Play the code and ask the following questions to show what happens:\n",
        "* \"How do you say hello in French?\"\n",
        "* \"I want to go on holidays from 2021-01-12 to 2021-01-25\"\n",
        "* \"What is the weather in Germany?\"\n",
        "* \"Can you set the language to Spanish?\""
      ]
    },
    {
      "cell_type": "markdown",
      "metadata": {
        "id": "Bao__AKN2V9t"
      },
      "source": [
        "## 1) EDA"
      ]
    },
    {
      "cell_type": "markdown",
      "metadata": {},
      "source": [
        "1) Comptons le nombre de classes dans le train.csv :"
      ]
    },
    {
      "cell_type": "code",
      "execution_count": 5,
      "metadata": {
        "id": "FjxPAcXV2Lcv"
      },
      "outputs": [
        {
          "name": "stdout",
          "output_type": "stream",
          "text": [
            "151\n"
          ]
        },
        {
          "data": {
            "text/plain": [
              "array(['translate', 'transfer', 'timer', 'definition', 'meaning_of_life',\n",
              "       'insurance_change', 'find_phone', 'travel_alert', 'pto_request',\n",
              "       'improve_credit_score', 'fun_fact', 'change_language', 'payday',\n",
              "       'replacement_card_duration', 'time', 'application_status',\n",
              "       'flight_status', 'flip_coin', 'change_user_name',\n",
              "       'where_are_you_from', 'shopping_list_update', 'what_can_i_ask_you',\n",
              "       'maybe', 'oil_change_how', 'restaurant_reservation', 'balance',\n",
              "       'confirm_reservation', 'freeze_account', 'rollover_401k',\n",
              "       'who_made_you', 'distance', 'user_name', 'timezone', 'next_song',\n",
              "       'transactions', 'restaurant_suggestion', 'rewards_balance',\n",
              "       'pay_bill', 'spending_history', 'pto_request_status',\n",
              "       'credit_score', 'new_card', 'lost_luggage', 'repeat', 'mpg',\n",
              "       'oil_change_when', 'yes', 'travel_suggestion', 'insurance',\n",
              "       'todo_list_update', 'reminder', 'change_speed', 'tire_pressure',\n",
              "       'no', 'apr', 'nutrition_info', 'calendar', 'uber', 'calculator',\n",
              "       'date', 'carry_on', 'pto_used', 'schedule_maintenance',\n",
              "       'travel_notification', 'sync_device', 'thank_you', 'roll_dice',\n",
              "       'food_last', 'cook_time', 'reminder_update', 'report_lost_card',\n",
              "       'ingredient_substitution', 'make_call', 'alarm', 'todo_list',\n",
              "       'change_accent', 'w2', 'bill_due', 'calories', 'damaged_card',\n",
              "       'restaurant_reviews', 'routing', 'do_you_have_pets',\n",
              "       'schedule_meeting', 'gas_type', 'plug_type', 'tire_change',\n",
              "       'exchange_rate', 'next_holiday', 'change_volume',\n",
              "       'who_do_you_work_for', 'credit_limit', 'how_busy',\n",
              "       'accept_reservations', 'order_status', 'pin_change', 'goodbye',\n",
              "       'account_blocked', 'what_song', 'international_fees',\n",
              "       'last_maintenance', 'meeting_schedule', 'ingredients_list',\n",
              "       'report_fraud', 'measurement_conversion', 'smart_home',\n",
              "       'book_hotel', 'current_location', 'weather', 'taxes',\n",
              "       'min_payment', 'whisper_mode', 'cancel', 'international_visa',\n",
              "       'vaccines', 'pto_balance', 'directions', 'spelling', 'greeting',\n",
              "       'reset_settings', 'what_is_your_name', 'direct_deposit',\n",
              "       'interest_rate', 'credit_limit_change', 'what_are_your_hobbies',\n",
              "       'book_flight', 'shopping_list', 'text', 'bill_balance',\n",
              "       'share_location', 'redeem_rewards', 'play_music',\n",
              "       'calendar_update', 'are_you_a_bot', 'gas', 'expiration_date',\n",
              "       'update_playlist', 'cancel_reservation', 'tell_joke',\n",
              "       'change_ai_name', 'how_old_are_you', 'car_rental', 'jump_start',\n",
              "       'meal_suggestion', 'recipe', 'income', 'order', 'traffic',\n",
              "       'order_checks', 'card_declined', 'oos'], dtype=object)"
            ]
          },
          "execution_count": 5,
          "metadata": {},
          "output_type": "execute_result"
        }
      ],
      "source": [
        "print(len(train_df['intent'].unique()))\n",
        "train_df['intent'].unique()"
      ]
    },
    {
      "cell_type": "markdown",
      "metadata": {},
      "source": [
        "On obtient ainsi 151 classes différentes dans le train.csv"
      ]
    },
    {
      "cell_type": "markdown",
      "metadata": {},
      "source": [
        "On cherche aussi à savoir le nombre d'exemple présent :"
      ]
    },
    {
      "cell_type": "code",
      "execution_count": 6,
      "metadata": {},
      "outputs": [
        {
          "data": {
            "text/plain": [
              "sentence    0\n",
              "intent      0\n",
              "dtype: int64"
            ]
          },
          "execution_count": 6,
          "metadata": {},
          "output_type": "execute_result"
        }
      ],
      "source": [
        "train_df.isnull().sum()"
      ]
    },
    {
      "cell_type": "code",
      "execution_count": 7,
      "metadata": {},
      "outputs": [
        {
          "name": "stdout",
          "output_type": "stream",
          "text": [
            "15100\n"
          ]
        }
      ],
      "source": [
        "print(len(train_df))"
      ]
    },
    {
      "cell_type": "markdown",
      "metadata": {},
      "source": [
        "On constate ainsi que nous avons 15100 exemples dans notre dataset."
      ]
    },
    {
      "cell_type": "markdown",
      "metadata": {},
      "source": [
        "2) Afficher l'histogramme des 20 mots les plus représentés pour les classes suivantes: 'transfer', 'timer' and 'meaning_of_life'"
      ]
    },
    {
      "cell_type": "code",
      "execution_count": 8,
      "metadata": {},
      "outputs": [
        {
          "name": "stderr",
          "output_type": "stream",
          "text": [
            "/home/sandro/.local/lib/python3.10/site-packages/sklearn/feature_extraction/text.py:404: UserWarning: Your stop_words may be inconsistent with your preprocessing. Tokenizing the stop words generated tokens ['aren', 'can', 'couldn', 'didn', 'doesn', 'don', 'hadn', 'hasn', 'haven', 'isn', 'let', 'll', 'mustn', 're', 'shan', 'shouldn', 've', 'wasn', 'weren', 'won', 'wouldn'] not in stop_words.\n",
            "  warnings.warn(\n"
          ]
        },
        {
          "data": {
            "application/vnd.plotly.v1+json": {
              "config": {
                "plotlyServerURL": "https://plot.ly"
              },
              "data": [
                {
                  "alignmentgroup": "True",
                  "hovertemplate": "word=%{x}<br>count=%{y}<extra></extra>",
                  "legendgroup": "",
                  "marker": {
                    "color": "#636efa",
                    "pattern": {
                      "shape": ""
                    }
                  },
                  "name": "",
                  "offsetgroup": "",
                  "orientation": "v",
                  "showlegend": false,
                  "textposition": "auto",
                  "type": "bar",
                  "x": [
                    "account",
                    "transfer",
                    "dollars",
                    "checking",
                    "one",
                    "money",
                    "savings",
                    "send",
                    "bank",
                    "need",
                    "america",
                    "move",
                    "please",
                    "accounts",
                    "ten",
                    "another",
                    "100",
                    "capital",
                    "can",
                    "40"
                  ],
                  "xaxis": "x",
                  "y": [
                    57,
                    49,
                    32,
                    28,
                    27,
                    26,
                    25,
                    25,
                    16,
                    12,
                    12,
                    12,
                    12,
                    11,
                    11,
                    11,
                    9,
                    9,
                    6,
                    5
                  ],
                  "yaxis": "y"
                }
              ],
              "layout": {
                "barmode": "relative",
                "legend": {
                  "tracegroupgap": 0
                },
                "template": {
                  "data": {
                    "bar": [
                      {
                        "error_x": {
                          "color": "#2a3f5f"
                        },
                        "error_y": {
                          "color": "#2a3f5f"
                        },
                        "marker": {
                          "line": {
                            "color": "#E5ECF6",
                            "width": 0.5
                          },
                          "pattern": {
                            "fillmode": "overlay",
                            "size": 10,
                            "solidity": 0.2
                          }
                        },
                        "type": "bar"
                      }
                    ],
                    "barpolar": [
                      {
                        "marker": {
                          "line": {
                            "color": "#E5ECF6",
                            "width": 0.5
                          },
                          "pattern": {
                            "fillmode": "overlay",
                            "size": 10,
                            "solidity": 0.2
                          }
                        },
                        "type": "barpolar"
                      }
                    ],
                    "carpet": [
                      {
                        "aaxis": {
                          "endlinecolor": "#2a3f5f",
                          "gridcolor": "white",
                          "linecolor": "white",
                          "minorgridcolor": "white",
                          "startlinecolor": "#2a3f5f"
                        },
                        "baxis": {
                          "endlinecolor": "#2a3f5f",
                          "gridcolor": "white",
                          "linecolor": "white",
                          "minorgridcolor": "white",
                          "startlinecolor": "#2a3f5f"
                        },
                        "type": "carpet"
                      }
                    ],
                    "choropleth": [
                      {
                        "colorbar": {
                          "outlinewidth": 0,
                          "ticks": ""
                        },
                        "type": "choropleth"
                      }
                    ],
                    "contour": [
                      {
                        "colorbar": {
                          "outlinewidth": 0,
                          "ticks": ""
                        },
                        "colorscale": [
                          [
                            0,
                            "#0d0887"
                          ],
                          [
                            0.1111111111111111,
                            "#46039f"
                          ],
                          [
                            0.2222222222222222,
                            "#7201a8"
                          ],
                          [
                            0.3333333333333333,
                            "#9c179e"
                          ],
                          [
                            0.4444444444444444,
                            "#bd3786"
                          ],
                          [
                            0.5555555555555556,
                            "#d8576b"
                          ],
                          [
                            0.6666666666666666,
                            "#ed7953"
                          ],
                          [
                            0.7777777777777778,
                            "#fb9f3a"
                          ],
                          [
                            0.8888888888888888,
                            "#fdca26"
                          ],
                          [
                            1,
                            "#f0f921"
                          ]
                        ],
                        "type": "contour"
                      }
                    ],
                    "contourcarpet": [
                      {
                        "colorbar": {
                          "outlinewidth": 0,
                          "ticks": ""
                        },
                        "type": "contourcarpet"
                      }
                    ],
                    "heatmap": [
                      {
                        "colorbar": {
                          "outlinewidth": 0,
                          "ticks": ""
                        },
                        "colorscale": [
                          [
                            0,
                            "#0d0887"
                          ],
                          [
                            0.1111111111111111,
                            "#46039f"
                          ],
                          [
                            0.2222222222222222,
                            "#7201a8"
                          ],
                          [
                            0.3333333333333333,
                            "#9c179e"
                          ],
                          [
                            0.4444444444444444,
                            "#bd3786"
                          ],
                          [
                            0.5555555555555556,
                            "#d8576b"
                          ],
                          [
                            0.6666666666666666,
                            "#ed7953"
                          ],
                          [
                            0.7777777777777778,
                            "#fb9f3a"
                          ],
                          [
                            0.8888888888888888,
                            "#fdca26"
                          ],
                          [
                            1,
                            "#f0f921"
                          ]
                        ],
                        "type": "heatmap"
                      }
                    ],
                    "heatmapgl": [
                      {
                        "colorbar": {
                          "outlinewidth": 0,
                          "ticks": ""
                        },
                        "colorscale": [
                          [
                            0,
                            "#0d0887"
                          ],
                          [
                            0.1111111111111111,
                            "#46039f"
                          ],
                          [
                            0.2222222222222222,
                            "#7201a8"
                          ],
                          [
                            0.3333333333333333,
                            "#9c179e"
                          ],
                          [
                            0.4444444444444444,
                            "#bd3786"
                          ],
                          [
                            0.5555555555555556,
                            "#d8576b"
                          ],
                          [
                            0.6666666666666666,
                            "#ed7953"
                          ],
                          [
                            0.7777777777777778,
                            "#fb9f3a"
                          ],
                          [
                            0.8888888888888888,
                            "#fdca26"
                          ],
                          [
                            1,
                            "#f0f921"
                          ]
                        ],
                        "type": "heatmapgl"
                      }
                    ],
                    "histogram": [
                      {
                        "marker": {
                          "pattern": {
                            "fillmode": "overlay",
                            "size": 10,
                            "solidity": 0.2
                          }
                        },
                        "type": "histogram"
                      }
                    ],
                    "histogram2d": [
                      {
                        "colorbar": {
                          "outlinewidth": 0,
                          "ticks": ""
                        },
                        "colorscale": [
                          [
                            0,
                            "#0d0887"
                          ],
                          [
                            0.1111111111111111,
                            "#46039f"
                          ],
                          [
                            0.2222222222222222,
                            "#7201a8"
                          ],
                          [
                            0.3333333333333333,
                            "#9c179e"
                          ],
                          [
                            0.4444444444444444,
                            "#bd3786"
                          ],
                          [
                            0.5555555555555556,
                            "#d8576b"
                          ],
                          [
                            0.6666666666666666,
                            "#ed7953"
                          ],
                          [
                            0.7777777777777778,
                            "#fb9f3a"
                          ],
                          [
                            0.8888888888888888,
                            "#fdca26"
                          ],
                          [
                            1,
                            "#f0f921"
                          ]
                        ],
                        "type": "histogram2d"
                      }
                    ],
                    "histogram2dcontour": [
                      {
                        "colorbar": {
                          "outlinewidth": 0,
                          "ticks": ""
                        },
                        "colorscale": [
                          [
                            0,
                            "#0d0887"
                          ],
                          [
                            0.1111111111111111,
                            "#46039f"
                          ],
                          [
                            0.2222222222222222,
                            "#7201a8"
                          ],
                          [
                            0.3333333333333333,
                            "#9c179e"
                          ],
                          [
                            0.4444444444444444,
                            "#bd3786"
                          ],
                          [
                            0.5555555555555556,
                            "#d8576b"
                          ],
                          [
                            0.6666666666666666,
                            "#ed7953"
                          ],
                          [
                            0.7777777777777778,
                            "#fb9f3a"
                          ],
                          [
                            0.8888888888888888,
                            "#fdca26"
                          ],
                          [
                            1,
                            "#f0f921"
                          ]
                        ],
                        "type": "histogram2dcontour"
                      }
                    ],
                    "mesh3d": [
                      {
                        "colorbar": {
                          "outlinewidth": 0,
                          "ticks": ""
                        },
                        "type": "mesh3d"
                      }
                    ],
                    "parcoords": [
                      {
                        "line": {
                          "colorbar": {
                            "outlinewidth": 0,
                            "ticks": ""
                          }
                        },
                        "type": "parcoords"
                      }
                    ],
                    "pie": [
                      {
                        "automargin": true,
                        "type": "pie"
                      }
                    ],
                    "scatter": [
                      {
                        "fillpattern": {
                          "fillmode": "overlay",
                          "size": 10,
                          "solidity": 0.2
                        },
                        "type": "scatter"
                      }
                    ],
                    "scatter3d": [
                      {
                        "line": {
                          "colorbar": {
                            "outlinewidth": 0,
                            "ticks": ""
                          }
                        },
                        "marker": {
                          "colorbar": {
                            "outlinewidth": 0,
                            "ticks": ""
                          }
                        },
                        "type": "scatter3d"
                      }
                    ],
                    "scattercarpet": [
                      {
                        "marker": {
                          "colorbar": {
                            "outlinewidth": 0,
                            "ticks": ""
                          }
                        },
                        "type": "scattercarpet"
                      }
                    ],
                    "scattergeo": [
                      {
                        "marker": {
                          "colorbar": {
                            "outlinewidth": 0,
                            "ticks": ""
                          }
                        },
                        "type": "scattergeo"
                      }
                    ],
                    "scattergl": [
                      {
                        "marker": {
                          "colorbar": {
                            "outlinewidth": 0,
                            "ticks": ""
                          }
                        },
                        "type": "scattergl"
                      }
                    ],
                    "scattermapbox": [
                      {
                        "marker": {
                          "colorbar": {
                            "outlinewidth": 0,
                            "ticks": ""
                          }
                        },
                        "type": "scattermapbox"
                      }
                    ],
                    "scatterpolar": [
                      {
                        "marker": {
                          "colorbar": {
                            "outlinewidth": 0,
                            "ticks": ""
                          }
                        },
                        "type": "scatterpolar"
                      }
                    ],
                    "scatterpolargl": [
                      {
                        "marker": {
                          "colorbar": {
                            "outlinewidth": 0,
                            "ticks": ""
                          }
                        },
                        "type": "scatterpolargl"
                      }
                    ],
                    "scatterternary": [
                      {
                        "marker": {
                          "colorbar": {
                            "outlinewidth": 0,
                            "ticks": ""
                          }
                        },
                        "type": "scatterternary"
                      }
                    ],
                    "surface": [
                      {
                        "colorbar": {
                          "outlinewidth": 0,
                          "ticks": ""
                        },
                        "colorscale": [
                          [
                            0,
                            "#0d0887"
                          ],
                          [
                            0.1111111111111111,
                            "#46039f"
                          ],
                          [
                            0.2222222222222222,
                            "#7201a8"
                          ],
                          [
                            0.3333333333333333,
                            "#9c179e"
                          ],
                          [
                            0.4444444444444444,
                            "#bd3786"
                          ],
                          [
                            0.5555555555555556,
                            "#d8576b"
                          ],
                          [
                            0.6666666666666666,
                            "#ed7953"
                          ],
                          [
                            0.7777777777777778,
                            "#fb9f3a"
                          ],
                          [
                            0.8888888888888888,
                            "#fdca26"
                          ],
                          [
                            1,
                            "#f0f921"
                          ]
                        ],
                        "type": "surface"
                      }
                    ],
                    "table": [
                      {
                        "cells": {
                          "fill": {
                            "color": "#EBF0F8"
                          },
                          "line": {
                            "color": "white"
                          }
                        },
                        "header": {
                          "fill": {
                            "color": "#C8D4E3"
                          },
                          "line": {
                            "color": "white"
                          }
                        },
                        "type": "table"
                      }
                    ]
                  },
                  "layout": {
                    "annotationdefaults": {
                      "arrowcolor": "#2a3f5f",
                      "arrowhead": 0,
                      "arrowwidth": 1
                    },
                    "autotypenumbers": "strict",
                    "coloraxis": {
                      "colorbar": {
                        "outlinewidth": 0,
                        "ticks": ""
                      }
                    },
                    "colorscale": {
                      "diverging": [
                        [
                          0,
                          "#8e0152"
                        ],
                        [
                          0.1,
                          "#c51b7d"
                        ],
                        [
                          0.2,
                          "#de77ae"
                        ],
                        [
                          0.3,
                          "#f1b6da"
                        ],
                        [
                          0.4,
                          "#fde0ef"
                        ],
                        [
                          0.5,
                          "#f7f7f7"
                        ],
                        [
                          0.6,
                          "#e6f5d0"
                        ],
                        [
                          0.7,
                          "#b8e186"
                        ],
                        [
                          0.8,
                          "#7fbc41"
                        ],
                        [
                          0.9,
                          "#4d9221"
                        ],
                        [
                          1,
                          "#276419"
                        ]
                      ],
                      "sequential": [
                        [
                          0,
                          "#0d0887"
                        ],
                        [
                          0.1111111111111111,
                          "#46039f"
                        ],
                        [
                          0.2222222222222222,
                          "#7201a8"
                        ],
                        [
                          0.3333333333333333,
                          "#9c179e"
                        ],
                        [
                          0.4444444444444444,
                          "#bd3786"
                        ],
                        [
                          0.5555555555555556,
                          "#d8576b"
                        ],
                        [
                          0.6666666666666666,
                          "#ed7953"
                        ],
                        [
                          0.7777777777777778,
                          "#fb9f3a"
                        ],
                        [
                          0.8888888888888888,
                          "#fdca26"
                        ],
                        [
                          1,
                          "#f0f921"
                        ]
                      ],
                      "sequentialminus": [
                        [
                          0,
                          "#0d0887"
                        ],
                        [
                          0.1111111111111111,
                          "#46039f"
                        ],
                        [
                          0.2222222222222222,
                          "#7201a8"
                        ],
                        [
                          0.3333333333333333,
                          "#9c179e"
                        ],
                        [
                          0.4444444444444444,
                          "#bd3786"
                        ],
                        [
                          0.5555555555555556,
                          "#d8576b"
                        ],
                        [
                          0.6666666666666666,
                          "#ed7953"
                        ],
                        [
                          0.7777777777777778,
                          "#fb9f3a"
                        ],
                        [
                          0.8888888888888888,
                          "#fdca26"
                        ],
                        [
                          1,
                          "#f0f921"
                        ]
                      ]
                    },
                    "colorway": [
                      "#636efa",
                      "#EF553B",
                      "#00cc96",
                      "#ab63fa",
                      "#FFA15A",
                      "#19d3f3",
                      "#FF6692",
                      "#B6E880",
                      "#FF97FF",
                      "#FECB52"
                    ],
                    "font": {
                      "color": "#2a3f5f"
                    },
                    "geo": {
                      "bgcolor": "white",
                      "lakecolor": "white",
                      "landcolor": "#E5ECF6",
                      "showlakes": true,
                      "showland": true,
                      "subunitcolor": "white"
                    },
                    "hoverlabel": {
                      "align": "left"
                    },
                    "hovermode": "closest",
                    "mapbox": {
                      "style": "light"
                    },
                    "paper_bgcolor": "white",
                    "plot_bgcolor": "#E5ECF6",
                    "polar": {
                      "angularaxis": {
                        "gridcolor": "white",
                        "linecolor": "white",
                        "ticks": ""
                      },
                      "bgcolor": "#E5ECF6",
                      "radialaxis": {
                        "gridcolor": "white",
                        "linecolor": "white",
                        "ticks": ""
                      }
                    },
                    "scene": {
                      "xaxis": {
                        "backgroundcolor": "#E5ECF6",
                        "gridcolor": "white",
                        "gridwidth": 2,
                        "linecolor": "white",
                        "showbackground": true,
                        "ticks": "",
                        "zerolinecolor": "white"
                      },
                      "yaxis": {
                        "backgroundcolor": "#E5ECF6",
                        "gridcolor": "white",
                        "gridwidth": 2,
                        "linecolor": "white",
                        "showbackground": true,
                        "ticks": "",
                        "zerolinecolor": "white"
                      },
                      "zaxis": {
                        "backgroundcolor": "#E5ECF6",
                        "gridcolor": "white",
                        "gridwidth": 2,
                        "linecolor": "white",
                        "showbackground": true,
                        "ticks": "",
                        "zerolinecolor": "white"
                      }
                    },
                    "shapedefaults": {
                      "line": {
                        "color": "#2a3f5f"
                      }
                    },
                    "ternary": {
                      "aaxis": {
                        "gridcolor": "white",
                        "linecolor": "white",
                        "ticks": ""
                      },
                      "baxis": {
                        "gridcolor": "white",
                        "linecolor": "white",
                        "ticks": ""
                      },
                      "bgcolor": "#E5ECF6",
                      "caxis": {
                        "gridcolor": "white",
                        "linecolor": "white",
                        "ticks": ""
                      }
                    },
                    "title": {
                      "x": 0.05
                    },
                    "xaxis": {
                      "automargin": true,
                      "gridcolor": "white",
                      "linecolor": "white",
                      "ticks": "",
                      "title": {
                        "standoff": 15
                      },
                      "zerolinecolor": "white",
                      "zerolinewidth": 2
                    },
                    "yaxis": {
                      "automargin": true,
                      "gridcolor": "white",
                      "linecolor": "white",
                      "ticks": "",
                      "title": {
                        "standoff": 15
                      },
                      "zerolinecolor": "white",
                      "zerolinewidth": 2
                    }
                  }
                },
                "title": {
                  "text": "Top 20 words in transfer"
                },
                "xaxis": {
                  "anchor": "y",
                  "domain": [
                    0,
                    1
                  ],
                  "title": {
                    "text": "word"
                  }
                },
                "yaxis": {
                  "anchor": "x",
                  "domain": [
                    0,
                    1
                  ],
                  "title": {
                    "text": "count"
                  }
                }
              }
            }
          },
          "metadata": {},
          "output_type": "display_data"
        }
      ],
      "source": [
        "from sklearn.feature_extraction.text import TfidfVectorizer\n",
        "from sklearn.feature_extraction.text import CountVectorizer\n",
        "import matplotlib.pyplot as plt\n",
        "import seaborn as sns\n",
        "import string\n",
        "import re\n",
        "\n",
        "def clean_text(text):\n",
        "    text = str(text).lower()\n",
        "    text = re.sub('\\[.*?\\]', '', text)\n",
        "    text = re.sub('https?://\\S+|www\\.\\S+', '', text)\n",
        "    text = re.sub(f'[{string.punctuation}]', '', text) #remove punctuation (list available in string.punctuation)\n",
        "    text = re.sub('\\n', '', text) #remove new line\n",
        "    return text\n",
        "\n",
        "def count_words(text):\n",
        "    words = text.split(' ')\n",
        "    return len(words)\n",
        "\n",
        "train_df['new_sentence'] = train_df['sentence'].apply(clean_text) #apply cleaning\n",
        "train_df['sentence_len'] = train_df['sentence'].apply(count_words)\n",
        "\n",
        "from stop_words import get_stop_words\n",
        "\n",
        "import numpy as np\n",
        "def get_top_n_words_without_stop_words(corpus, n=None):\n",
        "    vectorizer = CountVectorizer(stop_words=get_stop_words('en'))\n",
        "    X = vectorizer.fit_transform(corpus)\n",
        "    words = vectorizer.get_feature_names_out()\n",
        "    counts = X.toarray().sum(axis=0)\n",
        "    top_idx = np.argsort(-counts)[:n]\n",
        "    top_words = words[top_idx]\n",
        "    top_values = counts[top_idx]\n",
        "    return top_words, top_values\n",
        "\n",
        "common_words, common_words_ct = get_top_n_words_without_stop_words(train_df[train_df['intent'] == 'transfer']['new_sentence'], 20)\n",
        "df1 = pd.DataFrame({'word':common_words , 'count':common_words_ct})\n",
        "df1_sorted = df1.sort_values('count',ascending=False)\n",
        "\n",
        "import plotly.express as px\n",
        "\n",
        "fig = px.bar(df1_sorted, x='word', y='count', title='Top 20 words in transfer')\n",
        "fig.show()"
      ]
    },
    {
      "cell_type": "code",
      "execution_count": 9,
      "metadata": {},
      "outputs": [
        {
          "name": "stderr",
          "output_type": "stream",
          "text": [
            "/home/sandro/.local/lib/python3.10/site-packages/sklearn/feature_extraction/text.py:404: UserWarning:\n",
            "\n",
            "Your stop_words may be inconsistent with your preprocessing. Tokenizing the stop words generated tokens ['aren', 'can', 'couldn', 'didn', 'doesn', 'don', 'hadn', 'hasn', 'haven', 'isn', 'let', 'll', 'mustn', 're', 'shan', 'shouldn', 've', 'wasn', 'weren', 'won', 'wouldn'] not in stop_words.\n",
            "\n"
          ]
        },
        {
          "data": {
            "application/vnd.plotly.v1+json": {
              "config": {
                "plotlyServerURL": "https://plot.ly"
              },
              "data": [
                {
                  "alignmentgroup": "True",
                  "hovertemplate": "word=%{x}<br>count=%{y}<extra></extra>",
                  "legendgroup": "",
                  "marker": {
                    "color": "#636efa",
                    "pattern": {
                      "shape": ""
                    }
                  },
                  "name": "",
                  "offsetgroup": "",
                  "orientation": "v",
                  "showlegend": false,
                  "textposition": "auto",
                  "type": "bar",
                  "x": [
                    "timer",
                    "set",
                    "minutes",
                    "minute",
                    "please",
                    "10",
                    "need",
                    "can",
                    "two",
                    "start",
                    "seconds",
                    "want",
                    "20",
                    "ten",
                    "hour",
                    "now",
                    "get",
                    "lets",
                    "15",
                    "new"
                  ],
                  "xaxis": "x",
                  "y": [
                    86,
                    63,
                    39,
                    19,
                    18,
                    13,
                    11,
                    9,
                    8,
                    8,
                    5,
                    5,
                    4,
                    3,
                    3,
                    3,
                    3,
                    3,
                    3,
                    2
                  ],
                  "yaxis": "y"
                }
              ],
              "layout": {
                "barmode": "relative",
                "legend": {
                  "tracegroupgap": 0
                },
                "template": {
                  "data": {
                    "bar": [
                      {
                        "error_x": {
                          "color": "#2a3f5f"
                        },
                        "error_y": {
                          "color": "#2a3f5f"
                        },
                        "marker": {
                          "line": {
                            "color": "#E5ECF6",
                            "width": 0.5
                          },
                          "pattern": {
                            "fillmode": "overlay",
                            "size": 10,
                            "solidity": 0.2
                          }
                        },
                        "type": "bar"
                      }
                    ],
                    "barpolar": [
                      {
                        "marker": {
                          "line": {
                            "color": "#E5ECF6",
                            "width": 0.5
                          },
                          "pattern": {
                            "fillmode": "overlay",
                            "size": 10,
                            "solidity": 0.2
                          }
                        },
                        "type": "barpolar"
                      }
                    ],
                    "carpet": [
                      {
                        "aaxis": {
                          "endlinecolor": "#2a3f5f",
                          "gridcolor": "white",
                          "linecolor": "white",
                          "minorgridcolor": "white",
                          "startlinecolor": "#2a3f5f"
                        },
                        "baxis": {
                          "endlinecolor": "#2a3f5f",
                          "gridcolor": "white",
                          "linecolor": "white",
                          "minorgridcolor": "white",
                          "startlinecolor": "#2a3f5f"
                        },
                        "type": "carpet"
                      }
                    ],
                    "choropleth": [
                      {
                        "colorbar": {
                          "outlinewidth": 0,
                          "ticks": ""
                        },
                        "type": "choropleth"
                      }
                    ],
                    "contour": [
                      {
                        "colorbar": {
                          "outlinewidth": 0,
                          "ticks": ""
                        },
                        "colorscale": [
                          [
                            0,
                            "#0d0887"
                          ],
                          [
                            0.1111111111111111,
                            "#46039f"
                          ],
                          [
                            0.2222222222222222,
                            "#7201a8"
                          ],
                          [
                            0.3333333333333333,
                            "#9c179e"
                          ],
                          [
                            0.4444444444444444,
                            "#bd3786"
                          ],
                          [
                            0.5555555555555556,
                            "#d8576b"
                          ],
                          [
                            0.6666666666666666,
                            "#ed7953"
                          ],
                          [
                            0.7777777777777778,
                            "#fb9f3a"
                          ],
                          [
                            0.8888888888888888,
                            "#fdca26"
                          ],
                          [
                            1,
                            "#f0f921"
                          ]
                        ],
                        "type": "contour"
                      }
                    ],
                    "contourcarpet": [
                      {
                        "colorbar": {
                          "outlinewidth": 0,
                          "ticks": ""
                        },
                        "type": "contourcarpet"
                      }
                    ],
                    "heatmap": [
                      {
                        "colorbar": {
                          "outlinewidth": 0,
                          "ticks": ""
                        },
                        "colorscale": [
                          [
                            0,
                            "#0d0887"
                          ],
                          [
                            0.1111111111111111,
                            "#46039f"
                          ],
                          [
                            0.2222222222222222,
                            "#7201a8"
                          ],
                          [
                            0.3333333333333333,
                            "#9c179e"
                          ],
                          [
                            0.4444444444444444,
                            "#bd3786"
                          ],
                          [
                            0.5555555555555556,
                            "#d8576b"
                          ],
                          [
                            0.6666666666666666,
                            "#ed7953"
                          ],
                          [
                            0.7777777777777778,
                            "#fb9f3a"
                          ],
                          [
                            0.8888888888888888,
                            "#fdca26"
                          ],
                          [
                            1,
                            "#f0f921"
                          ]
                        ],
                        "type": "heatmap"
                      }
                    ],
                    "heatmapgl": [
                      {
                        "colorbar": {
                          "outlinewidth": 0,
                          "ticks": ""
                        },
                        "colorscale": [
                          [
                            0,
                            "#0d0887"
                          ],
                          [
                            0.1111111111111111,
                            "#46039f"
                          ],
                          [
                            0.2222222222222222,
                            "#7201a8"
                          ],
                          [
                            0.3333333333333333,
                            "#9c179e"
                          ],
                          [
                            0.4444444444444444,
                            "#bd3786"
                          ],
                          [
                            0.5555555555555556,
                            "#d8576b"
                          ],
                          [
                            0.6666666666666666,
                            "#ed7953"
                          ],
                          [
                            0.7777777777777778,
                            "#fb9f3a"
                          ],
                          [
                            0.8888888888888888,
                            "#fdca26"
                          ],
                          [
                            1,
                            "#f0f921"
                          ]
                        ],
                        "type": "heatmapgl"
                      }
                    ],
                    "histogram": [
                      {
                        "marker": {
                          "pattern": {
                            "fillmode": "overlay",
                            "size": 10,
                            "solidity": 0.2
                          }
                        },
                        "type": "histogram"
                      }
                    ],
                    "histogram2d": [
                      {
                        "colorbar": {
                          "outlinewidth": 0,
                          "ticks": ""
                        },
                        "colorscale": [
                          [
                            0,
                            "#0d0887"
                          ],
                          [
                            0.1111111111111111,
                            "#46039f"
                          ],
                          [
                            0.2222222222222222,
                            "#7201a8"
                          ],
                          [
                            0.3333333333333333,
                            "#9c179e"
                          ],
                          [
                            0.4444444444444444,
                            "#bd3786"
                          ],
                          [
                            0.5555555555555556,
                            "#d8576b"
                          ],
                          [
                            0.6666666666666666,
                            "#ed7953"
                          ],
                          [
                            0.7777777777777778,
                            "#fb9f3a"
                          ],
                          [
                            0.8888888888888888,
                            "#fdca26"
                          ],
                          [
                            1,
                            "#f0f921"
                          ]
                        ],
                        "type": "histogram2d"
                      }
                    ],
                    "histogram2dcontour": [
                      {
                        "colorbar": {
                          "outlinewidth": 0,
                          "ticks": ""
                        },
                        "colorscale": [
                          [
                            0,
                            "#0d0887"
                          ],
                          [
                            0.1111111111111111,
                            "#46039f"
                          ],
                          [
                            0.2222222222222222,
                            "#7201a8"
                          ],
                          [
                            0.3333333333333333,
                            "#9c179e"
                          ],
                          [
                            0.4444444444444444,
                            "#bd3786"
                          ],
                          [
                            0.5555555555555556,
                            "#d8576b"
                          ],
                          [
                            0.6666666666666666,
                            "#ed7953"
                          ],
                          [
                            0.7777777777777778,
                            "#fb9f3a"
                          ],
                          [
                            0.8888888888888888,
                            "#fdca26"
                          ],
                          [
                            1,
                            "#f0f921"
                          ]
                        ],
                        "type": "histogram2dcontour"
                      }
                    ],
                    "mesh3d": [
                      {
                        "colorbar": {
                          "outlinewidth": 0,
                          "ticks": ""
                        },
                        "type": "mesh3d"
                      }
                    ],
                    "parcoords": [
                      {
                        "line": {
                          "colorbar": {
                            "outlinewidth": 0,
                            "ticks": ""
                          }
                        },
                        "type": "parcoords"
                      }
                    ],
                    "pie": [
                      {
                        "automargin": true,
                        "type": "pie"
                      }
                    ],
                    "scatter": [
                      {
                        "fillpattern": {
                          "fillmode": "overlay",
                          "size": 10,
                          "solidity": 0.2
                        },
                        "type": "scatter"
                      }
                    ],
                    "scatter3d": [
                      {
                        "line": {
                          "colorbar": {
                            "outlinewidth": 0,
                            "ticks": ""
                          }
                        },
                        "marker": {
                          "colorbar": {
                            "outlinewidth": 0,
                            "ticks": ""
                          }
                        },
                        "type": "scatter3d"
                      }
                    ],
                    "scattercarpet": [
                      {
                        "marker": {
                          "colorbar": {
                            "outlinewidth": 0,
                            "ticks": ""
                          }
                        },
                        "type": "scattercarpet"
                      }
                    ],
                    "scattergeo": [
                      {
                        "marker": {
                          "colorbar": {
                            "outlinewidth": 0,
                            "ticks": ""
                          }
                        },
                        "type": "scattergeo"
                      }
                    ],
                    "scattergl": [
                      {
                        "marker": {
                          "colorbar": {
                            "outlinewidth": 0,
                            "ticks": ""
                          }
                        },
                        "type": "scattergl"
                      }
                    ],
                    "scattermapbox": [
                      {
                        "marker": {
                          "colorbar": {
                            "outlinewidth": 0,
                            "ticks": ""
                          }
                        },
                        "type": "scattermapbox"
                      }
                    ],
                    "scatterpolar": [
                      {
                        "marker": {
                          "colorbar": {
                            "outlinewidth": 0,
                            "ticks": ""
                          }
                        },
                        "type": "scatterpolar"
                      }
                    ],
                    "scatterpolargl": [
                      {
                        "marker": {
                          "colorbar": {
                            "outlinewidth": 0,
                            "ticks": ""
                          }
                        },
                        "type": "scatterpolargl"
                      }
                    ],
                    "scatterternary": [
                      {
                        "marker": {
                          "colorbar": {
                            "outlinewidth": 0,
                            "ticks": ""
                          }
                        },
                        "type": "scatterternary"
                      }
                    ],
                    "surface": [
                      {
                        "colorbar": {
                          "outlinewidth": 0,
                          "ticks": ""
                        },
                        "colorscale": [
                          [
                            0,
                            "#0d0887"
                          ],
                          [
                            0.1111111111111111,
                            "#46039f"
                          ],
                          [
                            0.2222222222222222,
                            "#7201a8"
                          ],
                          [
                            0.3333333333333333,
                            "#9c179e"
                          ],
                          [
                            0.4444444444444444,
                            "#bd3786"
                          ],
                          [
                            0.5555555555555556,
                            "#d8576b"
                          ],
                          [
                            0.6666666666666666,
                            "#ed7953"
                          ],
                          [
                            0.7777777777777778,
                            "#fb9f3a"
                          ],
                          [
                            0.8888888888888888,
                            "#fdca26"
                          ],
                          [
                            1,
                            "#f0f921"
                          ]
                        ],
                        "type": "surface"
                      }
                    ],
                    "table": [
                      {
                        "cells": {
                          "fill": {
                            "color": "#EBF0F8"
                          },
                          "line": {
                            "color": "white"
                          }
                        },
                        "header": {
                          "fill": {
                            "color": "#C8D4E3"
                          },
                          "line": {
                            "color": "white"
                          }
                        },
                        "type": "table"
                      }
                    ]
                  },
                  "layout": {
                    "annotationdefaults": {
                      "arrowcolor": "#2a3f5f",
                      "arrowhead": 0,
                      "arrowwidth": 1
                    },
                    "autotypenumbers": "strict",
                    "coloraxis": {
                      "colorbar": {
                        "outlinewidth": 0,
                        "ticks": ""
                      }
                    },
                    "colorscale": {
                      "diverging": [
                        [
                          0,
                          "#8e0152"
                        ],
                        [
                          0.1,
                          "#c51b7d"
                        ],
                        [
                          0.2,
                          "#de77ae"
                        ],
                        [
                          0.3,
                          "#f1b6da"
                        ],
                        [
                          0.4,
                          "#fde0ef"
                        ],
                        [
                          0.5,
                          "#f7f7f7"
                        ],
                        [
                          0.6,
                          "#e6f5d0"
                        ],
                        [
                          0.7,
                          "#b8e186"
                        ],
                        [
                          0.8,
                          "#7fbc41"
                        ],
                        [
                          0.9,
                          "#4d9221"
                        ],
                        [
                          1,
                          "#276419"
                        ]
                      ],
                      "sequential": [
                        [
                          0,
                          "#0d0887"
                        ],
                        [
                          0.1111111111111111,
                          "#46039f"
                        ],
                        [
                          0.2222222222222222,
                          "#7201a8"
                        ],
                        [
                          0.3333333333333333,
                          "#9c179e"
                        ],
                        [
                          0.4444444444444444,
                          "#bd3786"
                        ],
                        [
                          0.5555555555555556,
                          "#d8576b"
                        ],
                        [
                          0.6666666666666666,
                          "#ed7953"
                        ],
                        [
                          0.7777777777777778,
                          "#fb9f3a"
                        ],
                        [
                          0.8888888888888888,
                          "#fdca26"
                        ],
                        [
                          1,
                          "#f0f921"
                        ]
                      ],
                      "sequentialminus": [
                        [
                          0,
                          "#0d0887"
                        ],
                        [
                          0.1111111111111111,
                          "#46039f"
                        ],
                        [
                          0.2222222222222222,
                          "#7201a8"
                        ],
                        [
                          0.3333333333333333,
                          "#9c179e"
                        ],
                        [
                          0.4444444444444444,
                          "#bd3786"
                        ],
                        [
                          0.5555555555555556,
                          "#d8576b"
                        ],
                        [
                          0.6666666666666666,
                          "#ed7953"
                        ],
                        [
                          0.7777777777777778,
                          "#fb9f3a"
                        ],
                        [
                          0.8888888888888888,
                          "#fdca26"
                        ],
                        [
                          1,
                          "#f0f921"
                        ]
                      ]
                    },
                    "colorway": [
                      "#636efa",
                      "#EF553B",
                      "#00cc96",
                      "#ab63fa",
                      "#FFA15A",
                      "#19d3f3",
                      "#FF6692",
                      "#B6E880",
                      "#FF97FF",
                      "#FECB52"
                    ],
                    "font": {
                      "color": "#2a3f5f"
                    },
                    "geo": {
                      "bgcolor": "white",
                      "lakecolor": "white",
                      "landcolor": "#E5ECF6",
                      "showlakes": true,
                      "showland": true,
                      "subunitcolor": "white"
                    },
                    "hoverlabel": {
                      "align": "left"
                    },
                    "hovermode": "closest",
                    "mapbox": {
                      "style": "light"
                    },
                    "paper_bgcolor": "white",
                    "plot_bgcolor": "#E5ECF6",
                    "polar": {
                      "angularaxis": {
                        "gridcolor": "white",
                        "linecolor": "white",
                        "ticks": ""
                      },
                      "bgcolor": "#E5ECF6",
                      "radialaxis": {
                        "gridcolor": "white",
                        "linecolor": "white",
                        "ticks": ""
                      }
                    },
                    "scene": {
                      "xaxis": {
                        "backgroundcolor": "#E5ECF6",
                        "gridcolor": "white",
                        "gridwidth": 2,
                        "linecolor": "white",
                        "showbackground": true,
                        "ticks": "",
                        "zerolinecolor": "white"
                      },
                      "yaxis": {
                        "backgroundcolor": "#E5ECF6",
                        "gridcolor": "white",
                        "gridwidth": 2,
                        "linecolor": "white",
                        "showbackground": true,
                        "ticks": "",
                        "zerolinecolor": "white"
                      },
                      "zaxis": {
                        "backgroundcolor": "#E5ECF6",
                        "gridcolor": "white",
                        "gridwidth": 2,
                        "linecolor": "white",
                        "showbackground": true,
                        "ticks": "",
                        "zerolinecolor": "white"
                      }
                    },
                    "shapedefaults": {
                      "line": {
                        "color": "#2a3f5f"
                      }
                    },
                    "ternary": {
                      "aaxis": {
                        "gridcolor": "white",
                        "linecolor": "white",
                        "ticks": ""
                      },
                      "baxis": {
                        "gridcolor": "white",
                        "linecolor": "white",
                        "ticks": ""
                      },
                      "bgcolor": "#E5ECF6",
                      "caxis": {
                        "gridcolor": "white",
                        "linecolor": "white",
                        "ticks": ""
                      }
                    },
                    "title": {
                      "x": 0.05
                    },
                    "xaxis": {
                      "automargin": true,
                      "gridcolor": "white",
                      "linecolor": "white",
                      "ticks": "",
                      "title": {
                        "standoff": 15
                      },
                      "zerolinecolor": "white",
                      "zerolinewidth": 2
                    },
                    "yaxis": {
                      "automargin": true,
                      "gridcolor": "white",
                      "linecolor": "white",
                      "ticks": "",
                      "title": {
                        "standoff": 15
                      },
                      "zerolinecolor": "white",
                      "zerolinewidth": 2
                    }
                  }
                },
                "title": {
                  "text": "Top 20 words in timer"
                },
                "xaxis": {
                  "anchor": "y",
                  "domain": [
                    0,
                    1
                  ],
                  "title": {
                    "text": "word"
                  }
                },
                "yaxis": {
                  "anchor": "x",
                  "domain": [
                    0,
                    1
                  ],
                  "title": {
                    "text": "count"
                  }
                }
              }
            }
          },
          "metadata": {},
          "output_type": "display_data"
        }
      ],
      "source": [
        "common_words, common_words_ct = get_top_n_words_without_stop_words(train_df[train_df['intent'] == 'timer']['new_sentence'], 20)\n",
        "df1 = pd.DataFrame({'word':common_words , 'count':common_words_ct})\n",
        "df1_sorted = df1.sort_values('count',ascending=False)\n",
        "\n",
        "import plotly.express as px\n",
        "\n",
        "fig = px.bar(df1_sorted, x='word', y='count', title='Top 20 words in timer')\n",
        "fig.show()"
      ]
    },
    {
      "cell_type": "code",
      "execution_count": 10,
      "metadata": {},
      "outputs": [
        {
          "name": "stderr",
          "output_type": "stream",
          "text": [
            "/home/sandro/.local/lib/python3.10/site-packages/sklearn/feature_extraction/text.py:404: UserWarning:\n",
            "\n",
            "Your stop_words may be inconsistent with your preprocessing. Tokenizing the stop words generated tokens ['aren', 'can', 'couldn', 'didn', 'doesn', 'don', 'hadn', 'hasn', 'haven', 'isn', 'let', 'll', 'mustn', 're', 'shan', 'shouldn', 've', 'wasn', 'weren', 'won', 'wouldn'] not in stop_words.\n",
            "\n"
          ]
        },
        {
          "data": {
            "application/vnd.plotly.v1+json": {
              "config": {
                "plotlyServerURL": "https://plot.ly"
              },
              "data": [
                {
                  "alignmentgroup": "True",
                  "hovertemplate": "word=%{x}<br>count=%{y}<extra></extra>",
                  "legendgroup": "",
                  "marker": {
                    "color": "#636efa",
                    "pattern": {
                      "shape": ""
                    }
                  },
                  "name": "",
                  "offsetgroup": "",
                  "orientation": "v",
                  "showlegend": false,
                  "textposition": "auto",
                  "type": "bar",
                  "x": [
                    "life",
                    "meaning",
                    "whats",
                    "can",
                    "tell",
                    "purpose",
                    "know",
                    "point",
                    "lifes",
                    "think",
                    "please",
                    "answer",
                    "existence",
                    "explain",
                    "secret",
                    "say",
                    "take",
                    "people",
                    "means",
                    "wanna"
                  ],
                  "xaxis": "x",
                  "y": [
                    83,
                    73,
                    16,
                    12,
                    11,
                    9,
                    8,
                    8,
                    6,
                    6,
                    4,
                    3,
                    3,
                    3,
                    2,
                    2,
                    2,
                    2,
                    2,
                    2
                  ],
                  "yaxis": "y"
                }
              ],
              "layout": {
                "barmode": "relative",
                "legend": {
                  "tracegroupgap": 0
                },
                "template": {
                  "data": {
                    "bar": [
                      {
                        "error_x": {
                          "color": "#2a3f5f"
                        },
                        "error_y": {
                          "color": "#2a3f5f"
                        },
                        "marker": {
                          "line": {
                            "color": "#E5ECF6",
                            "width": 0.5
                          },
                          "pattern": {
                            "fillmode": "overlay",
                            "size": 10,
                            "solidity": 0.2
                          }
                        },
                        "type": "bar"
                      }
                    ],
                    "barpolar": [
                      {
                        "marker": {
                          "line": {
                            "color": "#E5ECF6",
                            "width": 0.5
                          },
                          "pattern": {
                            "fillmode": "overlay",
                            "size": 10,
                            "solidity": 0.2
                          }
                        },
                        "type": "barpolar"
                      }
                    ],
                    "carpet": [
                      {
                        "aaxis": {
                          "endlinecolor": "#2a3f5f",
                          "gridcolor": "white",
                          "linecolor": "white",
                          "minorgridcolor": "white",
                          "startlinecolor": "#2a3f5f"
                        },
                        "baxis": {
                          "endlinecolor": "#2a3f5f",
                          "gridcolor": "white",
                          "linecolor": "white",
                          "minorgridcolor": "white",
                          "startlinecolor": "#2a3f5f"
                        },
                        "type": "carpet"
                      }
                    ],
                    "choropleth": [
                      {
                        "colorbar": {
                          "outlinewidth": 0,
                          "ticks": ""
                        },
                        "type": "choropleth"
                      }
                    ],
                    "contour": [
                      {
                        "colorbar": {
                          "outlinewidth": 0,
                          "ticks": ""
                        },
                        "colorscale": [
                          [
                            0,
                            "#0d0887"
                          ],
                          [
                            0.1111111111111111,
                            "#46039f"
                          ],
                          [
                            0.2222222222222222,
                            "#7201a8"
                          ],
                          [
                            0.3333333333333333,
                            "#9c179e"
                          ],
                          [
                            0.4444444444444444,
                            "#bd3786"
                          ],
                          [
                            0.5555555555555556,
                            "#d8576b"
                          ],
                          [
                            0.6666666666666666,
                            "#ed7953"
                          ],
                          [
                            0.7777777777777778,
                            "#fb9f3a"
                          ],
                          [
                            0.8888888888888888,
                            "#fdca26"
                          ],
                          [
                            1,
                            "#f0f921"
                          ]
                        ],
                        "type": "contour"
                      }
                    ],
                    "contourcarpet": [
                      {
                        "colorbar": {
                          "outlinewidth": 0,
                          "ticks": ""
                        },
                        "type": "contourcarpet"
                      }
                    ],
                    "heatmap": [
                      {
                        "colorbar": {
                          "outlinewidth": 0,
                          "ticks": ""
                        },
                        "colorscale": [
                          [
                            0,
                            "#0d0887"
                          ],
                          [
                            0.1111111111111111,
                            "#46039f"
                          ],
                          [
                            0.2222222222222222,
                            "#7201a8"
                          ],
                          [
                            0.3333333333333333,
                            "#9c179e"
                          ],
                          [
                            0.4444444444444444,
                            "#bd3786"
                          ],
                          [
                            0.5555555555555556,
                            "#d8576b"
                          ],
                          [
                            0.6666666666666666,
                            "#ed7953"
                          ],
                          [
                            0.7777777777777778,
                            "#fb9f3a"
                          ],
                          [
                            0.8888888888888888,
                            "#fdca26"
                          ],
                          [
                            1,
                            "#f0f921"
                          ]
                        ],
                        "type": "heatmap"
                      }
                    ],
                    "heatmapgl": [
                      {
                        "colorbar": {
                          "outlinewidth": 0,
                          "ticks": ""
                        },
                        "colorscale": [
                          [
                            0,
                            "#0d0887"
                          ],
                          [
                            0.1111111111111111,
                            "#46039f"
                          ],
                          [
                            0.2222222222222222,
                            "#7201a8"
                          ],
                          [
                            0.3333333333333333,
                            "#9c179e"
                          ],
                          [
                            0.4444444444444444,
                            "#bd3786"
                          ],
                          [
                            0.5555555555555556,
                            "#d8576b"
                          ],
                          [
                            0.6666666666666666,
                            "#ed7953"
                          ],
                          [
                            0.7777777777777778,
                            "#fb9f3a"
                          ],
                          [
                            0.8888888888888888,
                            "#fdca26"
                          ],
                          [
                            1,
                            "#f0f921"
                          ]
                        ],
                        "type": "heatmapgl"
                      }
                    ],
                    "histogram": [
                      {
                        "marker": {
                          "pattern": {
                            "fillmode": "overlay",
                            "size": 10,
                            "solidity": 0.2
                          }
                        },
                        "type": "histogram"
                      }
                    ],
                    "histogram2d": [
                      {
                        "colorbar": {
                          "outlinewidth": 0,
                          "ticks": ""
                        },
                        "colorscale": [
                          [
                            0,
                            "#0d0887"
                          ],
                          [
                            0.1111111111111111,
                            "#46039f"
                          ],
                          [
                            0.2222222222222222,
                            "#7201a8"
                          ],
                          [
                            0.3333333333333333,
                            "#9c179e"
                          ],
                          [
                            0.4444444444444444,
                            "#bd3786"
                          ],
                          [
                            0.5555555555555556,
                            "#d8576b"
                          ],
                          [
                            0.6666666666666666,
                            "#ed7953"
                          ],
                          [
                            0.7777777777777778,
                            "#fb9f3a"
                          ],
                          [
                            0.8888888888888888,
                            "#fdca26"
                          ],
                          [
                            1,
                            "#f0f921"
                          ]
                        ],
                        "type": "histogram2d"
                      }
                    ],
                    "histogram2dcontour": [
                      {
                        "colorbar": {
                          "outlinewidth": 0,
                          "ticks": ""
                        },
                        "colorscale": [
                          [
                            0,
                            "#0d0887"
                          ],
                          [
                            0.1111111111111111,
                            "#46039f"
                          ],
                          [
                            0.2222222222222222,
                            "#7201a8"
                          ],
                          [
                            0.3333333333333333,
                            "#9c179e"
                          ],
                          [
                            0.4444444444444444,
                            "#bd3786"
                          ],
                          [
                            0.5555555555555556,
                            "#d8576b"
                          ],
                          [
                            0.6666666666666666,
                            "#ed7953"
                          ],
                          [
                            0.7777777777777778,
                            "#fb9f3a"
                          ],
                          [
                            0.8888888888888888,
                            "#fdca26"
                          ],
                          [
                            1,
                            "#f0f921"
                          ]
                        ],
                        "type": "histogram2dcontour"
                      }
                    ],
                    "mesh3d": [
                      {
                        "colorbar": {
                          "outlinewidth": 0,
                          "ticks": ""
                        },
                        "type": "mesh3d"
                      }
                    ],
                    "parcoords": [
                      {
                        "line": {
                          "colorbar": {
                            "outlinewidth": 0,
                            "ticks": ""
                          }
                        },
                        "type": "parcoords"
                      }
                    ],
                    "pie": [
                      {
                        "automargin": true,
                        "type": "pie"
                      }
                    ],
                    "scatter": [
                      {
                        "fillpattern": {
                          "fillmode": "overlay",
                          "size": 10,
                          "solidity": 0.2
                        },
                        "type": "scatter"
                      }
                    ],
                    "scatter3d": [
                      {
                        "line": {
                          "colorbar": {
                            "outlinewidth": 0,
                            "ticks": ""
                          }
                        },
                        "marker": {
                          "colorbar": {
                            "outlinewidth": 0,
                            "ticks": ""
                          }
                        },
                        "type": "scatter3d"
                      }
                    ],
                    "scattercarpet": [
                      {
                        "marker": {
                          "colorbar": {
                            "outlinewidth": 0,
                            "ticks": ""
                          }
                        },
                        "type": "scattercarpet"
                      }
                    ],
                    "scattergeo": [
                      {
                        "marker": {
                          "colorbar": {
                            "outlinewidth": 0,
                            "ticks": ""
                          }
                        },
                        "type": "scattergeo"
                      }
                    ],
                    "scattergl": [
                      {
                        "marker": {
                          "colorbar": {
                            "outlinewidth": 0,
                            "ticks": ""
                          }
                        },
                        "type": "scattergl"
                      }
                    ],
                    "scattermapbox": [
                      {
                        "marker": {
                          "colorbar": {
                            "outlinewidth": 0,
                            "ticks": ""
                          }
                        },
                        "type": "scattermapbox"
                      }
                    ],
                    "scatterpolar": [
                      {
                        "marker": {
                          "colorbar": {
                            "outlinewidth": 0,
                            "ticks": ""
                          }
                        },
                        "type": "scatterpolar"
                      }
                    ],
                    "scatterpolargl": [
                      {
                        "marker": {
                          "colorbar": {
                            "outlinewidth": 0,
                            "ticks": ""
                          }
                        },
                        "type": "scatterpolargl"
                      }
                    ],
                    "scatterternary": [
                      {
                        "marker": {
                          "colorbar": {
                            "outlinewidth": 0,
                            "ticks": ""
                          }
                        },
                        "type": "scatterternary"
                      }
                    ],
                    "surface": [
                      {
                        "colorbar": {
                          "outlinewidth": 0,
                          "ticks": ""
                        },
                        "colorscale": [
                          [
                            0,
                            "#0d0887"
                          ],
                          [
                            0.1111111111111111,
                            "#46039f"
                          ],
                          [
                            0.2222222222222222,
                            "#7201a8"
                          ],
                          [
                            0.3333333333333333,
                            "#9c179e"
                          ],
                          [
                            0.4444444444444444,
                            "#bd3786"
                          ],
                          [
                            0.5555555555555556,
                            "#d8576b"
                          ],
                          [
                            0.6666666666666666,
                            "#ed7953"
                          ],
                          [
                            0.7777777777777778,
                            "#fb9f3a"
                          ],
                          [
                            0.8888888888888888,
                            "#fdca26"
                          ],
                          [
                            1,
                            "#f0f921"
                          ]
                        ],
                        "type": "surface"
                      }
                    ],
                    "table": [
                      {
                        "cells": {
                          "fill": {
                            "color": "#EBF0F8"
                          },
                          "line": {
                            "color": "white"
                          }
                        },
                        "header": {
                          "fill": {
                            "color": "#C8D4E3"
                          },
                          "line": {
                            "color": "white"
                          }
                        },
                        "type": "table"
                      }
                    ]
                  },
                  "layout": {
                    "annotationdefaults": {
                      "arrowcolor": "#2a3f5f",
                      "arrowhead": 0,
                      "arrowwidth": 1
                    },
                    "autotypenumbers": "strict",
                    "coloraxis": {
                      "colorbar": {
                        "outlinewidth": 0,
                        "ticks": ""
                      }
                    },
                    "colorscale": {
                      "diverging": [
                        [
                          0,
                          "#8e0152"
                        ],
                        [
                          0.1,
                          "#c51b7d"
                        ],
                        [
                          0.2,
                          "#de77ae"
                        ],
                        [
                          0.3,
                          "#f1b6da"
                        ],
                        [
                          0.4,
                          "#fde0ef"
                        ],
                        [
                          0.5,
                          "#f7f7f7"
                        ],
                        [
                          0.6,
                          "#e6f5d0"
                        ],
                        [
                          0.7,
                          "#b8e186"
                        ],
                        [
                          0.8,
                          "#7fbc41"
                        ],
                        [
                          0.9,
                          "#4d9221"
                        ],
                        [
                          1,
                          "#276419"
                        ]
                      ],
                      "sequential": [
                        [
                          0,
                          "#0d0887"
                        ],
                        [
                          0.1111111111111111,
                          "#46039f"
                        ],
                        [
                          0.2222222222222222,
                          "#7201a8"
                        ],
                        [
                          0.3333333333333333,
                          "#9c179e"
                        ],
                        [
                          0.4444444444444444,
                          "#bd3786"
                        ],
                        [
                          0.5555555555555556,
                          "#d8576b"
                        ],
                        [
                          0.6666666666666666,
                          "#ed7953"
                        ],
                        [
                          0.7777777777777778,
                          "#fb9f3a"
                        ],
                        [
                          0.8888888888888888,
                          "#fdca26"
                        ],
                        [
                          1,
                          "#f0f921"
                        ]
                      ],
                      "sequentialminus": [
                        [
                          0,
                          "#0d0887"
                        ],
                        [
                          0.1111111111111111,
                          "#46039f"
                        ],
                        [
                          0.2222222222222222,
                          "#7201a8"
                        ],
                        [
                          0.3333333333333333,
                          "#9c179e"
                        ],
                        [
                          0.4444444444444444,
                          "#bd3786"
                        ],
                        [
                          0.5555555555555556,
                          "#d8576b"
                        ],
                        [
                          0.6666666666666666,
                          "#ed7953"
                        ],
                        [
                          0.7777777777777778,
                          "#fb9f3a"
                        ],
                        [
                          0.8888888888888888,
                          "#fdca26"
                        ],
                        [
                          1,
                          "#f0f921"
                        ]
                      ]
                    },
                    "colorway": [
                      "#636efa",
                      "#EF553B",
                      "#00cc96",
                      "#ab63fa",
                      "#FFA15A",
                      "#19d3f3",
                      "#FF6692",
                      "#B6E880",
                      "#FF97FF",
                      "#FECB52"
                    ],
                    "font": {
                      "color": "#2a3f5f"
                    },
                    "geo": {
                      "bgcolor": "white",
                      "lakecolor": "white",
                      "landcolor": "#E5ECF6",
                      "showlakes": true,
                      "showland": true,
                      "subunitcolor": "white"
                    },
                    "hoverlabel": {
                      "align": "left"
                    },
                    "hovermode": "closest",
                    "mapbox": {
                      "style": "light"
                    },
                    "paper_bgcolor": "white",
                    "plot_bgcolor": "#E5ECF6",
                    "polar": {
                      "angularaxis": {
                        "gridcolor": "white",
                        "linecolor": "white",
                        "ticks": ""
                      },
                      "bgcolor": "#E5ECF6",
                      "radialaxis": {
                        "gridcolor": "white",
                        "linecolor": "white",
                        "ticks": ""
                      }
                    },
                    "scene": {
                      "xaxis": {
                        "backgroundcolor": "#E5ECF6",
                        "gridcolor": "white",
                        "gridwidth": 2,
                        "linecolor": "white",
                        "showbackground": true,
                        "ticks": "",
                        "zerolinecolor": "white"
                      },
                      "yaxis": {
                        "backgroundcolor": "#E5ECF6",
                        "gridcolor": "white",
                        "gridwidth": 2,
                        "linecolor": "white",
                        "showbackground": true,
                        "ticks": "",
                        "zerolinecolor": "white"
                      },
                      "zaxis": {
                        "backgroundcolor": "#E5ECF6",
                        "gridcolor": "white",
                        "gridwidth": 2,
                        "linecolor": "white",
                        "showbackground": true,
                        "ticks": "",
                        "zerolinecolor": "white"
                      }
                    },
                    "shapedefaults": {
                      "line": {
                        "color": "#2a3f5f"
                      }
                    },
                    "ternary": {
                      "aaxis": {
                        "gridcolor": "white",
                        "linecolor": "white",
                        "ticks": ""
                      },
                      "baxis": {
                        "gridcolor": "white",
                        "linecolor": "white",
                        "ticks": ""
                      },
                      "bgcolor": "#E5ECF6",
                      "caxis": {
                        "gridcolor": "white",
                        "linecolor": "white",
                        "ticks": ""
                      }
                    },
                    "title": {
                      "x": 0.05
                    },
                    "xaxis": {
                      "automargin": true,
                      "gridcolor": "white",
                      "linecolor": "white",
                      "ticks": "",
                      "title": {
                        "standoff": 15
                      },
                      "zerolinecolor": "white",
                      "zerolinewidth": 2
                    },
                    "yaxis": {
                      "automargin": true,
                      "gridcolor": "white",
                      "linecolor": "white",
                      "ticks": "",
                      "title": {
                        "standoff": 15
                      },
                      "zerolinecolor": "white",
                      "zerolinewidth": 2
                    }
                  }
                },
                "title": {
                  "text": "Top 20 words in timer"
                },
                "xaxis": {
                  "anchor": "y",
                  "domain": [
                    0,
                    1
                  ],
                  "title": {
                    "text": "word"
                  }
                },
                "yaxis": {
                  "anchor": "x",
                  "domain": [
                    0,
                    1
                  ],
                  "title": {
                    "text": "count"
                  }
                }
              }
            }
          },
          "metadata": {},
          "output_type": "display_data"
        }
      ],
      "source": [
        "common_words, common_words_ct = get_top_n_words_without_stop_words(train_df[train_df['intent'] == 'meaning_of_life']['new_sentence'], 20)\n",
        "df1 = pd.DataFrame({'word':common_words , 'count':common_words_ct})\n",
        "df1_sorted = df1.sort_values('count',ascending=False)\n",
        "\n",
        "import plotly.express as px\n",
        "\n",
        "fig = px.bar(df1_sorted, x='word', y='count', title='Top 20 words in timer')\n",
        "fig.show()"
      ]
    },
    {
      "cell_type": "markdown",
      "metadata": {},
      "source": [
        "3) Nombre de mots moyen dans une phrase"
      ]
    },
    {
      "cell_type": "code",
      "execution_count": 11,
      "metadata": {},
      "outputs": [
        {
          "data": {
            "text/html": [
              "<div>\n",
              "<style scoped>\n",
              "    .dataframe tbody tr th:only-of-type {\n",
              "        vertical-align: middle;\n",
              "    }\n",
              "\n",
              "    .dataframe tbody tr th {\n",
              "        vertical-align: top;\n",
              "    }\n",
              "\n",
              "    .dataframe thead th {\n",
              "        text-align: right;\n",
              "    }\n",
              "</style>\n",
              "<table border=\"1\" class=\"dataframe\">\n",
              "  <thead>\n",
              "    <tr style=\"text-align: right;\">\n",
              "      <th></th>\n",
              "      <th>sentence</th>\n",
              "      <th>intent</th>\n",
              "      <th>new_sentence</th>\n",
              "      <th>sentence_len</th>\n",
              "    </tr>\n",
              "  </thead>\n",
              "  <tbody>\n",
              "    <tr>\n",
              "      <th>0</th>\n",
              "      <td>what expression would i use to say i love you ...</td>\n",
              "      <td>translate</td>\n",
              "      <td>what expression would i use to say i love you ...</td>\n",
              "      <td>15</td>\n",
              "    </tr>\n",
              "    <tr>\n",
              "      <th>1</th>\n",
              "      <td>can you tell me how to say 'i do not speak muc...</td>\n",
              "      <td>translate</td>\n",
              "      <td>can you tell me how to say i do not speak much...</td>\n",
              "      <td>15</td>\n",
              "    </tr>\n",
              "    <tr>\n",
              "      <th>2</th>\n",
              "      <td>what is the equivalent of, 'life is good' in f...</td>\n",
              "      <td>translate</td>\n",
              "      <td>what is the equivalent of life is good in french</td>\n",
              "      <td>10</td>\n",
              "    </tr>\n",
              "    <tr>\n",
              "      <th>3</th>\n",
              "      <td>tell me how to say, 'it is a beautiful morning...</td>\n",
              "      <td>translate</td>\n",
              "      <td>tell me how to say it is a beautiful morning i...</td>\n",
              "      <td>12</td>\n",
              "    </tr>\n",
              "    <tr>\n",
              "      <th>4</th>\n",
              "      <td>if i were mongolian, how would i say that i am...</td>\n",
              "      <td>translate</td>\n",
              "      <td>if i were mongolian how would i say that i am ...</td>\n",
              "      <td>13</td>\n",
              "    </tr>\n",
              "  </tbody>\n",
              "</table>\n",
              "</div>"
            ],
            "text/plain": [
              "                                            sentence     intent  \\\n",
              "0  what expression would i use to say i love you ...  translate   \n",
              "1  can you tell me how to say 'i do not speak muc...  translate   \n",
              "2  what is the equivalent of, 'life is good' in f...  translate   \n",
              "3  tell me how to say, 'it is a beautiful morning...  translate   \n",
              "4  if i were mongolian, how would i say that i am...  translate   \n",
              "\n",
              "                                        new_sentence  sentence_len  \n",
              "0  what expression would i use to say i love you ...            15  \n",
              "1  can you tell me how to say i do not speak much...            15  \n",
              "2   what is the equivalent of life is good in french            10  \n",
              "3  tell me how to say it is a beautiful morning i...            12  \n",
              "4  if i were mongolian how would i say that i am ...            13  "
            ]
          },
          "execution_count": 11,
          "metadata": {},
          "output_type": "execute_result"
        }
      ],
      "source": [
        "train_df.head()"
      ]
    },
    {
      "cell_type": "code",
      "execution_count": 12,
      "metadata": {},
      "outputs": [
        {
          "data": {
            "text/plain": [
              "8.33092715231788"
            ]
          },
          "execution_count": 12,
          "metadata": {},
          "output_type": "execute_result"
        }
      ],
      "source": [
        "train_df['sentence_len'].mean()"
      ]
    },
    {
      "cell_type": "markdown",
      "metadata": {},
      "source": [
        "On a ainsi une moyenne de 39,89 mots par phrases"
      ]
    },
    {
      "cell_type": "markdown",
      "metadata": {
        "id": "mgFMvGm02Q7C"
      },
      "source": [
        "## 2) Data preparation:"
      ]
    },
    {
      "cell_type": "markdown",
      "metadata": {},
      "source": [
        "1) Crée colonne processed_sentence sans stop_word, sans ponctuation et en utilisant lemmatization"
      ]
    },
    {
      "cell_type": "code",
      "execution_count": 13,
      "metadata": {
        "id": "ViE2WqPZ2cd4"
      },
      "outputs": [],
      "source": [
        "import pandas as pd\n",
        "import spacy\n",
        "\n",
        "# Load the csv file into a pandas dataframe\n",
        "train_df = train_df[train_df['sentence'].apply(lambda x:isinstance(x,str))]\n",
        "\n",
        "# Load the spacy model for French\n",
        "nlp = spacy.load('en_core_web_md')\n",
        "\n",
        "# Define a function to preprocess the text\n",
        "def preprocess_text(text):\n",
        "    # Convert the text to lowercase\n",
        "    output_text = text.lower()\n",
        "    # Tokenize the text using spacy\n",
        "    tokens = nlp(output_text)\n",
        "    # Remove stopwords, punctuation, and get lemma using tokens attributes like 'is_stop'\n",
        "    lemmas = [token.lemma_ for token in tokens if not token.is_punct and not token.is_stop]\n",
        "    # Join the lemmatized tokens back into a string\n",
        "    clean_text = ' '.join(lemmas)\n",
        "    return clean_text\n",
        "\n",
        "# Apply the preprocess_text function to the \"sentence\" column to create a new column \"processed_sentence\"\n",
        "train_df['processed_sentence'] = train_df['sentence'].apply(preprocess_text)"
      ]
    },
    {
      "cell_type": "code",
      "execution_count": 14,
      "metadata": {},
      "outputs": [
        {
          "data": {
            "text/html": [
              "<div>\n",
              "<style scoped>\n",
              "    .dataframe tbody tr th:only-of-type {\n",
              "        vertical-align: middle;\n",
              "    }\n",
              "\n",
              "    .dataframe tbody tr th {\n",
              "        vertical-align: top;\n",
              "    }\n",
              "\n",
              "    .dataframe thead th {\n",
              "        text-align: right;\n",
              "    }\n",
              "</style>\n",
              "<table border=\"1\" class=\"dataframe\">\n",
              "  <thead>\n",
              "    <tr style=\"text-align: right;\">\n",
              "      <th></th>\n",
              "      <th>sentence</th>\n",
              "      <th>intent</th>\n",
              "      <th>new_sentence</th>\n",
              "      <th>sentence_len</th>\n",
              "      <th>processed_sentence</th>\n",
              "    </tr>\n",
              "  </thead>\n",
              "  <tbody>\n",
              "    <tr>\n",
              "      <th>0</th>\n",
              "      <td>what expression would i use to say i love you ...</td>\n",
              "      <td>translate</td>\n",
              "      <td>what expression would i use to say i love you ...</td>\n",
              "      <td>15</td>\n",
              "      <td>expression use love italian</td>\n",
              "    </tr>\n",
              "    <tr>\n",
              "      <th>1</th>\n",
              "      <td>can you tell me how to say 'i do not speak muc...</td>\n",
              "      <td>translate</td>\n",
              "      <td>can you tell me how to say i do not speak much...</td>\n",
              "      <td>15</td>\n",
              "      <td>tell speak spanish spanish</td>\n",
              "    </tr>\n",
              "    <tr>\n",
              "      <th>2</th>\n",
              "      <td>what is the equivalent of, 'life is good' in f...</td>\n",
              "      <td>translate</td>\n",
              "      <td>what is the equivalent of life is good in french</td>\n",
              "      <td>10</td>\n",
              "      <td>equivalent life good french</td>\n",
              "    </tr>\n",
              "    <tr>\n",
              "      <th>3</th>\n",
              "      <td>tell me how to say, 'it is a beautiful morning...</td>\n",
              "      <td>translate</td>\n",
              "      <td>tell me how to say it is a beautiful morning i...</td>\n",
              "      <td>12</td>\n",
              "      <td>tell beautiful morning italian</td>\n",
              "    </tr>\n",
              "    <tr>\n",
              "      <th>4</th>\n",
              "      <td>if i were mongolian, how would i say that i am...</td>\n",
              "      <td>translate</td>\n",
              "      <td>if i were mongolian how would i say that i am ...</td>\n",
              "      <td>13</td>\n",
              "      <td>mongolian tourist</td>\n",
              "    </tr>\n",
              "  </tbody>\n",
              "</table>\n",
              "</div>"
            ],
            "text/plain": [
              "                                            sentence     intent  \\\n",
              "0  what expression would i use to say i love you ...  translate   \n",
              "1  can you tell me how to say 'i do not speak muc...  translate   \n",
              "2  what is the equivalent of, 'life is good' in f...  translate   \n",
              "3  tell me how to say, 'it is a beautiful morning...  translate   \n",
              "4  if i were mongolian, how would i say that i am...  translate   \n",
              "\n",
              "                                        new_sentence  sentence_len  \\\n",
              "0  what expression would i use to say i love you ...            15   \n",
              "1  can you tell me how to say i do not speak much...            15   \n",
              "2   what is the equivalent of life is good in french            10   \n",
              "3  tell me how to say it is a beautiful morning i...            12   \n",
              "4  if i were mongolian how would i say that i am ...            13   \n",
              "\n",
              "               processed_sentence  \n",
              "0     expression use love italian  \n",
              "1      tell speak spanish spanish  \n",
              "2     equivalent life good french  \n",
              "3  tell beautiful morning italian  \n",
              "4               mongolian tourist  "
            ]
          },
          "execution_count": 14,
          "metadata": {},
          "output_type": "execute_result"
        }
      ],
      "source": [
        "train_df.head()"
      ]
    },
    {
      "cell_type": "markdown",
      "metadata": {},
      "source": [
        "IDEM POUR EVAL ?"
      ]
    },
    {
      "cell_type": "code",
      "execution_count": 15,
      "metadata": {},
      "outputs": [],
      "source": [
        "import pandas as pd\n",
        "import spacy\n",
        "\n",
        "# Load the csv file into a pandas dataframe\n",
        "val_df = val_df[val_df['sentence'].apply(lambda x:isinstance(x,str))]\n",
        "\n",
        "# Load the spacy model for French\n",
        "nlp = spacy.load('en_core_web_md')\n",
        "\n",
        "# Define a function to preprocess the text\n",
        "def preprocess_text(text):\n",
        "    # Convert the text to lowercase\n",
        "    output_text = text.lower()\n",
        "    # Tokenize the text using spacy\n",
        "    tokens = nlp(output_text)\n",
        "    # Remove stopwords, punctuation, and get lemma using tokens attributes like 'is_stop'\n",
        "    lemmas = [token.lemma_ for token in tokens if not token.is_punct and not token.is_stop]\n",
        "    # Join the lemmatized tokens back into a string\n",
        "    clean_text = ' '.join(lemmas)\n",
        "    return clean_text\n",
        "\n",
        "# Apply the preprocess_text function to the \"sentence\" column to create a new column \"processed_sentence\"\n",
        "val_df['processed_sentence'] = val_df['sentence'].apply(preprocess_text)"
      ]
    },
    {
      "cell_type": "markdown",
      "metadata": {},
      "source": [
        "2) Séparer les classes 'oos' du reste :"
      ]
    },
    {
      "cell_type": "code",
      "execution_count": 16,
      "metadata": {},
      "outputs": [
        {
          "data": {
            "text/html": [
              "<div>\n",
              "<style scoped>\n",
              "    .dataframe tbody tr th:only-of-type {\n",
              "        vertical-align: middle;\n",
              "    }\n",
              "\n",
              "    .dataframe tbody tr th {\n",
              "        vertical-align: top;\n",
              "    }\n",
              "\n",
              "    .dataframe thead th {\n",
              "        text-align: right;\n",
              "    }\n",
              "</style>\n",
              "<table border=\"1\" class=\"dataframe\">\n",
              "  <thead>\n",
              "    <tr style=\"text-align: right;\">\n",
              "      <th></th>\n",
              "      <th>sentence</th>\n",
              "      <th>intent</th>\n",
              "      <th>new_sentence</th>\n",
              "      <th>sentence_len</th>\n",
              "      <th>processed_sentence</th>\n",
              "    </tr>\n",
              "  </thead>\n",
              "  <tbody>\n",
              "    <tr>\n",
              "      <th>0</th>\n",
              "      <td>what expression would i use to say i love you ...</td>\n",
              "      <td>translate</td>\n",
              "      <td>what expression would i use to say i love you ...</td>\n",
              "      <td>15</td>\n",
              "      <td>expression use love italian</td>\n",
              "    </tr>\n",
              "    <tr>\n",
              "      <th>1</th>\n",
              "      <td>can you tell me how to say 'i do not speak muc...</td>\n",
              "      <td>translate</td>\n",
              "      <td>can you tell me how to say i do not speak much...</td>\n",
              "      <td>15</td>\n",
              "      <td>tell speak spanish spanish</td>\n",
              "    </tr>\n",
              "    <tr>\n",
              "      <th>2</th>\n",
              "      <td>what is the equivalent of, 'life is good' in f...</td>\n",
              "      <td>translate</td>\n",
              "      <td>what is the equivalent of life is good in french</td>\n",
              "      <td>10</td>\n",
              "      <td>equivalent life good french</td>\n",
              "    </tr>\n",
              "    <tr>\n",
              "      <th>3</th>\n",
              "      <td>tell me how to say, 'it is a beautiful morning...</td>\n",
              "      <td>translate</td>\n",
              "      <td>tell me how to say it is a beautiful morning i...</td>\n",
              "      <td>12</td>\n",
              "      <td>tell beautiful morning italian</td>\n",
              "    </tr>\n",
              "    <tr>\n",
              "      <th>4</th>\n",
              "      <td>if i were mongolian, how would i say that i am...</td>\n",
              "      <td>translate</td>\n",
              "      <td>if i were mongolian how would i say that i am ...</td>\n",
              "      <td>13</td>\n",
              "      <td>mongolian tourist</td>\n",
              "    </tr>\n",
              "    <tr>\n",
              "      <th>...</th>\n",
              "      <td>...</td>\n",
              "      <td>...</td>\n",
              "      <td>...</td>\n",
              "      <td>...</td>\n",
              "      <td>...</td>\n",
              "    </tr>\n",
              "    <tr>\n",
              "      <th>14995</th>\n",
              "      <td>can you explain why my card was declined</td>\n",
              "      <td>card_declined</td>\n",
              "      <td>can you explain why my card was declined</td>\n",
              "      <td>8</td>\n",
              "      <td>explain card decline</td>\n",
              "    </tr>\n",
              "    <tr>\n",
              "      <th>14996</th>\n",
              "      <td>how come starbucks declined my card when i tri...</td>\n",
              "      <td>card_declined</td>\n",
              "      <td>how come starbucks declined my card when i tri...</td>\n",
              "      <td>14</td>\n",
              "      <td>come starbuck decline card try use pay</td>\n",
              "    </tr>\n",
              "    <tr>\n",
              "      <th>14997</th>\n",
              "      <td>how come my card was not accepted yesterday</td>\n",
              "      <td>card_declined</td>\n",
              "      <td>how come my card was not accepted yesterday</td>\n",
              "      <td>8</td>\n",
              "      <td>come card accept yesterday</td>\n",
              "    </tr>\n",
              "    <tr>\n",
              "      <th>14998</th>\n",
              "      <td>find out what happened to make my card get dec...</td>\n",
              "      <td>card_declined</td>\n",
              "      <td>find out what happened to make my card get dec...</td>\n",
              "      <td>11</td>\n",
              "      <td>find happen card decline yesterday</td>\n",
              "    </tr>\n",
              "    <tr>\n",
              "      <th>14999</th>\n",
              "      <td>why was my card declined at safeway</td>\n",
              "      <td>card_declined</td>\n",
              "      <td>why was my card declined at safeway</td>\n",
              "      <td>7</td>\n",
              "      <td>card decline safeway</td>\n",
              "    </tr>\n",
              "  </tbody>\n",
              "</table>\n",
              "<p>15000 rows × 5 columns</p>\n",
              "</div>"
            ],
            "text/plain": [
              "                                                sentence         intent  \\\n",
              "0      what expression would i use to say i love you ...      translate   \n",
              "1      can you tell me how to say 'i do not speak muc...      translate   \n",
              "2      what is the equivalent of, 'life is good' in f...      translate   \n",
              "3      tell me how to say, 'it is a beautiful morning...      translate   \n",
              "4      if i were mongolian, how would i say that i am...      translate   \n",
              "...                                                  ...            ...   \n",
              "14995           can you explain why my card was declined  card_declined   \n",
              "14996  how come starbucks declined my card when i tri...  card_declined   \n",
              "14997        how come my card was not accepted yesterday  card_declined   \n",
              "14998  find out what happened to make my card get dec...  card_declined   \n",
              "14999                why was my card declined at safeway  card_declined   \n",
              "\n",
              "                                            new_sentence  sentence_len  \\\n",
              "0      what expression would i use to say i love you ...            15   \n",
              "1      can you tell me how to say i do not speak much...            15   \n",
              "2       what is the equivalent of life is good in french            10   \n",
              "3      tell me how to say it is a beautiful morning i...            12   \n",
              "4      if i were mongolian how would i say that i am ...            13   \n",
              "...                                                  ...           ...   \n",
              "14995           can you explain why my card was declined             8   \n",
              "14996  how come starbucks declined my card when i tri...            14   \n",
              "14997        how come my card was not accepted yesterday             8   \n",
              "14998  find out what happened to make my card get dec...            11   \n",
              "14999                why was my card declined at safeway             7   \n",
              "\n",
              "                           processed_sentence  \n",
              "0                 expression use love italian  \n",
              "1                  tell speak spanish spanish  \n",
              "2                 equivalent life good french  \n",
              "3              tell beautiful morning italian  \n",
              "4                           mongolian tourist  \n",
              "...                                       ...  \n",
              "14995                    explain card decline  \n",
              "14996  come starbuck decline card try use pay  \n",
              "14997              come card accept yesterday  \n",
              "14998      find happen card decline yesterday  \n",
              "14999                    card decline safeway  \n",
              "\n",
              "[15000 rows x 5 columns]"
            ]
          },
          "execution_count": 16,
          "metadata": {},
          "output_type": "execute_result"
        }
      ],
      "source": [
        "train_df_oos = train_df[train_df['intent'] == 'oos']\n",
        "train_df = train_df.loc[train_df['intent'] != 'oos']\n",
        "eval_df_oos = val_df[val_df['intent'] == 'oos']\n",
        "val_df = val_df.loc[val_df['intent'] != 'oos']\n",
        "train_df"
      ]
    },
    {
      "cell_type": "markdown",
      "metadata": {
        "id": "9RF14CPX2cxu"
      },
      "source": [
        "## 3) Topic modeling:"
      ]
    },
    {
      "cell_type": "markdown",
      "metadata": {},
      "source": [
        "1) Avec sentence, crée la matrice TF-IDF sans stop_word"
      ]
    },
    {
      "cell_type": "code",
      "execution_count": 17,
      "metadata": {
        "id": "hl49XPuX2dS7"
      },
      "outputs": [
        {
          "name": "stderr",
          "output_type": "stream",
          "text": [
            "/home/sandro/.local/lib/python3.10/site-packages/sklearn/feature_extraction/text.py:404: UserWarning:\n",
            "\n",
            "Your stop_words may be inconsistent with your preprocessing. Tokenizing the stop words generated tokens ['arent', 'cant', 'couldnt', 'didnt', 'doesnt', 'dont', 'hadnt', 'hasnt', 'havent', 'hed', 'hell', 'heres', 'hes', 'hows', 'id', 'ill', 'im', 'isnt', 'ive', 'lets', 'mustnt', 'shant', 'shed', 'shell', 'shes', 'shouldnt', 'thats', 'theres', 'theyd', 'theyll', 'theyre', 'theyve', 'wasnt', 'wed', 'well', 'werent', 'weve', 'whats', 'whens', 'wheres', 'whos', 'whys', 'wont', 'wouldnt', 'youd', 'youll', 'youre', 'youve'] not in stop_words.\n",
            "\n"
          ]
        },
        {
          "data": {
            "text/plain": [
              "array([[0., 0., 0., ..., 0., 0., 0.],\n",
              "       [0., 0., 0., ..., 0., 0., 0.],\n",
              "       [0., 0., 0., ..., 0., 0., 0.],\n",
              "       ...,\n",
              "       [0., 0., 0., ..., 0., 0., 0.],\n",
              "       [0., 0., 0., ..., 0., 0., 0.],\n",
              "       [0., 0., 0., ..., 0., 0., 0.]])"
            ]
          },
          "execution_count": 17,
          "metadata": {},
          "output_type": "execute_result"
        }
      ],
      "source": [
        "#supprime ponctuation\n",
        "def remove_punctuation(text):\n",
        "    return text.translate(str.maketrans('', '', string.punctuation))\n",
        "vectorizer = TfidfVectorizer(stop_words=get_stop_words('en'), preprocessor=remove_punctuation) # TFIDF\n",
        "corpus = train_df['sentence']\n",
        "vectors = vectorizer.fit_transform(corpus)\n",
        "vectors.toarray()"
      ]
    },
    {
      "cell_type": "markdown",
      "metadata": {},
      "source": [
        "2) Effectuer LSA dessus avec 20 composants"
      ]
    },
    {
      "cell_type": "code",
      "execution_count": 18,
      "metadata": {},
      "outputs": [
        {
          "data": {
            "text/html": [
              "<style>#sk-container-id-1 {color: black;background-color: white;}#sk-container-id-1 pre{padding: 0;}#sk-container-id-1 div.sk-toggleable {background-color: white;}#sk-container-id-1 label.sk-toggleable__label {cursor: pointer;display: block;width: 100%;margin-bottom: 0;padding: 0.3em;box-sizing: border-box;text-align: center;}#sk-container-id-1 label.sk-toggleable__label-arrow:before {content: \"▸\";float: left;margin-right: 0.25em;color: #696969;}#sk-container-id-1 label.sk-toggleable__label-arrow:hover:before {color: black;}#sk-container-id-1 div.sk-estimator:hover label.sk-toggleable__label-arrow:before {color: black;}#sk-container-id-1 div.sk-toggleable__content {max-height: 0;max-width: 0;overflow: hidden;text-align: left;background-color: #f0f8ff;}#sk-container-id-1 div.sk-toggleable__content pre {margin: 0.2em;color: black;border-radius: 0.25em;background-color: #f0f8ff;}#sk-container-id-1 input.sk-toggleable__control:checked~div.sk-toggleable__content {max-height: 200px;max-width: 100%;overflow: auto;}#sk-container-id-1 input.sk-toggleable__control:checked~label.sk-toggleable__label-arrow:before {content: \"▾\";}#sk-container-id-1 div.sk-estimator input.sk-toggleable__control:checked~label.sk-toggleable__label {background-color: #d4ebff;}#sk-container-id-1 div.sk-label input.sk-toggleable__control:checked~label.sk-toggleable__label {background-color: #d4ebff;}#sk-container-id-1 input.sk-hidden--visually {border: 0;clip: rect(1px 1px 1px 1px);clip: rect(1px, 1px, 1px, 1px);height: 1px;margin: -1px;overflow: hidden;padding: 0;position: absolute;width: 1px;}#sk-container-id-1 div.sk-estimator {font-family: monospace;background-color: #f0f8ff;border: 1px dotted black;border-radius: 0.25em;box-sizing: border-box;margin-bottom: 0.5em;}#sk-container-id-1 div.sk-estimator:hover {background-color: #d4ebff;}#sk-container-id-1 div.sk-parallel-item::after {content: \"\";width: 100%;border-bottom: 1px solid gray;flex-grow: 1;}#sk-container-id-1 div.sk-label:hover label.sk-toggleable__label {background-color: #d4ebff;}#sk-container-id-1 div.sk-serial::before {content: \"\";position: absolute;border-left: 1px solid gray;box-sizing: border-box;top: 0;bottom: 0;left: 50%;z-index: 0;}#sk-container-id-1 div.sk-serial {display: flex;flex-direction: column;align-items: center;background-color: white;padding-right: 0.2em;padding-left: 0.2em;position: relative;}#sk-container-id-1 div.sk-item {position: relative;z-index: 1;}#sk-container-id-1 div.sk-parallel {display: flex;align-items: stretch;justify-content: center;background-color: white;position: relative;}#sk-container-id-1 div.sk-item::before, #sk-container-id-1 div.sk-parallel-item::before {content: \"\";position: absolute;border-left: 1px solid gray;box-sizing: border-box;top: 0;bottom: 0;left: 50%;z-index: -1;}#sk-container-id-1 div.sk-parallel-item {display: flex;flex-direction: column;z-index: 1;position: relative;background-color: white;}#sk-container-id-1 div.sk-parallel-item:first-child::after {align-self: flex-end;width: 50%;}#sk-container-id-1 div.sk-parallel-item:last-child::after {align-self: flex-start;width: 50%;}#sk-container-id-1 div.sk-parallel-item:only-child::after {width: 0;}#sk-container-id-1 div.sk-dashed-wrapped {border: 1px dashed gray;margin: 0 0.4em 0.5em 0.4em;box-sizing: border-box;padding-bottom: 0.4em;background-color: white;}#sk-container-id-1 div.sk-label label {font-family: monospace;font-weight: bold;display: inline-block;line-height: 1.2em;}#sk-container-id-1 div.sk-label-container {text-align: center;}#sk-container-id-1 div.sk-container {/* jupyter's `normalize.less` sets `[hidden] { display: none; }` but bootstrap.min.css set `[hidden] { display: none !important; }` so we also need the `!important` here to be able to override the default hidden behavior on the sphinx rendered scikit-learn.org. See: https://github.com/scikit-learn/scikit-learn/issues/21755 */display: inline-block !important;position: relative;}#sk-container-id-1 div.sk-text-repr-fallback {display: none;}</style><div id=\"sk-container-id-1\" class=\"sk-top-container\"><div class=\"sk-text-repr-fallback\"><pre>TruncatedSVD(n_components=20)</pre><b>In a Jupyter environment, please rerun this cell to show the HTML representation or trust the notebook. <br />On GitHub, the HTML representation is unable to render, please try loading this page with nbviewer.org.</b></div><div class=\"sk-container\" hidden><div class=\"sk-item\"><div class=\"sk-estimator sk-toggleable\"><input class=\"sk-toggleable__control sk-hidden--visually\" id=\"sk-estimator-id-1\" type=\"checkbox\" checked><label for=\"sk-estimator-id-1\" class=\"sk-toggleable__label sk-toggleable__label-arrow\">TruncatedSVD</label><div class=\"sk-toggleable__content\"><pre>TruncatedSVD(n_components=20)</pre></div></div></div></div></div>"
            ],
            "text/plain": [
              "TruncatedSVD(n_components=20)"
            ]
          },
          "execution_count": 18,
          "metadata": {},
          "output_type": "execute_result"
        }
      ],
      "source": [
        "from sklearn.decomposition import TruncatedSVD\n",
        "\n",
        "n_components = 20\n",
        "lsa = TruncatedSVD(n_components=n_components)\n",
        "lsa_tdm = lsa.fit_transform(vectors)\n",
        "lsa"
      ]
    },
    {
      "cell_type": "markdown",
      "metadata": {},
      "source": [
        "3) Afficher les sujets obtenus (5 premiers mots aves poids)"
      ]
    },
    {
      "cell_type": "code",
      "execution_count": 19,
      "metadata": {},
      "outputs": [
        {
          "name": "stdout",
          "output_type": "stream",
          "text": [
            "Sujet 0 :\n",
            "can: 0.42575836491992985\n",
            "card: 0.3422930369231367\n",
            "tell: 0.30355006051323985\n",
            "credit: 0.29971357427710654\n",
            "need: 0.2500860167005815\n",
            "\n",
            "Sujet 1 :\n",
            "card: 0.5249906095697869\n",
            "credit: 0.4858201197303953\n",
            "limit: 0.16718044504535687\n",
            "score: 0.13459159207051558\n",
            "apr: 0.09581542586543627\n",
            "\n",
            "Sujet 2 :\n",
            "need: 0.49354699254191914\n",
            "know: 0.40281105041391063\n",
            "oil: 0.1803709462069572\n",
            "change: 0.17863095957751465\n",
            "card: 0.11336546815500684\n",
            "\n",
            "Sujet 3 :\n",
            "list: 0.47175441832752585\n",
            "please: 0.3647919844751427\n",
            "shopping: 0.30330292844560836\n",
            "know: 0.21629778045774037\n",
            "whats: 0.11002657153623444\n",
            "\n",
            "Sujet 4 :\n",
            "please: 0.4642398681118438\n",
            "change: 0.3714779293417194\n",
            "oil: 0.2925811850235531\n",
            "list: 0.18984358986392402\n",
            "shopping: 0.1124372431916949\n",
            "\n",
            "Sujet 5 :\n",
            "list: 0.5125270743510987\n",
            "shopping: 0.3581934945546106\n",
            "get: 0.18690005154406533\n",
            "can: 0.17458852682185708\n",
            "need: 0.15871680888370074\n",
            "\n",
            "Sujet 6 :\n",
            "tell: 0.44605079578676055\n",
            "name: 0.3222799515604131\n",
            "change: 0.2578104774113265\n",
            "oil: 0.2025411574405026\n",
            "whats: 0.20028141896868976\n",
            "\n",
            "Sujet 7 :\n",
            "can: 0.3577633292821539\n",
            "name: 0.25790045699191677\n",
            "know: 0.22480275621654597\n",
            "change: 0.19293950133239143\n",
            "account: 0.1911492459321836\n",
            "\n",
            "Sujet 8 :\n",
            "account: 0.5085616800201582\n",
            "bank: 0.29185104098778925\n",
            "tell: 0.21285427867314724\n",
            "number: 0.17447291284745425\n",
            "pin: 0.12139372757185037\n",
            "\n",
            "Sujet 9 :\n",
            "whats: 0.46144880792776355\n",
            "get: 0.3213860569545568\n",
            "account: 0.22431969639765525\n",
            "time: 0.20458434678544168\n",
            "next: 0.1971812587028124\n",
            "\n",
            "Sujet 10 :\n",
            "bill: 0.41945985102325295\n",
            "pay: 0.33498831802210566\n",
            "car: 0.3054840360790293\n",
            "much: 0.2852744487878828\n",
            "gas: 0.21649645288128225\n",
            "\n",
            "Sujet 11 :\n",
            "name: 0.5289473255423125\n",
            "need: 0.24783625165666057\n",
            "card: 0.22383252372659485\n",
            "bill: 0.1882746794862199\n",
            "pay: 0.16364248185814478\n",
            "\n",
            "Sujet 12 :\n",
            "need: 0.3569051847084381\n",
            "credit: 0.3180354727760228\n",
            "whats: 0.2909123552963113\n",
            "score: 0.26281674394821797\n",
            "song: 0.21351839476801773\n",
            "\n",
            "Sujet 13 :\n",
            "car: 0.4555327706841227\n",
            "whats: 0.3042609648480089\n",
            "gas: 0.1825527686616787\n",
            "get: 0.13422818381584325\n",
            "name: 0.10553760965917133\n",
            "\n",
            "Sujet 14 :\n",
            "whats: 0.3051825530383271\n",
            "vacation: 0.30455522687037545\n",
            "days: 0.2690506076708\n",
            "many: 0.26378411888558073\n",
            "can: 0.17720863005774926\n",
            "\n",
            "Sujet 15 :\n",
            "vacation: 0.3519035150615268\n",
            "days: 0.3225343226624319\n",
            "many: 0.3219139038847697\n",
            "much: 0.250492798285488\n",
            "name: 0.20666488024378388\n",
            "\n",
            "Sujet 16 :\n",
            "car: 0.38290521248868387\n",
            "next: 0.34432086977940085\n",
            "song: 0.311082661685107\n",
            "gas: 0.1688761701266468\n",
            "want: 0.1450752135216129\n",
            "\n",
            "Sujet 17 :\n",
            "set: 0.5040291802117565\n",
            "like: 0.4806787016068875\n",
            "direct: 0.2107896951738512\n",
            "deposit: 0.20351438857870874\n",
            "id: 0.20186766641565612\n",
            "\n",
            "Sujet 18 :\n",
            "like: 0.46891538316791104\n",
            "find: 0.23788180904593445\n",
            "phone: 0.23240853942484566\n",
            "help: 0.23092474914667674\n",
            "id: 0.20030843065473575\n",
            "\n",
            "Sujet 19 :\n",
            "want: 0.47713659542924425\n",
            "time: 0.3372226712230464\n",
            "find: 0.29634903889933795\n",
            "phone: 0.27122550809084384\n",
            "help: 0.2417520081222664\n",
            "\n"
          ]
        }
      ],
      "source": [
        "for sujet, component in enumerate(lsa.components_):\n",
        "    print('Sujet', sujet, ':')\n",
        "    top_words = [(vectorizer.get_feature_names_out()[idx], component[idx]) for idx in np.argsort(-component)[:5]]\n",
        "    for word, weight in top_words:\n",
        "        print(f\"{word}: {weight}\")\n",
        "    print()"
      ]
    },
    {
      "cell_type": "markdown",
      "metadata": {},
      "source": [
        "4) Afficher toutes les intentions distinctes de train_df"
      ]
    },
    {
      "cell_type": "code",
      "execution_count": 20,
      "metadata": {},
      "outputs": [
        {
          "name": "stdout",
          "output_type": "stream",
          "text": [
            "translate\n",
            "transfer\n",
            "timer\n",
            "definition\n",
            "meaning_of_life\n",
            "insurance_change\n",
            "find_phone\n",
            "travel_alert\n",
            "pto_request\n",
            "improve_credit_score\n",
            "fun_fact\n",
            "change_language\n",
            "payday\n",
            "replacement_card_duration\n",
            "time\n",
            "application_status\n",
            "flight_status\n",
            "flip_coin\n",
            "change_user_name\n",
            "where_are_you_from\n",
            "shopping_list_update\n",
            "what_can_i_ask_you\n",
            "maybe\n",
            "oil_change_how\n",
            "restaurant_reservation\n",
            "balance\n",
            "confirm_reservation\n",
            "freeze_account\n",
            "rollover_401k\n",
            "who_made_you\n",
            "distance\n",
            "user_name\n",
            "timezone\n",
            "next_song\n",
            "transactions\n",
            "restaurant_suggestion\n",
            "rewards_balance\n",
            "pay_bill\n",
            "spending_history\n",
            "pto_request_status\n",
            "credit_score\n",
            "new_card\n",
            "lost_luggage\n",
            "repeat\n",
            "mpg\n",
            "oil_change_when\n",
            "yes\n",
            "travel_suggestion\n",
            "insurance\n",
            "todo_list_update\n",
            "reminder\n",
            "change_speed\n",
            "tire_pressure\n",
            "no\n",
            "apr\n",
            "nutrition_info\n",
            "calendar\n",
            "uber\n",
            "calculator\n",
            "date\n",
            "carry_on\n",
            "pto_used\n",
            "schedule_maintenance\n",
            "travel_notification\n",
            "sync_device\n",
            "thank_you\n",
            "roll_dice\n",
            "food_last\n",
            "cook_time\n",
            "reminder_update\n",
            "report_lost_card\n",
            "ingredient_substitution\n",
            "make_call\n",
            "alarm\n",
            "todo_list\n",
            "change_accent\n",
            "w2\n",
            "bill_due\n",
            "calories\n",
            "damaged_card\n",
            "restaurant_reviews\n",
            "routing\n",
            "do_you_have_pets\n",
            "schedule_meeting\n",
            "gas_type\n",
            "plug_type\n",
            "tire_change\n",
            "exchange_rate\n",
            "next_holiday\n",
            "change_volume\n",
            "who_do_you_work_for\n",
            "credit_limit\n",
            "how_busy\n",
            "accept_reservations\n",
            "order_status\n",
            "pin_change\n",
            "goodbye\n",
            "account_blocked\n",
            "what_song\n",
            "international_fees\n",
            "last_maintenance\n",
            "meeting_schedule\n",
            "ingredients_list\n",
            "report_fraud\n",
            "measurement_conversion\n",
            "smart_home\n",
            "book_hotel\n",
            "current_location\n",
            "weather\n",
            "taxes\n",
            "min_payment\n",
            "whisper_mode\n",
            "cancel\n",
            "international_visa\n",
            "vaccines\n",
            "pto_balance\n",
            "directions\n",
            "spelling\n",
            "greeting\n",
            "reset_settings\n",
            "what_is_your_name\n",
            "direct_deposit\n",
            "interest_rate\n",
            "credit_limit_change\n",
            "what_are_your_hobbies\n",
            "book_flight\n",
            "shopping_list\n",
            "text\n",
            "bill_balance\n",
            "share_location\n",
            "redeem_rewards\n",
            "play_music\n",
            "calendar_update\n",
            "are_you_a_bot\n",
            "gas\n",
            "expiration_date\n",
            "update_playlist\n",
            "cancel_reservation\n",
            "tell_joke\n",
            "change_ai_name\n",
            "how_old_are_you\n",
            "car_rental\n",
            "jump_start\n",
            "meal_suggestion\n",
            "recipe\n",
            "income\n",
            "order\n",
            "traffic\n",
            "order_checks\n",
            "card_declined\n"
          ]
        }
      ],
      "source": [
        "for intent in train_df['intent'].unique():\n",
        "    print(intent)"
      ]
    },
    {
      "cell_type": "markdown",
      "metadata": {},
      "source": [
        "5) Voyez-vous une relation entre les sujets extraits automatiquement et les intentions réelles ?"
      ]
    },
    {
      "cell_type": "markdown",
      "metadata": {},
      "source": [
        "    Oui, on contate une relation entre les sujets extraits et les intentions réelles. Par exemple, le sujet 1 nous parle de carte de crédit, cela nous fait penser à des transferts d'argent. On retrouve aussi le mot find dans un des sujets et l'une des intentions est find_phone."
      ]
    },
    {
      "cell_type": "markdown",
      "metadata": {},
      "source": [
        "6) Trouver les sujets des train_df_oos et eval_df_oos"
      ]
    },
    {
      "cell_type": "code",
      "execution_count": 21,
      "metadata": {},
      "outputs": [
        {
          "name": "stdout",
          "output_type": "stream",
          "text": [
            "Sujets obtenus à partir des phrases OOS:\n",
            "Sujet 1: start, marketing, character, saas, firm\n",
            "Sujet 2: many, next, game, bulls, chicago\n",
            "Sujet 3: marketing, can, next, saas, game\n",
            "Sujet 4: next, game, nintendo, football, created\n",
            "Sujet 5: alpha, males, mean, want, animals\n",
            "Sujet 6: can, year, radiohead, much, released\n",
            "Sujet 7: radiohead, much, year, marketing, saas\n",
            "Sujet 8: whats, first, saas, movies, character\n",
            "Sujet 9: created, nintendo, toyota, direct, bulls\n",
            "Sujet 10: evolution, first, theory, considered, stage\n",
            "Sujet 11: born, bryant, kobe, john, denver\n",
            "Sujet 12: released, year, star, trek, redemption\n",
            "Sujet 13: bulls, chicago, coach, players, college\n",
            "Sujet 14: personality, mean, type, compatible, infjs\n",
            "Sujet 15: long, take, winter, wire, transfers\n",
            "Sujet 16: best, whats, super, classical, piano\n",
            "Sujet 17: college, football, overtime, completing, benefits\n",
            "Sujet 18: current, movies, captain, ship, trend\n",
            "Sujet 19: current, war, captain, ship, market\n",
            "Sujet 20: war, involved, radiohead, years, korea\n"
          ]
        }
      ],
      "source": [
        "# concat les phrases OOS\n",
        "oos = pd.concat([train_df_oos, eval_df_oos])\n",
        "\n",
        "def remove_punctuation(text):\n",
        "    return text.translate(str.maketrans('', '', string.punctuation))\n",
        "vectorizer = TfidfVectorizer(stop_words=get_stop_words('en'), preprocessor=remove_punctuation) # TFIDF\n",
        "corpus = train_df_oos['sentence']\n",
        "vectors = vectorizer.fit_transform(corpus)\n",
        "vectors.toarray()\n",
        "\n",
        "#LSA\n",
        "n_components = 20\n",
        "lsa_oss = TruncatedSVD(n_components=n_components)\n",
        "lsa_oos_vectors = lsa_oss.fit_transform(vectors)\n",
        "\n",
        "# Affichage des sujets obtenus\n",
        "print(\"Sujets obtenus à partir des phrases OOS:\")\n",
        "for i, component in enumerate(lsa_oss.components_):\n",
        "    top_words_idx = np.argsort(-component)[:5]\n",
        "    top_words = [vectorizer.get_feature_names_out()[idx] for idx in top_words_idx]\n",
        "    print(f\"Sujet {i+1}: {', '.join(top_words)}\")\n"
      ]
    },
    {
      "cell_type": "markdown",
      "metadata": {},
      "source": [
        "Oui, il semblerait que ces sujets soient différents des intentions existantes"
      ]
    },
    {
      "cell_type": "markdown",
      "metadata": {
        "id": "MV9h0y3-2dle"
      },
      "source": [
        "## 4) Classification:"
      ]
    },
    {
      "cell_type": "markdown",
      "metadata": {},
      "source": [
        "1) Constuire Bag Of Word pour train et eval"
      ]
    },
    {
      "cell_type": "code",
      "execution_count": 22,
      "metadata": {
        "id": "AIW-nhs72eBq"
      },
      "outputs": [
        {
          "name": "stdout",
          "output_type": "stream",
          "text": [
            "{'much': 160, 'overdraft': 175, 'fee': 101, 'bank': 25, 'exponents': 96, 'preformed': 196, 'multiplication': 161, 'order': 172, 'operations': 171, 'size': 227, 'wipers': 284, 'car': 47, 'take': 249, 'dipstick': 80, 'share': 222, 'aapl': 1, 'glue': 113, 'made': 145, 'headlines': 116, 'area': 18, 'largest': 133, 'state': 240, 'us': 272, 'current': 75, 'market': 151, 'trend': 266, 'popular': 193, 'airline': 7, 'formula': 108, 'circumference': 54, 'circle': 53, 'ways': 278, 'reduce': 201, 'spending': 233, 'time': 256, 'louvre': 144, 'open': 170, 'local': 141, 'stations': 242, 'covering': 71, 'moral': 157, 'march': 150, 'raleigh': 199, 'februaryu': 100, 'many': 149, 'planets': 186, 'discovered': 82, 'change': 49, 'billing': 32, 'address': 5, 'online': 169, 'line': 138, 'credit': 73, 'remove': 205, 'coffee': 59, 'blemish': 33, 'expensive': 94, 'apple': 17, 'can': 43, 'find': 103, 'cruise': 74, 'control': 70, 'kia': 130, 'sportage': 234, '2010': 0, 'sides': 226, 'hexagon': 118, 'fast': 99, 'airplane': 8, 'travel': 263, 'worth': 288, 'investing': 123, 'target': 250, 'need': 163, 'speak': 231, 'customer': 76, 'service': 220, 'regarding': 202, 'flight': 106, 'long': 142, 'wire': 285, 'transfers': 262, 'deals': 77, 'amazon': 12, 'city': 55, 'super': 247, 'bowl': 37, 'trees': 264, 'color': 62, 'autumn': 22, 'people': 178, 'prefer': 195, 'summer': 246, 'fall': 97, 'winter': 283, 'ben': 28, 'franklins': 110, 'notable': 167, 'accomplishments': 4, 'john': 127, 'denver': 78, 'born': 36, 'abraham': 3, 'lincoln': 137, 'live': 140, 'kobe': 131, 'bryant': 39, 'whos': 281, 'toledos': 258, 'starting': 239, 'point': 191, 'guard': 115, 'next': 164, 'game': 111, 'players': 189, 'chicago': 51, 'bulls': 40, 'coach': 58, 'utah': 273, 'jazz': 126, 'play': 187, 'nations': 162, 'involved': 124, 'chinese': 52, 'trade': 260, 'war': 276, 'years': 290, 'korea': 132, 'theory': 253, 'evolution': 92, 'first': 105, 'considered': 69, 'formulated': 109, 'relativity': 203, 'stage': 235, 'personality': 181, 'type': 267, 'compatible': 67, 'infjs': 122, 'mean': 154, 'whats': 279, 'dominant': 84, 'scale': 215, 'bluegrass': 35, 'year': 289, 'saxaphone': 214, 'played': 188, 'piano': 183, 'best': 30, 'classical': 57, 'k12': 129, 'education': 88, 'required': 206, 'outside': 174, 'united': 271, 'states': 241, 'benefits': 29, 'completing': 68, 'college': 61, 'able': 2, 'answer': 15, 'algebra': 9, 'equations': 91, 'help': 117, 'study': 245, 'history': 120, 'exam': 93, 'points': 192, 'per': 179, 'lebron': 135, 'james': 125, 'averaging': 24, 'season': 217, 'team': 251, 'eli': 89, 'mannign': 148, 'get': 112, 'dwight': 85, 'howard': 121, 'shooting': 225, 'average': 23, 'list': 139, 'tiger': 255, 'woods': 286, 'stats': 243, 'runtime': 212, 'lord': 143, 'rings': 210, 'movies': 159, 'combined': 63, 'character': 50, 'famous': 98, 'titanic': 257, 'oscars': 173, 'star': 236, 'wars': 277, 'films': 102, 'win': 282, 'shawshank': 223, 'redemption': 200, 'released': 204, 'marvel': 153, 'appeared': 16, 'whens': 280, 'movie': 158, 'starring': 237, 'thor': 254, 'set': 221, 'come': 64, 'capcom': 44, 'justice': 128, 'league': 134, 'coming': 65, 'tell': 252, 'something': 230, 'nfl': 165, 'please': 190, 'explain': 95, 'catch': 48, 'rule': 211, 'overtime': 176, 'football': 107, 'mls': 155, 'start': 238, 'price': 197, 'smash': 228, 'bros': 38, 'ultimate': 270, 'right': 209, 'now': 168, 'highest': 119, 'earning': 87, 'atari': 20, 'nintendo': 166, 'direct': 81, 'created': 72, 'capital': 45, 'pakistan': 177, 'population': 194, 'taiwan': 248, 'picassos': 184, 'works': 287, 'van': 274, 'goghs': 114, 'pieces': 185, 'see': 218, 'art': 19, 'camus': 42, 'die': 79, 'money': 156, 'radiohead': 198, 'earn': 86, 'biggest': 31, 'saas': 213, 'marketing': 152, 'company': 66, 'firm': 104, 'restaurant': 207, 'call': 41, 'someone': 229, 'segovia': 219, 'rhineland': 208, 'scariest': 216, 'trek': 265, 'captain': 46, 'ship': 224, 'toyota': 259, 'alumni': 11, 'ucsd': 269, 'students': 244, 'attend': 21, 'ucsb': 268, 'classes': 56, 'become': 27, 'aerospace': 6, 'engineer': 90, 'percentage': 180, 'species': 232, 'display': 83, 'cold': 60, 'blooded': 34, 'traits': 261, 'alpha': 10, 'male': 146, 'animals': 14, 'males': 147, 'want': 275, 'battery': 26, 'life': 136, 'android': 13, 'phone': 182}\n",
            "[[0 0 0 ... 0 0 0]\n",
            " [0 0 0 ... 0 0 0]\n",
            " [0 0 0 ... 0 0 0]\n",
            " ...\n",
            " [0 0 0 ... 0 0 0]\n",
            " [0 0 0 ... 0 0 0]\n",
            " [0 0 0 ... 0 0 0]]\n",
            "[[0 0 0 ... 0 0 0]\n",
            " [0 0 0 ... 0 0 0]\n",
            " [0 0 0 ... 0 0 0]\n",
            " ...\n",
            " [0 0 0 ... 0 0 0]\n",
            " [0 0 0 ... 0 0 0]\n",
            " [0 0 0 ... 0 0 0]]\n",
            "[[0 0 0 ... 0 0 0]\n",
            " [0 0 0 ... 0 0 0]\n",
            " [0 0 0 ... 0 0 0]\n",
            " ...\n",
            " [0 0 0 ... 0 0 0]\n",
            " [0 0 0 ... 0 0 0]\n",
            " [0 0 0 ... 0 0 0]]\n",
            "[[0 0 0 ... 0 0 0]\n",
            " [0 0 0 ... 0 0 0]\n",
            " [0 0 0 ... 0 0 0]\n",
            " ...\n",
            " [0 0 0 ... 0 0 0]\n",
            " [0 0 0 ... 0 0 0]\n",
            " [0 0 0 ... 0 0 0]]\n"
          ]
        }
      ],
      "source": [
        "from sklearn.feature_extraction.text import CountVectorizer\n",
        "vectorizer1 = CountVectorizer(stop_words='english')\n",
        "vectorizer2 = CountVectorizer(stop_words='english')\n",
        "vectors_train_sentence = vectorizer1.fit_transform(train_df['sentence'])\n",
        "vectors_train_processed = vectorizer2.fit_transform(train_df['processed_sentence'])\n",
        "vectors_eval_sentence = vectorizer1.transform(val_df['sentence'])\n",
        "vectors_eval_processed = vectorizer2.transform(val_df['processed_sentence'])\n",
        "print(vectorizer.vocabulary_)\n",
        "\n",
        "print(vectors_train_sentence.toarray()) # Sac de mot pour train['setence']\n",
        "print(vectors_train_processed.toarray())\n",
        "print(vectors_eval_sentence.toarray())\n",
        "print(vectors_eval_processed.toarray())"
      ]
    },
    {
      "cell_type": "markdown",
      "metadata": {},
      "source": [
        "2)  Crée 2 Logistic Regression pour chaque matrice de train"
      ]
    },
    {
      "cell_type": "code",
      "execution_count": 23,
      "metadata": {},
      "outputs": [
        {
          "data": {
            "text/html": [
              "<style>#sk-container-id-2 {color: black;background-color: white;}#sk-container-id-2 pre{padding: 0;}#sk-container-id-2 div.sk-toggleable {background-color: white;}#sk-container-id-2 label.sk-toggleable__label {cursor: pointer;display: block;width: 100%;margin-bottom: 0;padding: 0.3em;box-sizing: border-box;text-align: center;}#sk-container-id-2 label.sk-toggleable__label-arrow:before {content: \"▸\";float: left;margin-right: 0.25em;color: #696969;}#sk-container-id-2 label.sk-toggleable__label-arrow:hover:before {color: black;}#sk-container-id-2 div.sk-estimator:hover label.sk-toggleable__label-arrow:before {color: black;}#sk-container-id-2 div.sk-toggleable__content {max-height: 0;max-width: 0;overflow: hidden;text-align: left;background-color: #f0f8ff;}#sk-container-id-2 div.sk-toggleable__content pre {margin: 0.2em;color: black;border-radius: 0.25em;background-color: #f0f8ff;}#sk-container-id-2 input.sk-toggleable__control:checked~div.sk-toggleable__content {max-height: 200px;max-width: 100%;overflow: auto;}#sk-container-id-2 input.sk-toggleable__control:checked~label.sk-toggleable__label-arrow:before {content: \"▾\";}#sk-container-id-2 div.sk-estimator input.sk-toggleable__control:checked~label.sk-toggleable__label {background-color: #d4ebff;}#sk-container-id-2 div.sk-label input.sk-toggleable__control:checked~label.sk-toggleable__label {background-color: #d4ebff;}#sk-container-id-2 input.sk-hidden--visually {border: 0;clip: rect(1px 1px 1px 1px);clip: rect(1px, 1px, 1px, 1px);height: 1px;margin: -1px;overflow: hidden;padding: 0;position: absolute;width: 1px;}#sk-container-id-2 div.sk-estimator {font-family: monospace;background-color: #f0f8ff;border: 1px dotted black;border-radius: 0.25em;box-sizing: border-box;margin-bottom: 0.5em;}#sk-container-id-2 div.sk-estimator:hover {background-color: #d4ebff;}#sk-container-id-2 div.sk-parallel-item::after {content: \"\";width: 100%;border-bottom: 1px solid gray;flex-grow: 1;}#sk-container-id-2 div.sk-label:hover label.sk-toggleable__label {background-color: #d4ebff;}#sk-container-id-2 div.sk-serial::before {content: \"\";position: absolute;border-left: 1px solid gray;box-sizing: border-box;top: 0;bottom: 0;left: 50%;z-index: 0;}#sk-container-id-2 div.sk-serial {display: flex;flex-direction: column;align-items: center;background-color: white;padding-right: 0.2em;padding-left: 0.2em;position: relative;}#sk-container-id-2 div.sk-item {position: relative;z-index: 1;}#sk-container-id-2 div.sk-parallel {display: flex;align-items: stretch;justify-content: center;background-color: white;position: relative;}#sk-container-id-2 div.sk-item::before, #sk-container-id-2 div.sk-parallel-item::before {content: \"\";position: absolute;border-left: 1px solid gray;box-sizing: border-box;top: 0;bottom: 0;left: 50%;z-index: -1;}#sk-container-id-2 div.sk-parallel-item {display: flex;flex-direction: column;z-index: 1;position: relative;background-color: white;}#sk-container-id-2 div.sk-parallel-item:first-child::after {align-self: flex-end;width: 50%;}#sk-container-id-2 div.sk-parallel-item:last-child::after {align-self: flex-start;width: 50%;}#sk-container-id-2 div.sk-parallel-item:only-child::after {width: 0;}#sk-container-id-2 div.sk-dashed-wrapped {border: 1px dashed gray;margin: 0 0.4em 0.5em 0.4em;box-sizing: border-box;padding-bottom: 0.4em;background-color: white;}#sk-container-id-2 div.sk-label label {font-family: monospace;font-weight: bold;display: inline-block;line-height: 1.2em;}#sk-container-id-2 div.sk-label-container {text-align: center;}#sk-container-id-2 div.sk-container {/* jupyter's `normalize.less` sets `[hidden] { display: none; }` but bootstrap.min.css set `[hidden] { display: none !important; }` so we also need the `!important` here to be able to override the default hidden behavior on the sphinx rendered scikit-learn.org. See: https://github.com/scikit-learn/scikit-learn/issues/21755 */display: inline-block !important;position: relative;}#sk-container-id-2 div.sk-text-repr-fallback {display: none;}</style><div id=\"sk-container-id-2\" class=\"sk-top-container\"><div class=\"sk-text-repr-fallback\"><pre>LogisticRegression(max_iter=1000)</pre><b>In a Jupyter environment, please rerun this cell to show the HTML representation or trust the notebook. <br />On GitHub, the HTML representation is unable to render, please try loading this page with nbviewer.org.</b></div><div class=\"sk-container\" hidden><div class=\"sk-item\"><div class=\"sk-estimator sk-toggleable\"><input class=\"sk-toggleable__control sk-hidden--visually\" id=\"sk-estimator-id-2\" type=\"checkbox\" checked><label for=\"sk-estimator-id-2\" class=\"sk-toggleable__label sk-toggleable__label-arrow\">LogisticRegression</label><div class=\"sk-toggleable__content\"><pre>LogisticRegression(max_iter=1000)</pre></div></div></div></div></div>"
            ],
            "text/plain": [
              "LogisticRegression(max_iter=1000)"
            ]
          },
          "execution_count": 23,
          "metadata": {},
          "output_type": "execute_result"
        }
      ],
      "source": [
        "from sklearn.linear_model import LogisticRegression\n",
        "\n",
        "LR_sentence = LogisticRegression(max_iter=1000)\n",
        "LR_sentence.fit(vectors_train_sentence, train_df['intent'])\n",
        "\n",
        "LR_processed = LogisticRegression(max_iter=1000)\n",
        "LR_processed.fit(vectors_train_processed, train_df['intent'])\n"
      ]
    },
    {
      "cell_type": "markdown",
      "metadata": {},
      "source": [
        "3) Évaluer avec précision et micro F1 score sur Eval"
      ]
    },
    {
      "cell_type": "code",
      "execution_count": 24,
      "metadata": {},
      "outputs": [
        {
          "name": "stdout",
          "output_type": "stream",
          "text": [
            "Sentence :\n",
            "precision: 0.8163333333333334\n",
            "F1: 0.8163333333333335\n",
            "Processed :\n",
            "precision: 0.8066666666666666\n",
            "F1: 0.8066666666666665\n"
          ]
        }
      ],
      "source": [
        "from sklearn.metrics import accuracy_score, f1_score\n",
        "\n",
        "LR_sentence_pred = LR_sentence.predict(vectors_eval_sentence)\n",
        "print('Sentence :')\n",
        "print('precision:', accuracy_score(val_df['intent'], LR_sentence_pred))\n",
        "print('F1:', f1_score(val_df['intent'], LR_sentence_pred, average='micro'))\n",
        "\n",
        "LR_processed_pred = LR_processed.predict(vectors_eval_processed)\n",
        "print('Processed :')\n",
        "print('precision:', accuracy_score(val_df['intent'], LR_processed_pred))\n",
        "print('F1:', f1_score(val_df['intent'], LR_processed_pred, average='micro'))"
      ]
    },
    {
      "cell_type": "markdown",
      "metadata": {},
      "source": [
        "4) On essaie avec TF-IDF"
      ]
    },
    {
      "cell_type": "code",
      "execution_count": 25,
      "metadata": {},
      "outputs": [
        {
          "name": "stdout",
          "output_type": "stream",
          "text": [
            "Sentence (TF-IDF):\n",
            "Precision: 0.811\n",
            "F1: 0.811\n",
            "Processed (TF-IDF):\n",
            "Precision: 0.8026666666666666\n",
            "F1: 0.8026666666666666\n"
          ]
        }
      ],
      "source": [
        "vectorizer1 = TfidfVectorizer(stop_words='english')\n",
        "vectorizer2 = TfidfVectorizer(stop_words='english')\n",
        "\n",
        "vectors_train_sentence = vectorizer1.fit_transform(train_df['sentence'])\n",
        "vectors_train_processed = vectorizer2.fit_transform(train_df['processed_sentence'])\n",
        "vectors_eval_sentence = vectorizer1.transform(val_df['sentence'])\n",
        "vectors_eval_processed = vectorizer2.transform(val_df['processed_sentence'])\n",
        "\n",
        "LR_sentence_tfidf = LogisticRegression(max_iter=1000)\n",
        "LR_sentence_tfidf.fit(vectors_train_sentence, train_df['intent'])\n",
        "\n",
        "LR_processed_tfidf = LogisticRegression(max_iter=1000)\n",
        "LR_processed_tfidf.fit(vectors_train_processed, train_df['intent'])\n",
        "\n",
        "\n",
        "LR_sentence_pred_tfidf = LR_sentence_tfidf.predict(vectors_eval_sentence)\n",
        "print('Sentence (TF-IDF):')\n",
        "print('Precision:', accuracy_score(val_df['intent'], LR_sentence_pred_tfidf))\n",
        "print('F1:', f1_score(val_df['intent'], LR_sentence_pred_tfidf, average='micro'))\n",
        "\n",
        "LR_processed_pred_tfidf = LR_processed_tfidf.predict(vectors_eval_processed)\n",
        "print('Processed (TF-IDF):')\n",
        "print('Precision:', accuracy_score(val_df['intent'], LR_processed_pred_tfidf))\n",
        "print('F1:', f1_score(val_df['intent'], LR_processed_pred_tfidf, average='micro'))\n"
      ]
    },
    {
      "cell_type": "markdown",
      "metadata": {},
      "source": [
        "On peut donc conclure que les scores sont un peu moins bons que ceux de LogisticRegression"
      ]
    },
    {
      "cell_type": "markdown",
      "metadata": {},
      "source": [
        "5) Sélectionnez la meilleure approche, entraînez-la sur le sous-ensemble d'intentions suivant et affichez la matrice de confusion d'évaluation"
      ]
    },
    {
      "cell_type": "code",
      "execution_count": 26,
      "metadata": {},
      "outputs": [
        {
          "data": {
            "text/plain": [
              "<sklearn.metrics._plot.confusion_matrix.ConfusionMatrixDisplay at 0x77cf92b8fac0>"
            ]
          },
          "execution_count": 26,
          "metadata": {},
          "output_type": "execute_result"
        },
        {
          "data": {
            "image/png": "[encoded data removed]",
            "text/plain": [
              "<Figure size 640x480 with 2 Axes>"
            ]
          },
          "metadata": {},
          "output_type": "display_data"
        }
      ],
      "source": [
        "from sklearn.linear_model import LogisticRegression\n",
        "from sklearn.metrics import confusion_matrix\n",
        "from sklearn.model_selection import cross_val_predict\n",
        "\n",
        "# sous-ensemble d'intentions\n",
        "sousEnsemble = ['traduire', 'transfert', 'définition', 'change_langue', 'payday', 'replacement_card_duration', 'solde', 'pay_bill', 'sending_history', 'credit_score', 'report_lost_card', 'damaged_card', 'credit_limit', 'account_blocked', 'report_fraud', 'direct_deposit', 'interest_rate', 'credit_limit_change', 'card_declined']\n",
        "\n",
        "new_train_df = train_df[train_df['intent'].isin(sousEnsemble)]\n",
        "new_val_df = val_df[val_df['intent'].isin(sousEnsemble)]\n",
        "\n",
        "vectorizer1 = CountVectorizer(stop_words='english')\n",
        "vectors_train_sentence = vectorizer1.fit_transform(new_train_df['sentence'])\n",
        "vectors_eval_sentence = vectorizer1.transform(new_val_df['sentence'])\n",
        "\n",
        "LR_best = LogisticRegression(max_iter=1000)\n",
        "LR_best.fit(vectors_train_sentence, new_train_df['intent'])\n",
        "\n",
        "\n",
        "LR_simple_pred = cross_val_predict(LR_best, vectors_eval_sentence, new_val_df['intent'], cv=5)\n",
        "\n",
        "from sklearn.preprocessing import LabelEncoder\n",
        "le = LabelEncoder()\n",
        "y_train = le.fit_transform(new_train_df['intent'])\n",
        "y_test = le.transform(new_val_df['intent'])\n",
        "\n",
        "from sklearn.metrics import confusion_matrix, ConfusionMatrixDisplay\n",
        "cm = confusion_matrix(new_val_df['intent'], LR_simple_pred)\n",
        "disp = ConfusionMatrixDisplay(confusion_matrix=cm,display_labels=le.classes_)\n",
        "disp.plot()\n"
      ]
    },
    {
      "cell_type": "markdown",
      "metadata": {},
      "source": [
        "6) Quelles paires d'intentions sont les plus confondues ?"
      ]
    },
    {
      "cell_type": "markdown",
      "metadata": {},
      "source": [
        "Les paires d'intention les plus confondues sont pay_bill avec payday"
      ]
    },
    {
      "cell_type": "markdown",
      "metadata": {
        "id": "Gg-V9MWC2ec8"
      },
      "source": [
        "## 5) Named Entity Recognition:"
      ]
    },
    {
      "cell_type": "markdown",
      "metadata": {},
      "source": [
        "1) On se concentre sur certaines intentions"
      ]
    },
    {
      "cell_type": "code",
      "execution_count": 27,
      "metadata": {
        "id": "AG_XTIja2e2A"
      },
      "outputs": [],
      "source": [
        "selected_intentions = ['change_user_name', 'time', 'change_lingual', 'pto_request', 'travel_alert', 'timer', 'Translate']\n",
        "selected_train_df = train_df[train_df['intent'].isin(selected_intentions)]\n",
        "selected_val_df = val_df[val_df['intent'].isin(selected_intentions)]"
      ]
    },
    {
      "cell_type": "markdown",
      "metadata": {},
      "source": [
        "2) Afficher 10 phrases pour chaque intention"
      ]
    },
    {
      "cell_type": "code",
      "execution_count": 28,
      "metadata": {},
      "outputs": [
        {
          "name": "stdout",
          "output_type": "stream",
          "text": [
            "change_user_name :\n",
            "1. i'd rather have you call be ray ray\n",
            "2. you can call me john\n",
            "3. the name i go by is sandy\n",
            "4. call me dad\n",
            "5. i want you to call me lord\n",
            "6. i'd like you to call me something different\n",
            "7. call me mary\n",
            "8. call me carrie\n",
            "9. my name is jim\n",
            "10. i go by the name jim\n",
            "\n",
            "time :\n",
            "1. i want to know what time it is\n",
            "2. what time is it\n",
            "3. in pacific time, what's the current time\n",
            "4. in the eastern timezone, what time is it now\n",
            "5. what is the time right now in the hst timezone\n",
            "6. what time is it in the central standard timezone\n",
            "7. what's the current time now cst\n",
            "8. what time is it in the eastern standard timezone\n",
            "9. current time, please\n",
            "10. what time is it on the pacific coast right now\n",
            "\n",
            "change_lingual :\n",
            "\n",
            "pto_request :\n",
            "1. what do i do to request a vacation\n",
            "2. can you put in a pto request for march 4 to march 6 for me\n",
            "3. can i take a pto for two days, starting on february 7\n",
            "4. let's do a personal pto request for the dates may 12th to may 15th\n",
            "5. am i able to place a pto request for february 20-25\n",
            "6. please tell me how to submit a vacation request\n",
            "7. can you tell me how to make a vacation request\n",
            "8. how do i ask to have a vacation\n",
            "9. can you put in a pto request for march 7th to the 9th\n",
            "10. i need to set up a vacation request, what do i need to give you\n",
            "\n",
            "travel_alert :\n",
            "1. argentina travel alert yes or no\n",
            "2. are there any travel alerts for china\n",
            "3. are there any travel alerts for ukraine\n",
            "4. tell me about any travel alerts issued for germany\n",
            "5. is there a travel alert for [country]\n",
            "6. does china have any travel alerts i should be aware of\n",
            "7. is las vegas a safe place to visit\n",
            "8. where are there current travel alerts\n",
            "9. i am going to australia and want to be notified of any travel alerts\n",
            "10. is there a travel alert for scotland\n",
            "\n",
            "timer :\n",
            "1. can you please the timer\n",
            "2. \"can u set a timer for 5 minutes\n",
            "3. set a timer for two minutes\n",
            "4. can you set a timer for two minutes\n",
            "5. set a timer for fifteen seconds\n",
            "6. please set a timer for me\n",
            "7. please set a 4 minute timer\n",
            "8. set 30 minute timer\n",
            "9. set a one hour timer\n",
            "10. create a timer for me\n",
            "\n",
            "Translate :\n",
            "\n"
          ]
        }
      ],
      "source": [
        "import random\n",
        "\n",
        "for intent in selected_intentions:\n",
        "    print(intent,':')\n",
        "    temp_train_df = selected_train_df[selected_train_df['intent'] == intent]\n",
        "    random_sentences = temp_train_df.sample(n=min(10, len(temp_train_df)))['sentence'].tolist()\n",
        "    for i, sentence in enumerate(random_sentences, start=1):\n",
        "        print(f\"{i}. {sentence}\")\n",
        "    print()"
      ]
    },
    {
      "cell_type": "markdown",
      "metadata": {},
      "source": [
        "Les entités à reconnaitre sont les Noms, les adresses, les lieux, les dates, les organisations ..."
      ]
    },
    {
      "cell_type": "markdown",
      "metadata": {},
      "source": [
        "3) Instancier le modèle anglais spacy"
      ]
    },
    {
      "cell_type": "code",
      "execution_count": 29,
      "metadata": {},
      "outputs": [],
      "source": [
        "import spacy\n",
        "nlp = spacy.load(\"en_core_web_sm\", disable = ['tagger', 'parser', 'ner'])"
      ]
    },
    {
      "cell_type": "markdown",
      "metadata": {},
      "source": [
        "4) Reconnaissance basée sur des règles pour les langues, les dates et les pays des entités "
      ]
    },
    {
      "cell_type": "code",
      "execution_count": 30,
      "metadata": {
        "id": "o-NBwdtzXwNN"
      },
      "outputs": [
        {
          "name": "stdout",
          "output_type": "stream",
          "text": [
            "Defaulting to user installation because normal site-packages is not writeable\n",
            "Requirement already satisfied: geonamescache in /home/sandro/.local/lib/python3.10/site-packages (2.0.0)\n",
            "\n",
            "\u001b[1m[\u001b[0m\u001b[34;49mnotice\u001b[0m\u001b[1;39;49m]\u001b[0m\u001b[39;49m A new release of pip is available: \u001b[0m\u001b[31;49m24.2\u001b[0m\u001b[39;49m -> \u001b[0m\u001b[32;49m24.3\u001b[0m\n",
            "\u001b[1m[\u001b[0m\u001b[34;49mnotice\u001b[0m\u001b[1;39;49m]\u001b[0m\u001b[39;49m To update, run: \u001b[0m\u001b[32;49mpip install --upgrade pip\u001b[0m\n",
            "Defaulting to user installation because normal site-packages is not writeable\n",
            "Requirement already satisfied: pycountry in /home/sandro/.local/lib/python3.10/site-packages (23.12.11)\n",
            "\n",
            "\u001b[1m[\u001b[0m\u001b[34;49mnotice\u001b[0m\u001b[1;39;49m]\u001b[0m\u001b[39;49m A new release of pip is available: \u001b[0m\u001b[31;49m24.2\u001b[0m\u001b[39;49m -> \u001b[0m\u001b[32;49m24.3\u001b[0m\n",
            "\u001b[1m[\u001b[0m\u001b[34;49mnotice\u001b[0m\u001b[1;39;49m]\u001b[0m\u001b[39;49m To update, run: \u001b[0m\u001b[32;49mpip install --upgrade pip\u001b[0m\n"
          ]
        }
      ],
      "source": [
        "!pip install geonamescache\n",
        "!pip install pycountry"
      ]
    },
    {
      "cell_type": "code",
      "execution_count": 31,
      "metadata": {
        "id": "1udw_i8W47Ak"
      },
      "outputs": [],
      "source": [
        "# getting a list of countries  using pycountry\n",
        "import pycountry\n",
        "countries = [x.name for x in list(pycountry.countries)]"
      ]
    },
    {
      "cell_type": "code",
      "execution_count": 32,
      "metadata": {
        "id": "V4GBE5FB6Qjv"
      },
      "outputs": [],
      "source": [
        "# hard coded languages\n",
        "languages = [\n",
        "    \"English\",\n",
        "    \"Spanish\",\n",
        "    \"French\",\n",
        "    \"German\",\n",
        "    \"Chinese\",\n",
        "    \"Hindi\",\n",
        "    \"Arabic\",\n",
        "    \"Bengali\",\n",
        "    \"Russian\",\n",
        "    \"Portuguese\",\n",
        "    \"Japanese\",\n",
        "    \"Punjabi\",\n",
        "    \"Bengali\",\n",
        "    \"Telugu\",\n",
        "    \"Marathi\",\n",
        "    \"Tamil\",\n",
        "    \"Urdu\",\n",
        "    \"Turkish\",\n",
        "    \"Italian\",\n",
        "    \"Vietnamese\",\n",
        "    \"Korean\",\n",
        "    \"Thai\",\n",
        "    \"Malay\",\n",
        "    \"Persian\",\n",
        "    \"Polish\",\n",
        "    \"Cantonese\",\n",
        "    \"Ukrainian\",\n",
        "    \"Romanian\",\n",
        "    \"Dutch\",\n",
        "    \"Swedish\",\n",
        "    \"Gujarati\",\n",
        "    \"Indonesian\",\n",
        "    \"Greek\",\n",
        "    \"Czech\",\n",
        "    \"Hebrew\",\n",
        "    \"Danish\",\n",
        "    \"Norwegian\",\n",
        "    \"Finnish\",\n",
        "    \"Hungarian\",\n",
        "    \"Slovak\",\n",
        "    \"Bulgarian\",\n",
        "    \"Croatian\",\n",
        "    \"Serbian\",\n",
        "    \"Slovenian\",\n",
        "    \"Lithuanian\",\n",
        "    \"Latvian\",\n",
        "    \"Estonian\",\n",
        "    \"Kazakh\",\n",
        "    \"Georgian\",\n",
        "    \"Tatar\",\n",
        "    \"Kyrgyz\",\n",
        "    \"Belarusian\",\n",
        "    \"Mongolian\",\n",
        "    \"Azerbaijani\",\n",
        "    \"Uzbek\",\n",
        "    \"Tajik\",\n",
        "    \"Turkmen\",\n",
        "    \"Armenian\",\n",
        "    \"Bosnian\",\n",
        "    \"Albanian\",\n",
        "    \"Macedonian\",\n",
        "    \"Montenegrin\",\n",
        "    \"Bislama\",\n",
        "    \"Fijian\",\n",
        "    \"Hawaiian\",\n",
        "    \"Samoan\",\n",
        "    \"Tongan\",\n",
        "    \"Tahitian\",\n",
        "    \"Marshallese\",\n",
        "    \"Palauan\",\n",
        "    \"Chamorro\"\n",
        "]"
      ]
    },
    {
      "cell_type": "code",
      "execution_count": 33,
      "metadata": {},
      "outputs": [],
      "source": [
        "ruler = nlp.add_pipe(\"entity_ruler\")\n",
        "patterns = [{\"label\": \"COUNTRY\", \"pattern\": [{\"LOWER\":ct.lower()}]} for ct in countries]\n",
        "ruler.add_patterns(patterns)\n",
        "date_patterns = [\n",
        "    {\"label\": \"DATE\", \"pattern\": [{\"LOWER\": {\"IN\": [\"january\", \"february\", \"march\",\"april\",\"may\",\"june\",\"july\",\"august\",\"september\",\"october\",\"november\",\"december\"]}},{\"TEXT\": {\"REGEX\": \"^[0-9]+\"}}]},\n",
        "    {\"label\": \"DATE\", \"pattern\": [{\"LOWER\": {\"IN\": [\"january\", \"february\", \"march\",\"april\",\"may\",\"june\",\"july\",\"august\",\"september\",\"october\",\"november\",\"december\"]}}]},\n",
        "    {\"label\": \"DATE\", \"pattern\": [{\"TEXT\": {\"REGEX\": r\"^\\d{4}-\\d{2}-\\d{2}$\"}}]}\n",
        "]\n",
        "\n",
        "# Ajouter les motifs de langue et de date à l'entity ruler\n",
        "ruler.add_patterns([{\"label\": \"LANGUAGE\", \"pattern\": [{\"LOWER\": lang.lower()}]} for lang in languages])\n",
        "ruler.add_patterns(date_patterns)"
      ]
    },
    {
      "cell_type": "markdown",
      "metadata": {},
      "source": [
        "5) Afficher les entités detectées"
      ]
    },
    {
      "cell_type": "code",
      "execution_count": 34,
      "metadata": {},
      "outputs": [
        {
          "name": "stdout",
          "output_type": "stream",
          "text": [
            "[('France', 'COUNTRY'), ('Cantonese', 'LANGUAGE'), ('January 16', 'DATE')]\n",
            "Intent: change_user_name\n",
            "please change the name you refer to me by\n",
            "[]\n",
            "\n",
            "how do i change the name you use to address me\n",
            "[]\n",
            "\n",
            "is there a way i can change the name you use to address me\n",
            "[]\n",
            "\n",
            "i need to change my name to something else for you to call me\n",
            "[]\n",
            "\n",
            "can i have you call me something else\n",
            "[]\n",
            "\n",
            "i go by brad\n",
            "[]\n",
            "\n",
            "usually people refer to me as brad\n",
            "[]\n",
            "\n",
            "i prefer to go by brad\n",
            "[]\n",
            "\n",
            "people call me brad\n",
            "[]\n",
            "\n",
            "my name is brad\n",
            "[]\n",
            "\n",
            "Intent: time\n",
            "what time is it in punta gorda, florida\n",
            "[]\n",
            "\n",
            "what time is it in glenwood springs, co\n",
            "[]\n",
            "\n",
            "what time is it in fredericksburg, tx\n",
            "[]\n",
            "\n",
            "what time is it in las vegas, nv\n",
            "[]\n",
            "\n",
            "what time is it in houston, tx\n",
            "[]\n",
            "\n",
            "i need to know the current time in the central timezone\n",
            "[]\n",
            "\n",
            "would you tell me the current time in the eastern timezone\n",
            "[]\n",
            "\n",
            "let me know the current time in the central timezone\n",
            "[]\n",
            "\n",
            "tell me what time it is in the central timezone\n",
            "[]\n",
            "\n",
            "i am needing to know the current time in the eastern timezone\n",
            "[]\n",
            "\n",
            "Intent: change_lingual\n",
            "Intent: pto_request\n",
            "how do i put in a pto request for the first to the ninth\n",
            "[]\n",
            "\n",
            "am i allowed to put in a pto request for now to april\n",
            "[('april', 'DATE')]\n",
            "\n",
            "is there a time i can put in a pto request for dec 2 to new years\n",
            "[]\n",
            "\n",
            "when can i put a pto request in for feb 22 to march 1\n",
            "[('march 1', 'DATE')]\n",
            "\n",
            "i need a pto request on march 1 to 2\n",
            "[('march 1', 'DATE')]\n",
            "\n",
            "on march 1-2 i want a pto request made for me\n",
            "[('march 1', 'DATE')]\n",
            "\n",
            "schedule a pto request for me on march 1-2\n",
            "[('march 1', 'DATE')]\n",
            "\n",
            "for march 1 to 2 make a pto request for me\n",
            "[('march 1', 'DATE')]\n",
            "\n",
            "i want to schedule a pto request on march 1-2\n",
            "[('march 1', 'DATE')]\n",
            "\n",
            "between october 7th and october 10th, i'd like for there to be a pto request for me\n",
            "[('october 7th', 'DATE'), ('october 10th', 'DATE')]\n",
            "\n",
            "Intent: travel_alert\n",
            "does ireland have any travel alerts i should be aware of\n",
            "[('ireland', 'COUNTRY')]\n",
            "\n",
            "does north korea have any travel alerts i should be aware of\n",
            "[]\n",
            "\n",
            "are there any travel alerts for russia\n",
            "[]\n",
            "\n",
            "does spain have any travel alerts i should be aware of\n",
            "[('spain', 'COUNTRY')]\n",
            "\n",
            "are there any travel alerts for north korea\n",
            "[]\n",
            "\n",
            "does macedonia have any travel alerts i should be aware of\n",
            "[]\n",
            "\n",
            "are there any travel alerts for syria\n",
            "[]\n",
            "\n",
            "are there any travel alerts for ukraine\n",
            "[('ukraine', 'COUNTRY')]\n",
            "\n",
            "does myanmar have any travel alerts i should be aware of\n",
            "[('myanmar', 'COUNTRY')]\n",
            "\n",
            "are there any travel alerts for china\n",
            "[('china', 'COUNTRY')]\n",
            "\n",
            "Intent: timer\n",
            "please set a 4 minute timer\n",
            "[]\n",
            "\n",
            "please set a timer for 6 minutes\n",
            "[]\n",
            "\n",
            "set a timer for 5 minutes\n",
            "[]\n",
            "\n",
            "i need a 7 minute timer\n",
            "[]\n",
            "\n",
            "i need to set the timer for two minutes\n",
            "[]\n",
            "\n",
            "can you set a timer for me for fifteen minutes starting now\n",
            "[]\n",
            "\n",
            "start the timer now and stop at thirty minutes\n",
            "[]\n",
            "\n",
            "i would like you to set the timer to go off in ten minutes\n",
            "[]\n",
            "\n",
            "please set a timer for 40 minutes\n",
            "[]\n",
            "\n",
            "wake me in an hour\n",
            "[]\n",
            "\n",
            "Intent: Translate\n"
          ]
        },
        {
          "name": "stderr",
          "output_type": "stream",
          "text": [
            "/home/sandro/.local/lib/python3.10/site-packages/spacy/pipeline/lemmatizer.py:211: UserWarning:\n",
            "\n",
            "[W108] The rule-based lemmatizer did not find POS annotation for one or more tokens. Check that your pipeline includes components that assign token.pos, typically 'tagger'+'attribute_ruler' or 'morphologizer'.\n",
            "\n",
            "/home/sandro/.local/lib/python3.10/site-packages/spacy/pipeline/lemmatizer.py:211: UserWarning:\n",
            "\n",
            "[W108] The rule-based lemmatizer did not find POS annotation for one or more tokens. Check that your pipeline includes components that assign token.pos, typically 'tagger'+'attribute_ruler' or 'morphologizer'.\n",
            "\n",
            "/home/sandro/.local/lib/python3.10/site-packages/spacy/pipeline/lemmatizer.py:211: UserWarning:\n",
            "\n",
            "[W108] The rule-based lemmatizer did not find POS annotation for one or more tokens. Check that your pipeline includes components that assign token.pos, typically 'tagger'+'attribute_ruler' or 'morphologizer'.\n",
            "\n",
            "/home/sandro/.local/lib/python3.10/site-packages/spacy/pipeline/lemmatizer.py:211: UserWarning:\n",
            "\n",
            "[W108] The rule-based lemmatizer did not find POS annotation for one or more tokens. Check that your pipeline includes components that assign token.pos, typically 'tagger'+'attribute_ruler' or 'morphologizer'.\n",
            "\n",
            "/home/sandro/.local/lib/python3.10/site-packages/spacy/pipeline/lemmatizer.py:211: UserWarning:\n",
            "\n",
            "[W108] The rule-based lemmatizer did not find POS annotation for one or more tokens. Check that your pipeline includes components that assign token.pos, typically 'tagger'+'attribute_ruler' or 'morphologizer'.\n",
            "\n",
            "/home/sandro/.local/lib/python3.10/site-packages/spacy/pipeline/lemmatizer.py:211: UserWarning:\n",
            "\n",
            "[W108] The rule-based lemmatizer did not find POS annotation for one or more tokens. Check that your pipeline includes components that assign token.pos, typically 'tagger'+'attribute_ruler' or 'morphologizer'.\n",
            "\n",
            "/home/sandro/.local/lib/python3.10/site-packages/spacy/pipeline/lemmatizer.py:211: UserWarning:\n",
            "\n",
            "[W108] The rule-based lemmatizer did not find POS annotation for one or more tokens. Check that your pipeline includes components that assign token.pos, typically 'tagger'+'attribute_ruler' or 'morphologizer'.\n",
            "\n",
            "/home/sandro/.local/lib/python3.10/site-packages/spacy/pipeline/lemmatizer.py:211: UserWarning:\n",
            "\n",
            "[W108] The rule-based lemmatizer did not find POS annotation for one or more tokens. Check that your pipeline includes components that assign token.pos, typically 'tagger'+'attribute_ruler' or 'morphologizer'.\n",
            "\n",
            "/home/sandro/.local/lib/python3.10/site-packages/spacy/pipeline/lemmatizer.py:211: UserWarning:\n",
            "\n",
            "[W108] The rule-based lemmatizer did not find POS annotation for one or more tokens. Check that your pipeline includes components that assign token.pos, typically 'tagger'+'attribute_ruler' or 'morphologizer'.\n",
            "\n",
            "/home/sandro/.local/lib/python3.10/site-packages/spacy/pipeline/lemmatizer.py:211: UserWarning:\n",
            "\n",
            "[W108] The rule-based lemmatizer did not find POS annotation for one or more tokens. Check that your pipeline includes components that assign token.pos, typically 'tagger'+'attribute_ruler' or 'morphologizer'.\n",
            "\n",
            "/home/sandro/.local/lib/python3.10/site-packages/spacy/pipeline/lemmatizer.py:211: UserWarning:\n",
            "\n",
            "[W108] The rule-based lemmatizer did not find POS annotation for one or more tokens. Check that your pipeline includes components that assign token.pos, typically 'tagger'+'attribute_ruler' or 'morphologizer'.\n",
            "\n",
            "/home/sandro/.local/lib/python3.10/site-packages/spacy/pipeline/lemmatizer.py:211: UserWarning:\n",
            "\n",
            "[W108] The rule-based lemmatizer did not find POS annotation for one or more tokens. Check that your pipeline includes components that assign token.pos, typically 'tagger'+'attribute_ruler' or 'morphologizer'.\n",
            "\n",
            "/home/sandro/.local/lib/python3.10/site-packages/spacy/pipeline/lemmatizer.py:211: UserWarning:\n",
            "\n",
            "[W108] The rule-based lemmatizer did not find POS annotation for one or more tokens. Check that your pipeline includes components that assign token.pos, typically 'tagger'+'attribute_ruler' or 'morphologizer'.\n",
            "\n",
            "/home/sandro/.local/lib/python3.10/site-packages/spacy/pipeline/lemmatizer.py:211: UserWarning:\n",
            "\n",
            "[W108] The rule-based lemmatizer did not find POS annotation for one or more tokens. Check that your pipeline includes components that assign token.pos, typically 'tagger'+'attribute_ruler' or 'morphologizer'.\n",
            "\n",
            "/home/sandro/.local/lib/python3.10/site-packages/spacy/pipeline/lemmatizer.py:211: UserWarning:\n",
            "\n",
            "[W108] The rule-based lemmatizer did not find POS annotation for one or more tokens. Check that your pipeline includes components that assign token.pos, typically 'tagger'+'attribute_ruler' or 'morphologizer'.\n",
            "\n",
            "/home/sandro/.local/lib/python3.10/site-packages/spacy/pipeline/lemmatizer.py:211: UserWarning:\n",
            "\n",
            "[W108] The rule-based lemmatizer did not find POS annotation for one or more tokens. Check that your pipeline includes components that assign token.pos, typically 'tagger'+'attribute_ruler' or 'morphologizer'.\n",
            "\n",
            "/home/sandro/.local/lib/python3.10/site-packages/spacy/pipeline/lemmatizer.py:211: UserWarning:\n",
            "\n",
            "[W108] The rule-based lemmatizer did not find POS annotation for one or more tokens. Check that your pipeline includes components that assign token.pos, typically 'tagger'+'attribute_ruler' or 'morphologizer'.\n",
            "\n",
            "/home/sandro/.local/lib/python3.10/site-packages/spacy/pipeline/lemmatizer.py:211: UserWarning:\n",
            "\n",
            "[W108] The rule-based lemmatizer did not find POS annotation for one or more tokens. Check that your pipeline includes components that assign token.pos, typically 'tagger'+'attribute_ruler' or 'morphologizer'.\n",
            "\n",
            "/home/sandro/.local/lib/python3.10/site-packages/spacy/pipeline/lemmatizer.py:211: UserWarning:\n",
            "\n",
            "[W108] The rule-based lemmatizer did not find POS annotation for one or more tokens. Check that your pipeline includes components that assign token.pos, typically 'tagger'+'attribute_ruler' or 'morphologizer'.\n",
            "\n",
            "/home/sandro/.local/lib/python3.10/site-packages/spacy/pipeline/lemmatizer.py:211: UserWarning:\n",
            "\n",
            "[W108] The rule-based lemmatizer did not find POS annotation for one or more tokens. Check that your pipeline includes components that assign token.pos, typically 'tagger'+'attribute_ruler' or 'morphologizer'.\n",
            "\n",
            "/home/sandro/.local/lib/python3.10/site-packages/spacy/pipeline/lemmatizer.py:211: UserWarning:\n",
            "\n",
            "[W108] The rule-based lemmatizer did not find POS annotation for one or more tokens. Check that your pipeline includes components that assign token.pos, typically 'tagger'+'attribute_ruler' or 'morphologizer'.\n",
            "\n",
            "/home/sandro/.local/lib/python3.10/site-packages/spacy/pipeline/lemmatizer.py:211: UserWarning:\n",
            "\n",
            "[W108] The rule-based lemmatizer did not find POS annotation for one or more tokens. Check that your pipeline includes components that assign token.pos, typically 'tagger'+'attribute_ruler' or 'morphologizer'.\n",
            "\n",
            "/home/sandro/.local/lib/python3.10/site-packages/spacy/pipeline/lemmatizer.py:211: UserWarning:\n",
            "\n",
            "[W108] The rule-based lemmatizer did not find POS annotation for one or more tokens. Check that your pipeline includes components that assign token.pos, typically 'tagger'+'attribute_ruler' or 'morphologizer'.\n",
            "\n",
            "/home/sandro/.local/lib/python3.10/site-packages/spacy/pipeline/lemmatizer.py:211: UserWarning:\n",
            "\n",
            "[W108] The rule-based lemmatizer did not find POS annotation for one or more tokens. Check that your pipeline includes components that assign token.pos, typically 'tagger'+'attribute_ruler' or 'morphologizer'.\n",
            "\n",
            "/home/sandro/.local/lib/python3.10/site-packages/spacy/pipeline/lemmatizer.py:211: UserWarning:\n",
            "\n",
            "[W108] The rule-based lemmatizer did not find POS annotation for one or more tokens. Check that your pipeline includes components that assign token.pos, typically 'tagger'+'attribute_ruler' or 'morphologizer'.\n",
            "\n",
            "/home/sandro/.local/lib/python3.10/site-packages/spacy/pipeline/lemmatizer.py:211: UserWarning:\n",
            "\n",
            "[W108] The rule-based lemmatizer did not find POS annotation for one or more tokens. Check that your pipeline includes components that assign token.pos, typically 'tagger'+'attribute_ruler' or 'morphologizer'.\n",
            "\n",
            "/home/sandro/.local/lib/python3.10/site-packages/spacy/pipeline/lemmatizer.py:211: UserWarning:\n",
            "\n",
            "[W108] The rule-based lemmatizer did not find POS annotation for one or more tokens. Check that your pipeline includes components that assign token.pos, typically 'tagger'+'attribute_ruler' or 'morphologizer'.\n",
            "\n",
            "/home/sandro/.local/lib/python3.10/site-packages/spacy/pipeline/lemmatizer.py:211: UserWarning:\n",
            "\n",
            "[W108] The rule-based lemmatizer did not find POS annotation for one or more tokens. Check that your pipeline includes components that assign token.pos, typically 'tagger'+'attribute_ruler' or 'morphologizer'.\n",
            "\n",
            "/home/sandro/.local/lib/python3.10/site-packages/spacy/pipeline/lemmatizer.py:211: UserWarning:\n",
            "\n",
            "[W108] The rule-based lemmatizer did not find POS annotation for one or more tokens. Check that your pipeline includes components that assign token.pos, typically 'tagger'+'attribute_ruler' or 'morphologizer'.\n",
            "\n",
            "/home/sandro/.local/lib/python3.10/site-packages/spacy/pipeline/lemmatizer.py:211: UserWarning:\n",
            "\n",
            "[W108] The rule-based lemmatizer did not find POS annotation for one or more tokens. Check that your pipeline includes components that assign token.pos, typically 'tagger'+'attribute_ruler' or 'morphologizer'.\n",
            "\n",
            "/home/sandro/.local/lib/python3.10/site-packages/spacy/pipeline/lemmatizer.py:211: UserWarning:\n",
            "\n",
            "[W108] The rule-based lemmatizer did not find POS annotation for one or more tokens. Check that your pipeline includes components that assign token.pos, typically 'tagger'+'attribute_ruler' or 'morphologizer'.\n",
            "\n",
            "/home/sandro/.local/lib/python3.10/site-packages/spacy/pipeline/lemmatizer.py:211: UserWarning:\n",
            "\n",
            "[W108] The rule-based lemmatizer did not find POS annotation for one or more tokens. Check that your pipeline includes components that assign token.pos, typically 'tagger'+'attribute_ruler' or 'morphologizer'.\n",
            "\n",
            "/home/sandro/.local/lib/python3.10/site-packages/spacy/pipeline/lemmatizer.py:211: UserWarning:\n",
            "\n",
            "[W108] The rule-based lemmatizer did not find POS annotation for one or more tokens. Check that your pipeline includes components that assign token.pos, typically 'tagger'+'attribute_ruler' or 'morphologizer'.\n",
            "\n",
            "/home/sandro/.local/lib/python3.10/site-packages/spacy/pipeline/lemmatizer.py:211: UserWarning:\n",
            "\n",
            "[W108] The rule-based lemmatizer did not find POS annotation for one or more tokens. Check that your pipeline includes components that assign token.pos, typically 'tagger'+'attribute_ruler' or 'morphologizer'.\n",
            "\n",
            "/home/sandro/.local/lib/python3.10/site-packages/spacy/pipeline/lemmatizer.py:211: UserWarning:\n",
            "\n",
            "[W108] The rule-based lemmatizer did not find POS annotation for one or more tokens. Check that your pipeline includes components that assign token.pos, typically 'tagger'+'attribute_ruler' or 'morphologizer'.\n",
            "\n",
            "/home/sandro/.local/lib/python3.10/site-packages/spacy/pipeline/lemmatizer.py:211: UserWarning:\n",
            "\n",
            "[W108] The rule-based lemmatizer did not find POS annotation for one or more tokens. Check that your pipeline includes components that assign token.pos, typically 'tagger'+'attribute_ruler' or 'morphologizer'.\n",
            "\n",
            "/home/sandro/.local/lib/python3.10/site-packages/spacy/pipeline/lemmatizer.py:211: UserWarning:\n",
            "\n",
            "[W108] The rule-based lemmatizer did not find POS annotation for one or more tokens. Check that your pipeline includes components that assign token.pos, typically 'tagger'+'attribute_ruler' or 'morphologizer'.\n",
            "\n",
            "/home/sandro/.local/lib/python3.10/site-packages/spacy/pipeline/lemmatizer.py:211: UserWarning:\n",
            "\n",
            "[W108] The rule-based lemmatizer did not find POS annotation for one or more tokens. Check that your pipeline includes components that assign token.pos, typically 'tagger'+'attribute_ruler' or 'morphologizer'.\n",
            "\n",
            "/home/sandro/.local/lib/python3.10/site-packages/spacy/pipeline/lemmatizer.py:211: UserWarning:\n",
            "\n",
            "[W108] The rule-based lemmatizer did not find POS annotation for one or more tokens. Check that your pipeline includes components that assign token.pos, typically 'tagger'+'attribute_ruler' or 'morphologizer'.\n",
            "\n",
            "/home/sandro/.local/lib/python3.10/site-packages/spacy/pipeline/lemmatizer.py:211: UserWarning:\n",
            "\n",
            "[W108] The rule-based lemmatizer did not find POS annotation for one or more tokens. Check that your pipeline includes components that assign token.pos, typically 'tagger'+'attribute_ruler' or 'morphologizer'.\n",
            "\n",
            "/home/sandro/.local/lib/python3.10/site-packages/spacy/pipeline/lemmatizer.py:211: UserWarning:\n",
            "\n",
            "[W108] The rule-based lemmatizer did not find POS annotation for one or more tokens. Check that your pipeline includes components that assign token.pos, typically 'tagger'+'attribute_ruler' or 'morphologizer'.\n",
            "\n",
            "/home/sandro/.local/lib/python3.10/site-packages/spacy/pipeline/lemmatizer.py:211: UserWarning:\n",
            "\n",
            "[W108] The rule-based lemmatizer did not find POS annotation for one or more tokens. Check that your pipeline includes components that assign token.pos, typically 'tagger'+'attribute_ruler' or 'morphologizer'.\n",
            "\n",
            "/home/sandro/.local/lib/python3.10/site-packages/spacy/pipeline/lemmatizer.py:211: UserWarning:\n",
            "\n",
            "[W108] The rule-based lemmatizer did not find POS annotation for one or more tokens. Check that your pipeline includes components that assign token.pos, typically 'tagger'+'attribute_ruler' or 'morphologizer'.\n",
            "\n",
            "/home/sandro/.local/lib/python3.10/site-packages/spacy/pipeline/lemmatizer.py:211: UserWarning:\n",
            "\n",
            "[W108] The rule-based lemmatizer did not find POS annotation for one or more tokens. Check that your pipeline includes components that assign token.pos, typically 'tagger'+'attribute_ruler' or 'morphologizer'.\n",
            "\n",
            "/home/sandro/.local/lib/python3.10/site-packages/spacy/pipeline/lemmatizer.py:211: UserWarning:\n",
            "\n",
            "[W108] The rule-based lemmatizer did not find POS annotation for one or more tokens. Check that your pipeline includes components that assign token.pos, typically 'tagger'+'attribute_ruler' or 'morphologizer'.\n",
            "\n",
            "/home/sandro/.local/lib/python3.10/site-packages/spacy/pipeline/lemmatizer.py:211: UserWarning:\n",
            "\n",
            "[W108] The rule-based lemmatizer did not find POS annotation for one or more tokens. Check that your pipeline includes components that assign token.pos, typically 'tagger'+'attribute_ruler' or 'morphologizer'.\n",
            "\n",
            "/home/sandro/.local/lib/python3.10/site-packages/spacy/pipeline/lemmatizer.py:211: UserWarning:\n",
            "\n",
            "[W108] The rule-based lemmatizer did not find POS annotation for one or more tokens. Check that your pipeline includes components that assign token.pos, typically 'tagger'+'attribute_ruler' or 'morphologizer'.\n",
            "\n",
            "/home/sandro/.local/lib/python3.10/site-packages/spacy/pipeline/lemmatizer.py:211: UserWarning:\n",
            "\n",
            "[W108] The rule-based lemmatizer did not find POS annotation for one or more tokens. Check that your pipeline includes components that assign token.pos, typically 'tagger'+'attribute_ruler' or 'morphologizer'.\n",
            "\n",
            "/home/sandro/.local/lib/python3.10/site-packages/spacy/pipeline/lemmatizer.py:211: UserWarning:\n",
            "\n",
            "[W108] The rule-based lemmatizer did not find POS annotation for one or more tokens. Check that your pipeline includes components that assign token.pos, typically 'tagger'+'attribute_ruler' or 'morphologizer'.\n",
            "\n",
            "/home/sandro/.local/lib/python3.10/site-packages/spacy/pipeline/lemmatizer.py:211: UserWarning:\n",
            "\n",
            "[W108] The rule-based lemmatizer did not find POS annotation for one or more tokens. Check that your pipeline includes components that assign token.pos, typically 'tagger'+'attribute_ruler' or 'morphologizer'.\n",
            "\n",
            "/home/sandro/.local/lib/python3.10/site-packages/spacy/pipeline/lemmatizer.py:211: UserWarning:\n",
            "\n",
            "[W108] The rule-based lemmatizer did not find POS annotation for one or more tokens. Check that your pipeline includes components that assign token.pos, typically 'tagger'+'attribute_ruler' or 'morphologizer'.\n",
            "\n"
          ]
        }
      ],
      "source": [
        "#test \n",
        "doc = nlp(\"Test France speak Cantonese in January 16\")\n",
        "print([(ent.text, ent.label_) for ent in doc.ents])\n",
        "\n",
        "for intent in selected_intentions:\n",
        "    print(\"Intent:\",intent)\n",
        "    relevant_sentences = selected_train_df[selected_train_df['intent'] == intent]['sentence'].head(10)\n",
        "    for i, sentence in enumerate(relevant_sentences):\n",
        "        doc = nlp(sentence)\n",
        "        print(sentence)\n",
        "        print([(ent.text, ent.label_) for ent in doc.ents])\n",
        "        print()"
      ]
    },
    {
      "cell_type": "markdown",
      "metadata": {
        "id": "cq1wqcvN2fHs"
      },
      "source": [
        "## 6) Chatbot:"
      ]
    },
    {
      "cell_type": "markdown",
      "metadata": {},
      "source": [
        "1) Demander à l'utilisateur de saisir une phrase\n",
        "2) Extraire les entités\n",
        "3) Intention prédiction\n",
        "4) Réponse"
      ]
    },
    {
      "cell_type": "code",
      "execution_count": 35,
      "metadata": {
        "id": "TehrIMRs2fyL"
      },
      "outputs": [
        {
          "name": "stderr",
          "output_type": "stream",
          "text": [
            "/home/sandro/.local/lib/python3.10/site-packages/spacy/pipeline/lemmatizer.py:211: UserWarning:\n",
            "\n",
            "[W108] The rule-based lemmatizer did not find POS annotation for one or more tokens. Check that your pipeline includes components that assign token.pos, typically 'tagger'+'attribute_ruler' or 'morphologizer'.\n",
            "\n"
          ]
        },
        {
          "name": "stdout",
          "output_type": "stream",
          "text": [
            "How do you say hello in French?\n",
            "    --> Entities: [('French', 'LANGUAGE')]\n",
            "    --> Prediction intention: ['payday']\n",
            "    --> Response: I can help you keep track of your payday.\n",
            "\n"
          ]
        },
        {
          "name": "stderr",
          "output_type": "stream",
          "text": [
            "/home/sandro/.local/lib/python3.10/site-packages/spacy/pipeline/lemmatizer.py:211: UserWarning:\n",
            "\n",
            "[W108] The rule-based lemmatizer did not find POS annotation for one or more tokens. Check that your pipeline includes components that assign token.pos, typically 'tagger'+'attribute_ruler' or 'morphologizer'.\n",
            "\n"
          ]
        },
        {
          "name": "stdout",
          "output_type": "stream",
          "text": [
            "I want to go on holidays from 2021-01-12 to 2021-01-25\n",
            "    --> Entities: []\n",
            "    --> Prediction intention: ['payday']\n",
            "    --> Response: I can help you keep track of your payday.\n",
            "\n"
          ]
        },
        {
          "name": "stderr",
          "output_type": "stream",
          "text": [
            "/home/sandro/.local/lib/python3.10/site-packages/spacy/pipeline/lemmatizer.py:211: UserWarning:\n",
            "\n",
            "[W108] The rule-based lemmatizer did not find POS annotation for one or more tokens. Check that your pipeline includes components that assign token.pos, typically 'tagger'+'attribute_ruler' or 'morphologizer'.\n",
            "\n"
          ]
        },
        {
          "name": "stdout",
          "output_type": "stream",
          "text": [
            "What is the weather in Germany?\n",
            "    --> Entities: [('Germany', 'COUNTRY')]\n",
            "    --> Prediction intention: ['payday']\n",
            "    --> Response: I can help you keep track of your payday.\n",
            "\n"
          ]
        },
        {
          "name": "stderr",
          "output_type": "stream",
          "text": [
            "/home/sandro/.local/lib/python3.10/site-packages/spacy/pipeline/lemmatizer.py:211: UserWarning:\n",
            "\n",
            "[W108] The rule-based lemmatizer did not find POS annotation for one or more tokens. Check that your pipeline includes components that assign token.pos, typically 'tagger'+'attribute_ruler' or 'morphologizer'.\n",
            "\n"
          ]
        },
        {
          "name": "stdout",
          "output_type": "stream",
          "text": [
            "Can you set the language to Spanish?\n",
            "    --> Entities: [('Spanish', 'LANGUAGE')]\n",
            "    --> Prediction intention: ['direct_deposit']\n",
            "    --> Response: I can assist you in setting up direct deposit.\n",
            "\n"
          ]
        }
      ],
      "source": [
        "while True:\n",
        "    sentence = input('Type your sentence (exit to quit):')\n",
        "    if sentence == 'exit':\n",
        "        break\n",
        "    doc = nlp(sentence)\n",
        "    print(sentence)\n",
        "    entities = [(ent.text, ent.label_) for ent in doc.ents]\n",
        "    print('    --> Entities:', entities)\n",
        "    vectors_phrase_a_predire = vectorizer1.transform([sentence])\n",
        "    intent = LR_best.predict(vectors_phrase_a_predire)\n",
        "    print('    --> Prediction intention:', intent)\n",
        "    response_row = intent_responses.loc[intent_responses['intent'] == intent[0], 'response']\n",
        "    if not response_row.empty:\n",
        "        response = response_row.values[0]\n",
        "    else:\n",
        "        response = \"I'm not sure how to help with that.\"\n",
        "    print('    --> Response:', response)\n",
        "    print()"
      ]
    }
  ],
  "metadata": {
    "colab": {
      "provenance": []
    },
    "kernelspec": {
      "display_name": "Python 3",
      "name": "python3"
    },
    "language_info": {
      "codemirror_mode": {
        "name": "ipython",
        "version": 3
      },
      "file_extension": ".py",
      "mimetype": "text/x-python",
      "name": "python",
      "nbconvert_exporter": "python",
      "pygments_lexer": "ipython3",
      "version": "3.10.12"
    }
  },
  "nbformat": 4,
  "nbformat_minor": 0
}
