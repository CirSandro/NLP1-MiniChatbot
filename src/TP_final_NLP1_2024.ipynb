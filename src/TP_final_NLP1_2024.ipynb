{
 "cells": [
  {
   "cell_type": "markdown",
   "metadata": {
    "id": "1zpufDLRXXvJ"
   },
   "source": [
    "# Building a general purpose chatbot\n",
    "\n",
    "In this practical exercise, your goal will be to implement the different tasks in a general purpose chatbot.\n",
    "\n",
    "The code below will help you load the data."
   ]
  },
  {
   "cell_type": "code",
   "execution_count": 1,
   "metadata": {
    "id": "UPrrLpTIXfe2"
   },
   "outputs": [
    {
     "name": "stdout",
     "output_type": "stream",
     "text": [
      "/home/sandro/.local/lib/python3.10/site-packages/gdown/__main__.py:140: FutureWarning: Option `--id` was deprecated in version 4.3.1 and will be removed in 5.0. You don't need to pass it anymore to use a file ID.\n",
      "  warnings.warn(\n",
      "Downloading...\n",
      "From: https://drive.google.com/uc?id=1JipPFr14hWBoQ0tnEJyTrOh5RoGFhaf3\n",
      "To: /home/sandro/NLP/Eval NLP1/NLP1-MiniChatbot/src/train.csv\n",
      "100%|████████████████████████████████████████| 812k/812k [00:00<00:00, 3.77MB/s]\n",
      "/home/sandro/.local/lib/python3.10/site-packages/gdown/__main__.py:140: FutureWarning: Option `--id` was deprecated in version 4.3.1 and will be removed in 5.0. You don't need to pass it anymore to use a file ID.\n",
      "  warnings.warn(\n",
      "Downloading...\n",
      "From: https://drive.google.com/uc?id=12DkcmwEEuitna9XJNYD9mBhDdaTzsWcS\n",
      "To: /home/sandro/NLP/Eval NLP1/NLP1-MiniChatbot/src/val.csv\n",
      "100%|████████████████████████████████████████| 165k/165k [00:00<00:00, 4.57MB/s]\n",
      "/home/sandro/.local/lib/python3.10/site-packages/gdown/__main__.py:140: FutureWarning: Option `--id` was deprecated in version 4.3.1 and will be removed in 5.0. You don't need to pass it anymore to use a file ID.\n",
      "  warnings.warn(\n",
      "Downloading...\n",
      "From: https://drive.google.com/uc?id=1iU73m8iDxEcqAmmLc4i_cudFOWJQMORY\n",
      "To: /home/sandro/NLP/Eval NLP1/NLP1-MiniChatbot/src/intent_response.csv\n",
      "100%|██████████████████████████████████████| 10.3k/10.3k [00:00<00:00, 35.2MB/s]\n",
      "Defaulting to user installation because normal site-packages is not writeable\n",
      "Requirement already satisfied: stop-words in /home/sandro/.local/lib/python3.10/site-packages (2018.7.23)\n",
      "Defaulting to user installation because normal site-packages is not writeable\n",
      "Requirement already satisfied: plotly in /home/sandro/.local/lib/python3.10/site-packages (5.24.1)\n",
      "Requirement already satisfied: tenacity>=6.2.0 in /home/sandro/.local/lib/python3.10/site-packages (from plotly) (8.5.0)\n",
      "Requirement already satisfied: packaging in /home/sandro/.local/lib/python3.10/site-packages (from plotly) (24.0)\n",
      "Defaulting to user installation because normal site-packages is not writeable\n",
      "Collecting en-core-web-md==3.7.1\n",
      "  Downloading https://github.com/explosion/spacy-models/releases/download/en_core_web_md-3.7.1/en_core_web_md-3.7.1-py3-none-any.whl (42.8 MB)\n",
      "\u001b[2K     \u001b[90m━━━━━━━━━━━━━━━━━━━━━━━━━━━━━━━━━━━━━━━━\u001b[0m \u001b[32m42.8/42.8 MB\u001b[0m \u001b[31m10.0 MB/s\u001b[0m eta \u001b[36m0:00:00\u001b[0m00:01\u001b[0m00:01\u001b[0m\n",
      "\u001b[?25hRequirement already satisfied: spacy<3.8.0,>=3.7.2 in /home/sandro/.local/lib/python3.10/site-packages (from en-core-web-md==3.7.1) (3.7.4)\n",
      "Requirement already satisfied: spacy-legacy<3.1.0,>=3.0.11 in /home/sandro/.local/lib/python3.10/site-packages (from spacy<3.8.0,>=3.7.2->en-core-web-md==3.7.1) (3.0.12)\n",
      "Requirement already satisfied: spacy-loggers<2.0.0,>=1.0.0 in /home/sandro/.local/lib/python3.10/site-packages (from spacy<3.8.0,>=3.7.2->en-core-web-md==3.7.1) (1.0.5)\n",
      "Requirement already satisfied: murmurhash<1.1.0,>=0.28.0 in /home/sandro/.local/lib/python3.10/site-packages (from spacy<3.8.0,>=3.7.2->en-core-web-md==3.7.1) (1.0.10)\n",
      "Requirement already satisfied: cymem<2.1.0,>=2.0.2 in /home/sandro/.local/lib/python3.10/site-packages (from spacy<3.8.0,>=3.7.2->en-core-web-md==3.7.1) (2.0.8)\n",
      "Requirement already satisfied: preshed<3.1.0,>=3.0.2 in /home/sandro/.local/lib/python3.10/site-packages (from spacy<3.8.0,>=3.7.2->en-core-web-md==3.7.1) (3.0.9)\n",
      "Requirement already satisfied: thinc<8.3.0,>=8.2.2 in /home/sandro/.local/lib/python3.10/site-packages (from spacy<3.8.0,>=3.7.2->en-core-web-md==3.7.1) (8.2.3)\n",
      "Requirement already satisfied: wasabi<1.2.0,>=0.9.1 in /home/sandro/.local/lib/python3.10/site-packages (from spacy<3.8.0,>=3.7.2->en-core-web-md==3.7.1) (1.1.2)\n",
      "Requirement already satisfied: srsly<3.0.0,>=2.4.3 in /home/sandro/.local/lib/python3.10/site-packages (from spacy<3.8.0,>=3.7.2->en-core-web-md==3.7.1) (2.4.8)\n",
      "Requirement already satisfied: catalogue<2.1.0,>=2.0.6 in /home/sandro/.local/lib/python3.10/site-packages (from spacy<3.8.0,>=3.7.2->en-core-web-md==3.7.1) (2.0.10)\n",
      "Requirement already satisfied: weasel<0.4.0,>=0.1.0 in /home/sandro/.local/lib/python3.10/site-packages (from spacy<3.8.0,>=3.7.2->en-core-web-md==3.7.1) (0.3.4)\n",
      "Requirement already satisfied: typer<0.10.0,>=0.3.0 in /home/sandro/.local/lib/python3.10/site-packages (from spacy<3.8.0,>=3.7.2->en-core-web-md==3.7.1) (0.9.4)\n",
      "Requirement already satisfied: smart-open<7.0.0,>=5.2.1 in /home/sandro/.local/lib/python3.10/site-packages (from spacy<3.8.0,>=3.7.2->en-core-web-md==3.7.1) (5.2.1)\n",
      "Requirement already satisfied: tqdm<5.0.0,>=4.38.0 in /home/sandro/.local/lib/python3.10/site-packages (from spacy<3.8.0,>=3.7.2->en-core-web-md==3.7.1) (4.66.4)\n",
      "Requirement already satisfied: requests<3.0.0,>=2.13.0 in /home/sandro/.local/lib/python3.10/site-packages (from spacy<3.8.0,>=3.7.2->en-core-web-md==3.7.1) (2.31.0)\n",
      "Requirement already satisfied: pydantic!=1.8,!=1.8.1,<3.0.0,>=1.7.4 in /home/sandro/.local/lib/python3.10/site-packages (from spacy<3.8.0,>=3.7.2->en-core-web-md==3.7.1) (2.9.2)\n",
      "Requirement already satisfied: jinja2 in /home/sandro/.local/lib/python3.10/site-packages (from spacy<3.8.0,>=3.7.2->en-core-web-md==3.7.1) (3.1.4)\n",
      "Requirement already satisfied: setuptools in /home/sandro/.local/lib/python3.10/site-packages (from spacy<3.8.0,>=3.7.2->en-core-web-md==3.7.1) (65.6.3)\n",
      "Requirement already satisfied: packaging>=20.0 in /home/sandro/.local/lib/python3.10/site-packages (from spacy<3.8.0,>=3.7.2->en-core-web-md==3.7.1) (24.0)\n",
      "Requirement already satisfied: langcodes<4.0.0,>=3.2.0 in /home/sandro/.local/lib/python3.10/site-packages (from spacy<3.8.0,>=3.7.2->en-core-web-md==3.7.1) (3.4.0)\n",
      "Requirement already satisfied: numpy>=1.19.0 in /home/sandro/.local/lib/python3.10/site-packages (from spacy<3.8.0,>=3.7.2->en-core-web-md==3.7.1) (1.24.4)\n",
      "Requirement already satisfied: language-data>=1.2 in /home/sandro/.local/lib/python3.10/site-packages (from langcodes<4.0.0,>=3.2.0->spacy<3.8.0,>=3.7.2->en-core-web-md==3.7.1) (1.2.0)\n",
      "Requirement already satisfied: annotated-types>=0.6.0 in /home/sandro/.local/lib/python3.10/site-packages (from pydantic!=1.8,!=1.8.1,<3.0.0,>=1.7.4->spacy<3.8.0,>=3.7.2->en-core-web-md==3.7.1) (0.7.0)\n",
      "Requirement already satisfied: pydantic-core==2.23.4 in /home/sandro/.local/lib/python3.10/site-packages (from pydantic!=1.8,!=1.8.1,<3.0.0,>=1.7.4->spacy<3.8.0,>=3.7.2->en-core-web-md==3.7.1) (2.23.4)\n",
      "Requirement already satisfied: typing-extensions>=4.6.1 in /home/sandro/.local/lib/python3.10/site-packages (from pydantic!=1.8,!=1.8.1,<3.0.0,>=1.7.4->spacy<3.8.0,>=3.7.2->en-core-web-md==3.7.1) (4.12.2)\n",
      "Requirement already satisfied: charset-normalizer<4,>=2 in /home/sandro/.local/lib/python3.10/site-packages (from requests<3.0.0,>=2.13.0->spacy<3.8.0,>=3.7.2->en-core-web-md==3.7.1) (3.3.2)\n",
      "Requirement already satisfied: idna<4,>=2.5 in /usr/lib/python3/dist-packages (from requests<3.0.0,>=2.13.0->spacy<3.8.0,>=3.7.2->en-core-web-md==3.7.1) (3.3)\n",
      "Requirement already satisfied: urllib3<3,>=1.21.1 in /usr/lib/python3/dist-packages (from requests<3.0.0,>=2.13.0->spacy<3.8.0,>=3.7.2->en-core-web-md==3.7.1) (1.26.5)\n",
      "Requirement already satisfied: certifi>=2017.4.17 in /home/sandro/.local/lib/python3.10/site-packages (from requests<3.0.0,>=2.13.0->spacy<3.8.0,>=3.7.2->en-core-web-md==3.7.1) (2023.7.22)\n",
      "Requirement already satisfied: blis<0.8.0,>=0.7.8 in /home/sandro/.local/lib/python3.10/site-packages (from thinc<8.3.0,>=8.2.2->spacy<3.8.0,>=3.7.2->en-core-web-md==3.7.1) (0.7.11)\n",
      "Requirement already satisfied: confection<1.0.0,>=0.0.1 in /home/sandro/.local/lib/python3.10/site-packages (from thinc<8.3.0,>=8.2.2->spacy<3.8.0,>=3.7.2->en-core-web-md==3.7.1) (0.1.4)\n",
      "Requirement already satisfied: click<9.0.0,>=7.1.1 in /home/sandro/.local/lib/python3.10/site-packages (from typer<0.10.0,>=0.3.0->spacy<3.8.0,>=3.7.2->en-core-web-md==3.7.1) (8.1.7)\n",
      "Requirement already satisfied: cloudpathlib<0.17.0,>=0.7.0 in /home/sandro/.local/lib/python3.10/site-packages (from weasel<0.4.0,>=0.1.0->spacy<3.8.0,>=3.7.2->en-core-web-md==3.7.1) (0.16.0)\n",
      "Requirement already satisfied: MarkupSafe>=2.0 in /home/sandro/.local/lib/python3.10/site-packages (from jinja2->spacy<3.8.0,>=3.7.2->en-core-web-md==3.7.1) (2.0.1)\n",
      "Requirement already satisfied: marisa-trie>=0.7.7 in /home/sandro/.local/lib/python3.10/site-packages (from language-data>=1.2->langcodes<4.0.0,>=3.2.0->spacy<3.8.0,>=3.7.2->en-core-web-md==3.7.1) (1.1.1)\n",
      "\u001b[38;5;2m✔ Download and installation successful\u001b[0m\n",
      "You can now load the package via spacy.load('en_core_web_md')\n"
     ]
    }
   ],
   "source": [
    "!gdown --id 1JipPFr14hWBoQ0tnEJyTrOh5RoGFhaf3\n",
    "!gdown --id 12DkcmwEEuitna9XJNYD9mBhDdaTzsWcS\n",
    "!gdown --id 1iU73m8iDxEcqAmmLc4i_cudFOWJQMORY\n",
    "!pip install stop-words\n",
    "!pip install plotly\n",
    "!python3 -m spacy download en_core_web_md"
   ]
  },
  {
   "cell_type": "code",
   "execution_count": 2,
   "metadata": {
    "id": "goZQyUAFZfLs"
   },
   "outputs": [
    {
     "data": {
      "text/html": [
       "<div>\n",
       "<style scoped>\n",
       "    .dataframe tbody tr th:only-of-type {\n",
       "        vertical-align: middle;\n",
       "    }\n",
       "\n",
       "    .dataframe tbody tr th {\n",
       "        vertical-align: top;\n",
       "    }\n",
       "\n",
       "    .dataframe thead th {\n",
       "        text-align: right;\n",
       "    }\n",
       "</style>\n",
       "<table border=\"1\" class=\"dataframe\">\n",
       "  <thead>\n",
       "    <tr style=\"text-align: right;\">\n",
       "      <th></th>\n",
       "      <th>sentence</th>\n",
       "      <th>intent</th>\n",
       "    </tr>\n",
       "  </thead>\n",
       "  <tbody>\n",
       "    <tr>\n",
       "      <th>0</th>\n",
       "      <td>what expression would i use to say i love you ...</td>\n",
       "      <td>translate</td>\n",
       "    </tr>\n",
       "    <tr>\n",
       "      <th>1</th>\n",
       "      <td>can you tell me how to say 'i do not speak muc...</td>\n",
       "      <td>translate</td>\n",
       "    </tr>\n",
       "    <tr>\n",
       "      <th>2</th>\n",
       "      <td>what is the equivalent of, 'life is good' in f...</td>\n",
       "      <td>translate</td>\n",
       "    </tr>\n",
       "    <tr>\n",
       "      <th>3</th>\n",
       "      <td>tell me how to say, 'it is a beautiful morning...</td>\n",
       "      <td>translate</td>\n",
       "    </tr>\n",
       "    <tr>\n",
       "      <th>4</th>\n",
       "      <td>if i were mongolian, how would i say that i am...</td>\n",
       "      <td>translate</td>\n",
       "    </tr>\n",
       "  </tbody>\n",
       "</table>\n",
       "</div>"
      ],
      "text/plain": [
       "                                            sentence     intent\n",
       "0  what expression would i use to say i love you ...  translate\n",
       "1  can you tell me how to say 'i do not speak muc...  translate\n",
       "2  what is the equivalent of, 'life is good' in f...  translate\n",
       "3  tell me how to say, 'it is a beautiful morning...  translate\n",
       "4  if i were mongolian, how would i say that i am...  translate"
      ]
     },
     "execution_count": 2,
     "metadata": {},
     "output_type": "execute_result"
    }
   ],
   "source": [
    "import pandas as pd\n",
    "\n",
    "train_df = pd.read_csv('train.csv')\n",
    "val_df = pd.read_csv('val.csv')\n",
    "intent_responses = pd.read_csv('intent_response.csv')\n",
    "\n",
    "train_df.head()"
   ]
  },
  {
   "cell_type": "code",
   "execution_count": 3,
   "metadata": {},
   "outputs": [
    {
     "data": {
      "text/html": [
       "<div>\n",
       "<style scoped>\n",
       "    .dataframe tbody tr th:only-of-type {\n",
       "        vertical-align: middle;\n",
       "    }\n",
       "\n",
       "    .dataframe tbody tr th {\n",
       "        vertical-align: top;\n",
       "    }\n",
       "\n",
       "    .dataframe thead th {\n",
       "        text-align: right;\n",
       "    }\n",
       "</style>\n",
       "<table border=\"1\" class=\"dataframe\">\n",
       "  <thead>\n",
       "    <tr style=\"text-align: right;\">\n",
       "      <th></th>\n",
       "      <th>sentence</th>\n",
       "      <th>intent</th>\n",
       "    </tr>\n",
       "  </thead>\n",
       "  <tbody>\n",
       "    <tr>\n",
       "      <th>0</th>\n",
       "      <td>in spanish, meet me tomorrow is said how</td>\n",
       "      <td>translate</td>\n",
       "    </tr>\n",
       "    <tr>\n",
       "      <th>1</th>\n",
       "      <td>in french, how do i say, see you later</td>\n",
       "      <td>translate</td>\n",
       "    </tr>\n",
       "    <tr>\n",
       "      <th>2</th>\n",
       "      <td>how do you say hello in japanese</td>\n",
       "      <td>translate</td>\n",
       "    </tr>\n",
       "    <tr>\n",
       "      <th>3</th>\n",
       "      <td>how do i ask about the weather in chinese</td>\n",
       "      <td>translate</td>\n",
       "    </tr>\n",
       "    <tr>\n",
       "      <th>4</th>\n",
       "      <td>how can i say \"cancel my order\" in french</td>\n",
       "      <td>translate</td>\n",
       "    </tr>\n",
       "  </tbody>\n",
       "</table>\n",
       "</div>"
      ],
      "text/plain": [
       "                                    sentence     intent\n",
       "0   in spanish, meet me tomorrow is said how  translate\n",
       "1     in french, how do i say, see you later  translate\n",
       "2           how do you say hello in japanese  translate\n",
       "3  how do i ask about the weather in chinese  translate\n",
       "4  how can i say \"cancel my order\" in french  translate"
      ]
     },
     "execution_count": 3,
     "metadata": {},
     "output_type": "execute_result"
    }
   ],
   "source": [
    "val_df.head()"
   ]
  },
  {
   "cell_type": "code",
   "execution_count": 4,
   "metadata": {},
   "outputs": [
    {
     "data": {
      "text/html": [
       "<div>\n",
       "<style scoped>\n",
       "    .dataframe tbody tr th:only-of-type {\n",
       "        vertical-align: middle;\n",
       "    }\n",
       "\n",
       "    .dataframe tbody tr th {\n",
       "        vertical-align: top;\n",
       "    }\n",
       "\n",
       "    .dataframe thead th {\n",
       "        text-align: right;\n",
       "    }\n",
       "</style>\n",
       "<table border=\"1\" class=\"dataframe\">\n",
       "  <thead>\n",
       "    <tr style=\"text-align: right;\">\n",
       "      <th></th>\n",
       "      <th>intent</th>\n",
       "      <th>response</th>\n",
       "    </tr>\n",
       "  </thead>\n",
       "  <tbody>\n",
       "    <tr>\n",
       "      <th>0</th>\n",
       "      <td>translate</td>\n",
       "      <td>I can assist you in translating languages.</td>\n",
       "    </tr>\n",
       "    <tr>\n",
       "      <th>1</th>\n",
       "      <td>transfer</td>\n",
       "      <td>I'm here to help with transferring your reques...</td>\n",
       "    </tr>\n",
       "    <tr>\n",
       "      <th>2</th>\n",
       "      <td>timer</td>\n",
       "      <td>Let me set up a timer for you.</td>\n",
       "    </tr>\n",
       "    <tr>\n",
       "      <th>3</th>\n",
       "      <td>definition</td>\n",
       "      <td>I can provide you with definitions of words or...</td>\n",
       "    </tr>\n",
       "    <tr>\n",
       "      <th>4</th>\n",
       "      <td>meaning_of_life</td>\n",
       "      <td>Ah, the eternal question! Let's explore the me...</td>\n",
       "    </tr>\n",
       "  </tbody>\n",
       "</table>\n",
       "</div>"
      ],
      "text/plain": [
       "            intent                                           response\n",
       "0        translate         I can assist you in translating languages.\n",
       "1         transfer  I'm here to help with transferring your reques...\n",
       "2            timer                     Let me set up a timer for you.\n",
       "3       definition  I can provide you with definitions of words or...\n",
       "4  meaning_of_life  Ah, the eternal question! Let's explore the me..."
      ]
     },
     "execution_count": 4,
     "metadata": {},
     "output_type": "execute_result"
    }
   ],
   "source": [
    "intent_responses.head()"
   ]
  },
  {
   "cell_type": "markdown",
   "metadata": {
    "id": "62632nSsbHi4"
   },
   "source": [
    "The dataset has a 100 examples for many intents ('translate', 'transfer', 'timer', 'definition', 'meaning_of_life',\n",
    " 'insurance_change', 'find_phone', 'travel_alert', 'pto_request'...).\n",
    "\n",
    "Your ultimate goal will be to build a general purpose assistant that detects the user intent and relevant entities and provides generic answers. You will also try to discover if there are out of scope intents in the dataset.\n",
    "\n",
    "## Exercise\n",
    "\n",
    "In this exercise, you are asked to implement the following:\n",
    "\n",
    "1) EDA:\n",
    "* Count the number of the classes and the number of examples in the training set.\n",
    "* Display, on three histograms, the 20 words (without the english stop-words) with the highest counts for the classes 'transfer', 'timer' and 'meaning_of_life'.\n",
    "* What is the average number of words in the sentences?\n",
    "\n",
    "2) Data preparation:\n",
    "* Create a new column `processed_sentence` where you remove stop words, punctuation and perform lemmatization on column `sentence`. You can use the library of your choice (spacy, nltk, other...). (Execution takes about 2/3 min with spacy model `en_core_web_md`).\n",
    "* Separate the class `oos` from the datasets (remove it from `train_df`, `val_df` and put it in two new dataframes `train_df_oos` and `eval_df_oos`).\n",
    "\n",
    "\n",
    "3) Topic modeling:\n",
    "* Build the TF-IDF matrix without stop words using the column `sentence` from `train_df`.\n",
    "* Run LSA on it with 20 components.\n",
    "* Display the obtained topics (top 5 words with their weights).\n",
    "* Display all the distinct intents from `train_df`.\n",
    "* Do you see a relationship between the automatically extracted topics and the real intents?\n",
    "* Try to find some topics in all oos sentence (train and eval). You can use LSA and also display the sentences. Are these topics different from the existing intents?\n",
    "\n",
    "4) Classification:\n",
    "* Build the bag of words matrices (word counts, not tfidf) for the column `sentence` and for the column `processed_sentence`, for train and eval.\n",
    "* Train two Logistic Regression classifiers, one from each train matrix.\n",
    "* Evaluate both with accuracy and the micro F1 score on the eval set.\n",
    "* Switch to TF-IDF and see if the scores are better.\n",
    "* Select the best approach, train it on the follow subset of intents and and display the evaluation confusion matrix: 'translate', 'transfer', 'definition', 'change_language', 'payday', 'replacement_card_duration', 'balance', 'pay_bill', 'spending_history', 'credit_score', 'report_lost_card', 'damaged_card', 'credit_limit', 'account_blocked', 'report_fraud', 'direct_deposit', 'interest_rate', 'credit_limit_change', 'card_declined'.\n",
    "* Which pair of intents are the most confused together?\n",
    "\n",
    "5) Named Entity Recognition:\n",
    "\n",
    "For this task, let us focus on the following intents: **change_user_name, time, change_language, pto_request, travel_alert, timer, translate**.\n",
    "* Display 10 random training sentences from each intent. What are all the kinds of entities to recognize in these sentences?\n",
    "* Instantiate the spacy english model.\n",
    "* Add rule based recognition for entities languages, dates, and countries (some code snippets are provided below to help)\n",
    "* Display the entities detected by the model for the ten first sentences of the relevant intents.\n",
    "\n",
    "6) Chatbot: Now that you are able to detect the intents and extract the entities, build a simple loop that executes this scenario:\n",
    "* Ask the user to enter a sentence.\n",
    "* Extract the entities and the user intent.\n",
    "* Display the intent, the entities, and a generic response using `intent_responses`.\n",
    "\n",
    "Play the code and ask the following questions to show what happens:\n",
    "* \"How do you say hello in French?\"\n",
    "* \"I want to go on holidays from 2021-01-12 to 2021-01-25\"\n",
    "* \"What is the weather in Germany?\"\n",
    "* \"Can you set the language to Spanish?\""
   ]
  },
  {
   "cell_type": "markdown",
   "metadata": {
    "id": "Bao__AKN2V9t"
   },
   "source": [
    "## 1) EDA"
   ]
  },
  {
   "cell_type": "markdown",
   "metadata": {},
   "source": [
    "1) Comptons le nombre de classes dans le train.csv :"
   ]
  },
  {
   "cell_type": "code",
   "execution_count": 5,
   "metadata": {
    "id": "FjxPAcXV2Lcv"
   },
   "outputs": [
    {
     "name": "stdout",
     "output_type": "stream",
     "text": [
      "151\n"
     ]
    },
    {
     "data": {
      "text/plain": [
       "array(['translate', 'transfer', 'timer', 'definition', 'meaning_of_life',\n",
       "       'insurance_change', 'find_phone', 'travel_alert', 'pto_request',\n",
       "       'improve_credit_score', 'fun_fact', 'change_language', 'payday',\n",
       "       'replacement_card_duration', 'time', 'application_status',\n",
       "       'flight_status', 'flip_coin', 'change_user_name',\n",
       "       'where_are_you_from', 'shopping_list_update', 'what_can_i_ask_you',\n",
       "       'maybe', 'oil_change_how', 'restaurant_reservation', 'balance',\n",
       "       'confirm_reservation', 'freeze_account', 'rollover_401k',\n",
       "       'who_made_you', 'distance', 'user_name', 'timezone', 'next_song',\n",
       "       'transactions', 'restaurant_suggestion', 'rewards_balance',\n",
       "       'pay_bill', 'spending_history', 'pto_request_status',\n",
       "       'credit_score', 'new_card', 'lost_luggage', 'repeat', 'mpg',\n",
       "       'oil_change_when', 'yes', 'travel_suggestion', 'insurance',\n",
       "       'todo_list_update', 'reminder', 'change_speed', 'tire_pressure',\n",
       "       'no', 'apr', 'nutrition_info', 'calendar', 'uber', 'calculator',\n",
       "       'date', 'carry_on', 'pto_used', 'schedule_maintenance',\n",
       "       'travel_notification', 'sync_device', 'thank_you', 'roll_dice',\n",
       "       'food_last', 'cook_time', 'reminder_update', 'report_lost_card',\n",
       "       'ingredient_substitution', 'make_call', 'alarm', 'todo_list',\n",
       "       'change_accent', 'w2', 'bill_due', 'calories', 'damaged_card',\n",
       "       'restaurant_reviews', 'routing', 'do_you_have_pets',\n",
       "       'schedule_meeting', 'gas_type', 'plug_type', 'tire_change',\n",
       "       'exchange_rate', 'next_holiday', 'change_volume',\n",
       "       'who_do_you_work_for', 'credit_limit', 'how_busy',\n",
       "       'accept_reservations', 'order_status', 'pin_change', 'goodbye',\n",
       "       'account_blocked', 'what_song', 'international_fees',\n",
       "       'last_maintenance', 'meeting_schedule', 'ingredients_list',\n",
       "       'report_fraud', 'measurement_conversion', 'smart_home',\n",
       "       'book_hotel', 'current_location', 'weather', 'taxes',\n",
       "       'min_payment', 'whisper_mode', 'cancel', 'international_visa',\n",
       "       'vaccines', 'pto_balance', 'directions', 'spelling', 'greeting',\n",
       "       'reset_settings', 'what_is_your_name', 'direct_deposit',\n",
       "       'interest_rate', 'credit_limit_change', 'what_are_your_hobbies',\n",
       "       'book_flight', 'shopping_list', 'text', 'bill_balance',\n",
       "       'share_location', 'redeem_rewards', 'play_music',\n",
       "       'calendar_update', 'are_you_a_bot', 'gas', 'expiration_date',\n",
       "       'update_playlist', 'cancel_reservation', 'tell_joke',\n",
       "       'change_ai_name', 'how_old_are_you', 'car_rental', 'jump_start',\n",
       "       'meal_suggestion', 'recipe', 'income', 'order', 'traffic',\n",
       "       'order_checks', 'card_declined', 'oos'], dtype=object)"
      ]
     },
     "execution_count": 5,
     "metadata": {},
     "output_type": "execute_result"
    }
   ],
   "source": [
    "print(len(train_df['intent'].unique()))\n",
    "train_df['intent'].unique()"
   ]
  },
  {
   "cell_type": "markdown",
   "metadata": {},
   "source": [
    "On obtient ainsi 151 classes différentes dans le train.csv"
   ]
  },
  {
   "cell_type": "markdown",
   "metadata": {},
   "source": [
    "On cherche aussi à savoir le nombre d'exemple présent :"
   ]
  },
  {
   "cell_type": "code",
   "execution_count": 6,
   "metadata": {},
   "outputs": [
    {
     "data": {
      "text/plain": [
       "sentence    0\n",
       "intent      0\n",
       "dtype: int64"
      ]
     },
     "execution_count": 6,
     "metadata": {},
     "output_type": "execute_result"
    }
   ],
   "source": [
    "train_df.isnull().sum()"
   ]
  },
  {
   "cell_type": "code",
   "execution_count": 7,
   "metadata": {},
   "outputs": [
    {
     "name": "stdout",
     "output_type": "stream",
     "text": [
      "15100\n"
     ]
    }
   ],
   "source": [
    "print(len(train_df))"
   ]
  },
  {
   "cell_type": "markdown",
   "metadata": {},
   "source": [
    "On constate ainsi que nous avons 15100 exemples dans notre dataset."
   ]
  },
  {
   "cell_type": "markdown",
   "metadata": {},
   "source": [
    "2) Afficher l'histogramme des 20 mots les plus représentés pour les classes suivantes: 'transfer', 'timer' and 'meaning_of_life'"
   ]
  },
  {
   "cell_type": "code",
   "execution_count": 9,
   "metadata": {},
   "outputs": [
    {
     "data": {
      "application/vnd.plotly.v1+json": {
       "config": {
        "plotlyServerURL": "https://plot.ly"
       },
       "data": [
        {
         "alignmentgroup": "True",
         "hovertemplate": "word=%{x}<br>count=%{y}<extra></extra>",
         "legendgroup": "",
         "marker": {
          "color": "#636efa",
          "pattern": {
           "shape": ""
          }
         },
         "name": "",
         "offsetgroup": "",
         "orientation": "v",
         "showlegend": false,
         "textposition": "auto",
         "type": "bar",
         "x": [
          "account",
          "transfer",
          "dollars",
          "checking",
          "money",
          "send",
          "savings",
          "bank",
          "america",
          "need",
          "accounts",
          "capital",
          "100",
          "chase",
          "40",
          "20000",
          "saving",
          "want",
          "like",
          "500"
         ],
         "xaxis": "x",
         "y": [
          57,
          49,
          32,
          28,
          26,
          25,
          25,
          16,
          12,
          12,
          11,
          9,
          9,
          5,
          5,
          5,
          5,
          4,
          3,
          3
         ],
         "yaxis": "y"
        }
       ],
       "layout": {
        "barmode": "relative",
        "legend": {
         "tracegroupgap": 0
        },
        "template": {
         "data": {
          "bar": [
           {
            "error_x": {
             "color": "#2a3f5f"
            },
            "error_y": {
             "color": "#2a3f5f"
            },
            "marker": {
             "line": {
              "color": "#E5ECF6",
              "width": 0.5
             },
             "pattern": {
              "fillmode": "overlay",
              "size": 10,
              "solidity": 0.2
             }
            },
            "type": "bar"
           }
          ],
          "barpolar": [
           {
            "marker": {
             "line": {
              "color": "#E5ECF6",
              "width": 0.5
             },
             "pattern": {
              "fillmode": "overlay",
              "size": 10,
              "solidity": 0.2
             }
            },
            "type": "barpolar"
           }
          ],
          "carpet": [
           {
            "aaxis": {
             "endlinecolor": "#2a3f5f",
             "gridcolor": "white",
             "linecolor": "white",
             "minorgridcolor": "white",
             "startlinecolor": "#2a3f5f"
            },
            "baxis": {
             "endlinecolor": "#2a3f5f",
             "gridcolor": "white",
             "linecolor": "white",
             "minorgridcolor": "white",
             "startlinecolor": "#2a3f5f"
            },
            "type": "carpet"
           }
          ],
          "choropleth": [
           {
            "colorbar": {
             "outlinewidth": 0,
             "ticks": ""
            },
            "type": "choropleth"
           }
          ],
          "contour": [
           {
            "colorbar": {
             "outlinewidth": 0,
             "ticks": ""
            },
            "colorscale": [
             [
              0,
              "#0d0887"
             ],
             [
              0.1111111111111111,
              "#46039f"
             ],
             [
              0.2222222222222222,
              "#7201a8"
             ],
             [
              0.3333333333333333,
              "#9c179e"
             ],
             [
              0.4444444444444444,
              "#bd3786"
             ],
             [
              0.5555555555555556,
              "#d8576b"
             ],
             [
              0.6666666666666666,
              "#ed7953"
             ],
             [
              0.7777777777777778,
              "#fb9f3a"
             ],
             [
              0.8888888888888888,
              "#fdca26"
             ],
             [
              1,
              "#f0f921"
             ]
            ],
            "type": "contour"
           }
          ],
          "contourcarpet": [
           {
            "colorbar": {
             "outlinewidth": 0,
             "ticks": ""
            },
            "type": "contourcarpet"
           }
          ],
          "heatmap": [
           {
            "colorbar": {
             "outlinewidth": 0,
             "ticks": ""
            },
            "colorscale": [
             [
              0,
              "#0d0887"
             ],
             [
              0.1111111111111111,
              "#46039f"
             ],
             [
              0.2222222222222222,
              "#7201a8"
             ],
             [
              0.3333333333333333,
              "#9c179e"
             ],
             [
              0.4444444444444444,
              "#bd3786"
             ],
             [
              0.5555555555555556,
              "#d8576b"
             ],
             [
              0.6666666666666666,
              "#ed7953"
             ],
             [
              0.7777777777777778,
              "#fb9f3a"
             ],
             [
              0.8888888888888888,
              "#fdca26"
             ],
             [
              1,
              "#f0f921"
             ]
            ],
            "type": "heatmap"
           }
          ],
          "heatmapgl": [
           {
            "colorbar": {
             "outlinewidth": 0,
             "ticks": ""
            },
            "colorscale": [
             [
              0,
              "#0d0887"
             ],
             [
              0.1111111111111111,
              "#46039f"
             ],
             [
              0.2222222222222222,
              "#7201a8"
             ],
             [
              0.3333333333333333,
              "#9c179e"
             ],
             [
              0.4444444444444444,
              "#bd3786"
             ],
             [
              0.5555555555555556,
              "#d8576b"
             ],
             [
              0.6666666666666666,
              "#ed7953"
             ],
             [
              0.7777777777777778,
              "#fb9f3a"
             ],
             [
              0.8888888888888888,
              "#fdca26"
             ],
             [
              1,
              "#f0f921"
             ]
            ],
            "type": "heatmapgl"
           }
          ],
          "histogram": [
           {
            "marker": {
             "pattern": {
              "fillmode": "overlay",
              "size": 10,
              "solidity": 0.2
             }
            },
            "type": "histogram"
           }
          ],
          "histogram2d": [
           {
            "colorbar": {
             "outlinewidth": 0,
             "ticks": ""
            },
            "colorscale": [
             [
              0,
              "#0d0887"
             ],
             [
              0.1111111111111111,
              "#46039f"
             ],
             [
              0.2222222222222222,
              "#7201a8"
             ],
             [
              0.3333333333333333,
              "#9c179e"
             ],
             [
              0.4444444444444444,
              "#bd3786"
             ],
             [
              0.5555555555555556,
              "#d8576b"
             ],
             [
              0.6666666666666666,
              "#ed7953"
             ],
             [
              0.7777777777777778,
              "#fb9f3a"
             ],
             [
              0.8888888888888888,
              "#fdca26"
             ],
             [
              1,
              "#f0f921"
             ]
            ],
            "type": "histogram2d"
           }
          ],
          "histogram2dcontour": [
           {
            "colorbar": {
             "outlinewidth": 0,
             "ticks": ""
            },
            "colorscale": [
             [
              0,
              "#0d0887"
             ],
             [
              0.1111111111111111,
              "#46039f"
             ],
             [
              0.2222222222222222,
              "#7201a8"
             ],
             [
              0.3333333333333333,
              "#9c179e"
             ],
             [
              0.4444444444444444,
              "#bd3786"
             ],
             [
              0.5555555555555556,
              "#d8576b"
             ],
             [
              0.6666666666666666,
              "#ed7953"
             ],
             [
              0.7777777777777778,
              "#fb9f3a"
             ],
             [
              0.8888888888888888,
              "#fdca26"
             ],
             [
              1,
              "#f0f921"
             ]
            ],
            "type": "histogram2dcontour"
           }
          ],
          "mesh3d": [
           {
            "colorbar": {
             "outlinewidth": 0,
             "ticks": ""
            },
            "type": "mesh3d"
           }
          ],
          "parcoords": [
           {
            "line": {
             "colorbar": {
              "outlinewidth": 0,
              "ticks": ""
             }
            },
            "type": "parcoords"
           }
          ],
          "pie": [
           {
            "automargin": true,
            "type": "pie"
           }
          ],
          "scatter": [
           {
            "fillpattern": {
             "fillmode": "overlay",
             "size": 10,
             "solidity": 0.2
            },
            "type": "scatter"
           }
          ],
          "scatter3d": [
           {
            "line": {
             "colorbar": {
              "outlinewidth": 0,
              "ticks": ""
             }
            },
            "marker": {
             "colorbar": {
              "outlinewidth": 0,
              "ticks": ""
             }
            },
            "type": "scatter3d"
           }
          ],
          "scattercarpet": [
           {
            "marker": {
             "colorbar": {
              "outlinewidth": 0,
              "ticks": ""
             }
            },
            "type": "scattercarpet"
           }
          ],
          "scattergeo": [
           {
            "marker": {
             "colorbar": {
              "outlinewidth": 0,
              "ticks": ""
             }
            },
            "type": "scattergeo"
           }
          ],
          "scattergl": [
           {
            "marker": {
             "colorbar": {
              "outlinewidth": 0,
              "ticks": ""
             }
            },
            "type": "scattergl"
           }
          ],
          "scattermapbox": [
           {
            "marker": {
             "colorbar": {
              "outlinewidth": 0,
              "ticks": ""
             }
            },
            "type": "scattermapbox"
           }
          ],
          "scatterpolar": [
           {
            "marker": {
             "colorbar": {
              "outlinewidth": 0,
              "ticks": ""
             }
            },
            "type": "scatterpolar"
           }
          ],
          "scatterpolargl": [
           {
            "marker": {
             "colorbar": {
              "outlinewidth": 0,
              "ticks": ""
             }
            },
            "type": "scatterpolargl"
           }
          ],
          "scatterternary": [
           {
            "marker": {
             "colorbar": {
              "outlinewidth": 0,
              "ticks": ""
             }
            },
            "type": "scatterternary"
           }
          ],
          "surface": [
           {
            "colorbar": {
             "outlinewidth": 0,
             "ticks": ""
            },
            "colorscale": [
             [
              0,
              "#0d0887"
             ],
             [
              0.1111111111111111,
              "#46039f"
             ],
             [
              0.2222222222222222,
              "#7201a8"
             ],
             [
              0.3333333333333333,
              "#9c179e"
             ],
             [
              0.4444444444444444,
              "#bd3786"
             ],
             [
              0.5555555555555556,
              "#d8576b"
             ],
             [
              0.6666666666666666,
              "#ed7953"
             ],
             [
              0.7777777777777778,
              "#fb9f3a"
             ],
             [
              0.8888888888888888,
              "#fdca26"
             ],
             [
              1,
              "#f0f921"
             ]
            ],
            "type": "surface"
           }
          ],
          "table": [
           {
            "cells": {
             "fill": {
              "color": "#EBF0F8"
             },
             "line": {
              "color": "white"
             }
            },
            "header": {
             "fill": {
              "color": "#C8D4E3"
             },
             "line": {
              "color": "white"
             }
            },
            "type": "table"
           }
          ]
         },
         "layout": {
          "annotationdefaults": {
           "arrowcolor": "#2a3f5f",
           "arrowhead": 0,
           "arrowwidth": 1
          },
          "autotypenumbers": "strict",
          "coloraxis": {
           "colorbar": {
            "outlinewidth": 0,
            "ticks": ""
           }
          },
          "colorscale": {
           "diverging": [
            [
             0,
             "#8e0152"
            ],
            [
             0.1,
             "#c51b7d"
            ],
            [
             0.2,
             "#de77ae"
            ],
            [
             0.3,
             "#f1b6da"
            ],
            [
             0.4,
             "#fde0ef"
            ],
            [
             0.5,
             "#f7f7f7"
            ],
            [
             0.6,
             "#e6f5d0"
            ],
            [
             0.7,
             "#b8e186"
            ],
            [
             0.8,
             "#7fbc41"
            ],
            [
             0.9,
             "#4d9221"
            ],
            [
             1,
             "#276419"
            ]
           ],
           "sequential": [
            [
             0,
             "#0d0887"
            ],
            [
             0.1111111111111111,
             "#46039f"
            ],
            [
             0.2222222222222222,
             "#7201a8"
            ],
            [
             0.3333333333333333,
             "#9c179e"
            ],
            [
             0.4444444444444444,
             "#bd3786"
            ],
            [
             0.5555555555555556,
             "#d8576b"
            ],
            [
             0.6666666666666666,
             "#ed7953"
            ],
            [
             0.7777777777777778,
             "#fb9f3a"
            ],
            [
             0.8888888888888888,
             "#fdca26"
            ],
            [
             1,
             "#f0f921"
            ]
           ],
           "sequentialminus": [
            [
             0,
             "#0d0887"
            ],
            [
             0.1111111111111111,
             "#46039f"
            ],
            [
             0.2222222222222222,
             "#7201a8"
            ],
            [
             0.3333333333333333,
             "#9c179e"
            ],
            [
             0.4444444444444444,
             "#bd3786"
            ],
            [
             0.5555555555555556,
             "#d8576b"
            ],
            [
             0.6666666666666666,
             "#ed7953"
            ],
            [
             0.7777777777777778,
             "#fb9f3a"
            ],
            [
             0.8888888888888888,
             "#fdca26"
            ],
            [
             1,
             "#f0f921"
            ]
           ]
          },
          "colorway": [
           "#636efa",
           "#EF553B",
           "#00cc96",
           "#ab63fa",
           "#FFA15A",
           "#19d3f3",
           "#FF6692",
           "#B6E880",
           "#FF97FF",
           "#FECB52"
          ],
          "font": {
           "color": "#2a3f5f"
          },
          "geo": {
           "bgcolor": "white",
           "lakecolor": "white",
           "landcolor": "#E5ECF6",
           "showlakes": true,
           "showland": true,
           "subunitcolor": "white"
          },
          "hoverlabel": {
           "align": "left"
          },
          "hovermode": "closest",
          "mapbox": {
           "style": "light"
          },
          "paper_bgcolor": "white",
          "plot_bgcolor": "#E5ECF6",
          "polar": {
           "angularaxis": {
            "gridcolor": "white",
            "linecolor": "white",
            "ticks": ""
           },
           "bgcolor": "#E5ECF6",
           "radialaxis": {
            "gridcolor": "white",
            "linecolor": "white",
            "ticks": ""
           }
          },
          "scene": {
           "xaxis": {
            "backgroundcolor": "#E5ECF6",
            "gridcolor": "white",
            "gridwidth": 2,
            "linecolor": "white",
            "showbackground": true,
            "ticks": "",
            "zerolinecolor": "white"
           },
           "yaxis": {
            "backgroundcolor": "#E5ECF6",
            "gridcolor": "white",
            "gridwidth": 2,
            "linecolor": "white",
            "showbackground": true,
            "ticks": "",
            "zerolinecolor": "white"
           },
           "zaxis": {
            "backgroundcolor": "#E5ECF6",
            "gridcolor": "white",
            "gridwidth": 2,
            "linecolor": "white",
            "showbackground": true,
            "ticks": "",
            "zerolinecolor": "white"
           }
          },
          "shapedefaults": {
           "line": {
            "color": "#2a3f5f"
           }
          },
          "ternary": {
           "aaxis": {
            "gridcolor": "white",
            "linecolor": "white",
            "ticks": ""
           },
           "baxis": {
            "gridcolor": "white",
            "linecolor": "white",
            "ticks": ""
           },
           "bgcolor": "#E5ECF6",
           "caxis": {
            "gridcolor": "white",
            "linecolor": "white",
            "ticks": ""
           }
          },
          "title": {
           "x": 0.05
          },
          "xaxis": {
           "automargin": true,
           "gridcolor": "white",
           "linecolor": "white",
           "ticks": "",
           "title": {
            "standoff": 15
           },
           "zerolinecolor": "white",
           "zerolinewidth": 2
          },
          "yaxis": {
           "automargin": true,
           "gridcolor": "white",
           "linecolor": "white",
           "ticks": "",
           "title": {
            "standoff": 15
           },
           "zerolinecolor": "white",
           "zerolinewidth": 2
          }
         }
        },
        "title": {
         "text": "Top 20 words in transfer"
        },
        "xaxis": {
         "anchor": "y",
         "domain": [
          0,
          1
         ],
         "title": {
          "text": "word"
         }
        },
        "yaxis": {
         "anchor": "x",
         "domain": [
          0,
          1
         ],
         "title": {
          "text": "count"
         }
        }
       }
      }
     },
     "metadata": {},
     "output_type": "display_data"
    }
   ],
   "source": [
    "from sklearn.feature_extraction.text import TfidfVectorizer\n",
    "from sklearn.feature_extraction.text import CountVectorizer\n",
    "import matplotlib.pyplot as plt\n",
    "import seaborn as sns\n",
    "import string\n",
    "import re\n",
    "\n",
    "def clean_text(text):\n",
    "    text = str(text).lower()\n",
    "    text = re.sub('\\[.*?\\]', '', text)\n",
    "    text = re.sub('https?://\\S+|www\\.\\S+', '', text)\n",
    "    text = re.sub(f'[{string.punctuation}]', '', text) #remove punctuation (list available in string.punctuation)\n",
    "    text = re.sub('\\n', '', text) #remove new line\n",
    "    return text\n",
    "\n",
    "def count_words(text):\n",
    "    words = text.split(' ')\n",
    "    return len(words)\n",
    "\n",
    "train_df['new_sentence'] = train_df['sentence'].apply(clean_text) #apply cleaning\n",
    "train_df['sentence_len'] = train_df['sentence'].apply(count_words)\n",
    "\n",
    "from stop_words import get_stop_words\n",
    "\n",
    "import numpy as np\n",
    "def get_top_n_words_without_stop_words(corpus, n=None):\n",
    "    vectorizer = CountVectorizer(stop_words='english')\n",
    "    X = vectorizer.fit_transform(corpus)\n",
    "    words = vectorizer.get_feature_names_out()\n",
    "    counts = X.toarray().sum(axis=0)\n",
    "    top_idx = np.argsort(-counts)[:n]\n",
    "    top_words = words[top_idx]\n",
    "    top_values = counts[top_idx]\n",
    "    return top_words, top_values\n",
    "\n",
    "common_words, common_words_ct = get_top_n_words_without_stop_words(train_df[train_df['intent'] == 'transfer']['new_sentence'], 20)\n",
    "df1 = pd.DataFrame({'word':common_words , 'count':common_words_ct})\n",
    "df1_sorted = df1.sort_values('count',ascending=False)\n",
    "\n",
    "import plotly.express as px\n",
    "\n",
    "fig = px.bar(df1_sorted, x='word', y='count', title='Top 20 words in transfer')\n",
    "fig.show()"
   ]
  },
  {
   "cell_type": "code",
   "execution_count": 10,
   "metadata": {},
   "outputs": [
    {
     "data": {
      "application/vnd.plotly.v1+json": {
       "config": {
        "plotlyServerURL": "https://plot.ly"
       },
       "data": [
        {
         "alignmentgroup": "True",
         "hovertemplate": "word=%{x}<br>count=%{y}<extra></extra>",
         "legendgroup": "",
         "marker": {
          "color": "#636efa",
          "pattern": {
           "shape": ""
          }
         },
         "name": "",
         "offsetgroup": "",
         "orientation": "v",
         "showlegend": false,
         "textposition": "auto",
         "type": "bar",
         "x": [
          "timer",
          "set",
          "minutes",
          "minute",
          "10",
          "need",
          "start",
          "want",
          "seconds",
          "20",
          "15",
          "lets",
          "hour",
          "hours",
          "tell",
          "make",
          "time",
          "new",
          "remind",
          "like"
         ],
         "xaxis": "x",
         "y": [
          86,
          63,
          39,
          19,
          13,
          11,
          8,
          5,
          5,
          4,
          3,
          3,
          3,
          2,
          2,
          2,
          2,
          2,
          2,
          2
         ],
         "yaxis": "y"
        }
       ],
       "layout": {
        "barmode": "relative",
        "legend": {
         "tracegroupgap": 0
        },
        "template": {
         "data": {
          "bar": [
           {
            "error_x": {
             "color": "#2a3f5f"
            },
            "error_y": {
             "color": "#2a3f5f"
            },
            "marker": {
             "line": {
              "color": "#E5ECF6",
              "width": 0.5
             },
             "pattern": {
              "fillmode": "overlay",
              "size": 10,
              "solidity": 0.2
             }
            },
            "type": "bar"
           }
          ],
          "barpolar": [
           {
            "marker": {
             "line": {
              "color": "#E5ECF6",
              "width": 0.5
             },
             "pattern": {
              "fillmode": "overlay",
              "size": 10,
              "solidity": 0.2
             }
            },
            "type": "barpolar"
           }
          ],
          "carpet": [
           {
            "aaxis": {
             "endlinecolor": "#2a3f5f",
             "gridcolor": "white",
             "linecolor": "white",
             "minorgridcolor": "white",
             "startlinecolor": "#2a3f5f"
            },
            "baxis": {
             "endlinecolor": "#2a3f5f",
             "gridcolor": "white",
             "linecolor": "white",
             "minorgridcolor": "white",
             "startlinecolor": "#2a3f5f"
            },
            "type": "carpet"
           }
          ],
          "choropleth": [
           {
            "colorbar": {
             "outlinewidth": 0,
             "ticks": ""
            },
            "type": "choropleth"
           }
          ],
          "contour": [
           {
            "colorbar": {
             "outlinewidth": 0,
             "ticks": ""
            },
            "colorscale": [
             [
              0,
              "#0d0887"
             ],
             [
              0.1111111111111111,
              "#46039f"
             ],
             [
              0.2222222222222222,
              "#7201a8"
             ],
             [
              0.3333333333333333,
              "#9c179e"
             ],
             [
              0.4444444444444444,
              "#bd3786"
             ],
             [
              0.5555555555555556,
              "#d8576b"
             ],
             [
              0.6666666666666666,
              "#ed7953"
             ],
             [
              0.7777777777777778,
              "#fb9f3a"
             ],
             [
              0.8888888888888888,
              "#fdca26"
             ],
             [
              1,
              "#f0f921"
             ]
            ],
            "type": "contour"
           }
          ],
          "contourcarpet": [
           {
            "colorbar": {
             "outlinewidth": 0,
             "ticks": ""
            },
            "type": "contourcarpet"
           }
          ],
          "heatmap": [
           {
            "colorbar": {
             "outlinewidth": 0,
             "ticks": ""
            },
            "colorscale": [
             [
              0,
              "#0d0887"
             ],
             [
              0.1111111111111111,
              "#46039f"
             ],
             [
              0.2222222222222222,
              "#7201a8"
             ],
             [
              0.3333333333333333,
              "#9c179e"
             ],
             [
              0.4444444444444444,
              "#bd3786"
             ],
             [
              0.5555555555555556,
              "#d8576b"
             ],
             [
              0.6666666666666666,
              "#ed7953"
             ],
             [
              0.7777777777777778,
              "#fb9f3a"
             ],
             [
              0.8888888888888888,
              "#fdca26"
             ],
             [
              1,
              "#f0f921"
             ]
            ],
            "type": "heatmap"
           }
          ],
          "heatmapgl": [
           {
            "colorbar": {
             "outlinewidth": 0,
             "ticks": ""
            },
            "colorscale": [
             [
              0,
              "#0d0887"
             ],
             [
              0.1111111111111111,
              "#46039f"
             ],
             [
              0.2222222222222222,
              "#7201a8"
             ],
             [
              0.3333333333333333,
              "#9c179e"
             ],
             [
              0.4444444444444444,
              "#bd3786"
             ],
             [
              0.5555555555555556,
              "#d8576b"
             ],
             [
              0.6666666666666666,
              "#ed7953"
             ],
             [
              0.7777777777777778,
              "#fb9f3a"
             ],
             [
              0.8888888888888888,
              "#fdca26"
             ],
             [
              1,
              "#f0f921"
             ]
            ],
            "type": "heatmapgl"
           }
          ],
          "histogram": [
           {
            "marker": {
             "pattern": {
              "fillmode": "overlay",
              "size": 10,
              "solidity": 0.2
             }
            },
            "type": "histogram"
           }
          ],
          "histogram2d": [
           {
            "colorbar": {
             "outlinewidth": 0,
             "ticks": ""
            },
            "colorscale": [
             [
              0,
              "#0d0887"
             ],
             [
              0.1111111111111111,
              "#46039f"
             ],
             [
              0.2222222222222222,
              "#7201a8"
             ],
             [
              0.3333333333333333,
              "#9c179e"
             ],
             [
              0.4444444444444444,
              "#bd3786"
             ],
             [
              0.5555555555555556,
              "#d8576b"
             ],
             [
              0.6666666666666666,
              "#ed7953"
             ],
             [
              0.7777777777777778,
              "#fb9f3a"
             ],
             [
              0.8888888888888888,
              "#fdca26"
             ],
             [
              1,
              "#f0f921"
             ]
            ],
            "type": "histogram2d"
           }
          ],
          "histogram2dcontour": [
           {
            "colorbar": {
             "outlinewidth": 0,
             "ticks": ""
            },
            "colorscale": [
             [
              0,
              "#0d0887"
             ],
             [
              0.1111111111111111,
              "#46039f"
             ],
             [
              0.2222222222222222,
              "#7201a8"
             ],
             [
              0.3333333333333333,
              "#9c179e"
             ],
             [
              0.4444444444444444,
              "#bd3786"
             ],
             [
              0.5555555555555556,
              "#d8576b"
             ],
             [
              0.6666666666666666,
              "#ed7953"
             ],
             [
              0.7777777777777778,
              "#fb9f3a"
             ],
             [
              0.8888888888888888,
              "#fdca26"
             ],
             [
              1,
              "#f0f921"
             ]
            ],
            "type": "histogram2dcontour"
           }
          ],
          "mesh3d": [
           {
            "colorbar": {
             "outlinewidth": 0,
             "ticks": ""
            },
            "type": "mesh3d"
           }
          ],
          "parcoords": [
           {
            "line": {
             "colorbar": {
              "outlinewidth": 0,
              "ticks": ""
             }
            },
            "type": "parcoords"
           }
          ],
          "pie": [
           {
            "automargin": true,
            "type": "pie"
           }
          ],
          "scatter": [
           {
            "fillpattern": {
             "fillmode": "overlay",
             "size": 10,
             "solidity": 0.2
            },
            "type": "scatter"
           }
          ],
          "scatter3d": [
           {
            "line": {
             "colorbar": {
              "outlinewidth": 0,
              "ticks": ""
             }
            },
            "marker": {
             "colorbar": {
              "outlinewidth": 0,
              "ticks": ""
             }
            },
            "type": "scatter3d"
           }
          ],
          "scattercarpet": [
           {
            "marker": {
             "colorbar": {
              "outlinewidth": 0,
              "ticks": ""
             }
            },
            "type": "scattercarpet"
           }
          ],
          "scattergeo": [
           {
            "marker": {
             "colorbar": {
              "outlinewidth": 0,
              "ticks": ""
             }
            },
            "type": "scattergeo"
           }
          ],
          "scattergl": [
           {
            "marker": {
             "colorbar": {
              "outlinewidth": 0,
              "ticks": ""
             }
            },
            "type": "scattergl"
           }
          ],
          "scattermapbox": [
           {
            "marker": {
             "colorbar": {
              "outlinewidth": 0,
              "ticks": ""
             }
            },
            "type": "scattermapbox"
           }
          ],
          "scatterpolar": [
           {
            "marker": {
             "colorbar": {
              "outlinewidth": 0,
              "ticks": ""
             }
            },
            "type": "scatterpolar"
           }
          ],
          "scatterpolargl": [
           {
            "marker": {
             "colorbar": {
              "outlinewidth": 0,
              "ticks": ""
             }
            },
            "type": "scatterpolargl"
           }
          ],
          "scatterternary": [
           {
            "marker": {
             "colorbar": {
              "outlinewidth": 0,
              "ticks": ""
             }
            },
            "type": "scatterternary"
           }
          ],
          "surface": [
           {
            "colorbar": {
             "outlinewidth": 0,
             "ticks": ""
            },
            "colorscale": [
             [
              0,
              "#0d0887"
             ],
             [
              0.1111111111111111,
              "#46039f"
             ],
             [
              0.2222222222222222,
              "#7201a8"
             ],
             [
              0.3333333333333333,
              "#9c179e"
             ],
             [
              0.4444444444444444,
              "#bd3786"
             ],
             [
              0.5555555555555556,
              "#d8576b"
             ],
             [
              0.6666666666666666,
              "#ed7953"
             ],
             [
              0.7777777777777778,
              "#fb9f3a"
             ],
             [
              0.8888888888888888,
              "#fdca26"
             ],
             [
              1,
              "#f0f921"
             ]
            ],
            "type": "surface"
           }
          ],
          "table": [
           {
            "cells": {
             "fill": {
              "color": "#EBF0F8"
             },
             "line": {
              "color": "white"
             }
            },
            "header": {
             "fill": {
              "color": "#C8D4E3"
             },
             "line": {
              "color": "white"
             }
            },
            "type": "table"
           }
          ]
         },
         "layout": {
          "annotationdefaults": {
           "arrowcolor": "#2a3f5f",
           "arrowhead": 0,
           "arrowwidth": 1
          },
          "autotypenumbers": "strict",
          "coloraxis": {
           "colorbar": {
            "outlinewidth": 0,
            "ticks": ""
           }
          },
          "colorscale": {
           "diverging": [
            [
             0,
             "#8e0152"
            ],
            [
             0.1,
             "#c51b7d"
            ],
            [
             0.2,
             "#de77ae"
            ],
            [
             0.3,
             "#f1b6da"
            ],
            [
             0.4,
             "#fde0ef"
            ],
            [
             0.5,
             "#f7f7f7"
            ],
            [
             0.6,
             "#e6f5d0"
            ],
            [
             0.7,
             "#b8e186"
            ],
            [
             0.8,
             "#7fbc41"
            ],
            [
             0.9,
             "#4d9221"
            ],
            [
             1,
             "#276419"
            ]
           ],
           "sequential": [
            [
             0,
             "#0d0887"
            ],
            [
             0.1111111111111111,
             "#46039f"
            ],
            [
             0.2222222222222222,
             "#7201a8"
            ],
            [
             0.3333333333333333,
             "#9c179e"
            ],
            [
             0.4444444444444444,
             "#bd3786"
            ],
            [
             0.5555555555555556,
             "#d8576b"
            ],
            [
             0.6666666666666666,
             "#ed7953"
            ],
            [
             0.7777777777777778,
             "#fb9f3a"
            ],
            [
             0.8888888888888888,
             "#fdca26"
            ],
            [
             1,
             "#f0f921"
            ]
           ],
           "sequentialminus": [
            [
             0,
             "#0d0887"
            ],
            [
             0.1111111111111111,
             "#46039f"
            ],
            [
             0.2222222222222222,
             "#7201a8"
            ],
            [
             0.3333333333333333,
             "#9c179e"
            ],
            [
             0.4444444444444444,
             "#bd3786"
            ],
            [
             0.5555555555555556,
             "#d8576b"
            ],
            [
             0.6666666666666666,
             "#ed7953"
            ],
            [
             0.7777777777777778,
             "#fb9f3a"
            ],
            [
             0.8888888888888888,
             "#fdca26"
            ],
            [
             1,
             "#f0f921"
            ]
           ]
          },
          "colorway": [
           "#636efa",
           "#EF553B",
           "#00cc96",
           "#ab63fa",
           "#FFA15A",
           "#19d3f3",
           "#FF6692",
           "#B6E880",
           "#FF97FF",
           "#FECB52"
          ],
          "font": {
           "color": "#2a3f5f"
          },
          "geo": {
           "bgcolor": "white",
           "lakecolor": "white",
           "landcolor": "#E5ECF6",
           "showlakes": true,
           "showland": true,
           "subunitcolor": "white"
          },
          "hoverlabel": {
           "align": "left"
          },
          "hovermode": "closest",
          "mapbox": {
           "style": "light"
          },
          "paper_bgcolor": "white",
          "plot_bgcolor": "#E5ECF6",
          "polar": {
           "angularaxis": {
            "gridcolor": "white",
            "linecolor": "white",
            "ticks": ""
           },
           "bgcolor": "#E5ECF6",
           "radialaxis": {
            "gridcolor": "white",
            "linecolor": "white",
            "ticks": ""
           }
          },
          "scene": {
           "xaxis": {
            "backgroundcolor": "#E5ECF6",
            "gridcolor": "white",
            "gridwidth": 2,
            "linecolor": "white",
            "showbackground": true,
            "ticks": "",
            "zerolinecolor": "white"
           },
           "yaxis": {
            "backgroundcolor": "#E5ECF6",
            "gridcolor": "white",
            "gridwidth": 2,
            "linecolor": "white",
            "showbackground": true,
            "ticks": "",
            "zerolinecolor": "white"
           },
           "zaxis": {
            "backgroundcolor": "#E5ECF6",
            "gridcolor": "white",
            "gridwidth": 2,
            "linecolor": "white",
            "showbackground": true,
            "ticks": "",
            "zerolinecolor": "white"
           }
          },
          "shapedefaults": {
           "line": {
            "color": "#2a3f5f"
           }
          },
          "ternary": {
           "aaxis": {
            "gridcolor": "white",
            "linecolor": "white",
            "ticks": ""
           },
           "baxis": {
            "gridcolor": "white",
            "linecolor": "white",
            "ticks": ""
           },
           "bgcolor": "#E5ECF6",
           "caxis": {
            "gridcolor": "white",
            "linecolor": "white",
            "ticks": ""
           }
          },
          "title": {
           "x": 0.05
          },
          "xaxis": {
           "automargin": true,
           "gridcolor": "white",
           "linecolor": "white",
           "ticks": "",
           "title": {
            "standoff": 15
           },
           "zerolinecolor": "white",
           "zerolinewidth": 2
          },
          "yaxis": {
           "automargin": true,
           "gridcolor": "white",
           "linecolor": "white",
           "ticks": "",
           "title": {
            "standoff": 15
           },
           "zerolinecolor": "white",
           "zerolinewidth": 2
          }
         }
        },
        "title": {
         "text": "Top 20 words in timer"
        },
        "xaxis": {
         "anchor": "y",
         "domain": [
          0,
          1
         ],
         "title": {
          "text": "word"
         }
        },
        "yaxis": {
         "anchor": "x",
         "domain": [
          0,
          1
         ],
         "title": {
          "text": "count"
         }
        }
       }
      }
     },
     "metadata": {},
     "output_type": "display_data"
    }
   ],
   "source": [
    "common_words, common_words_ct = get_top_n_words_without_stop_words(train_df[train_df['intent'] == 'timer']['new_sentence'], 20)\n",
    "df1 = pd.DataFrame({'word':common_words , 'count':common_words_ct})\n",
    "df1_sorted = df1.sort_values('count',ascending=False)\n",
    "\n",
    "import plotly.express as px\n",
    "\n",
    "fig = px.bar(df1_sorted, x='word', y='count', title='Top 20 words in timer')\n",
    "fig.show()"
   ]
  },
  {
   "cell_type": "code",
   "execution_count": 11,
   "metadata": {},
   "outputs": [
    {
     "data": {
      "application/vnd.plotly.v1+json": {
       "config": {
        "plotlyServerURL": "https://plot.ly"
       },
       "data": [
        {
         "alignmentgroup": "True",
         "hovertemplate": "word=%{x}<br>count=%{y}<extra></extra>",
         "legendgroup": "",
         "marker": {
          "color": "#636efa",
          "pattern": {
           "shape": ""
          }
         },
         "name": "",
         "offsetgroup": "",
         "orientation": "v",
         "showlegend": false,
         "textposition": "auto",
         "type": "bar",
         "x": [
          "life",
          "meaning",
          "whats",
          "tell",
          "purpose",
          "know",
          "does",
          "point",
          "lifes",
          "think",
          "explain",
          "answer",
          "existence",
          "mean",
          "means",
          "like",
          "say",
          "secret",
          "share",
          "wanna"
         ],
         "xaxis": "x",
         "y": [
          83,
          73,
          16,
          11,
          9,
          8,
          8,
          8,
          6,
          6,
          3,
          3,
          3,
          2,
          2,
          2,
          2,
          2,
          2,
          2
         ],
         "yaxis": "y"
        }
       ],
       "layout": {
        "barmode": "relative",
        "legend": {
         "tracegroupgap": 0
        },
        "template": {
         "data": {
          "bar": [
           {
            "error_x": {
             "color": "#2a3f5f"
            },
            "error_y": {
             "color": "#2a3f5f"
            },
            "marker": {
             "line": {
              "color": "#E5ECF6",
              "width": 0.5
             },
             "pattern": {
              "fillmode": "overlay",
              "size": 10,
              "solidity": 0.2
             }
            },
            "type": "bar"
           }
          ],
          "barpolar": [
           {
            "marker": {
             "line": {
              "color": "#E5ECF6",
              "width": 0.5
             },
             "pattern": {
              "fillmode": "overlay",
              "size": 10,
              "solidity": 0.2
             }
            },
            "type": "barpolar"
           }
          ],
          "carpet": [
           {
            "aaxis": {
             "endlinecolor": "#2a3f5f",
             "gridcolor": "white",
             "linecolor": "white",
             "minorgridcolor": "white",
             "startlinecolor": "#2a3f5f"
            },
            "baxis": {
             "endlinecolor": "#2a3f5f",
             "gridcolor": "white",
             "linecolor": "white",
             "minorgridcolor": "white",
             "startlinecolor": "#2a3f5f"
            },
            "type": "carpet"
           }
          ],
          "choropleth": [
           {
            "colorbar": {
             "outlinewidth": 0,
             "ticks": ""
            },
            "type": "choropleth"
           }
          ],
          "contour": [
           {
            "colorbar": {
             "outlinewidth": 0,
             "ticks": ""
            },
            "colorscale": [
             [
              0,
              "#0d0887"
             ],
             [
              0.1111111111111111,
              "#46039f"
             ],
             [
              0.2222222222222222,
              "#7201a8"
             ],
             [
              0.3333333333333333,
              "#9c179e"
             ],
             [
              0.4444444444444444,
              "#bd3786"
             ],
             [
              0.5555555555555556,
              "#d8576b"
             ],
             [
              0.6666666666666666,
              "#ed7953"
             ],
             [
              0.7777777777777778,
              "#fb9f3a"
             ],
             [
              0.8888888888888888,
              "#fdca26"
             ],
             [
              1,
              "#f0f921"
             ]
            ],
            "type": "contour"
           }
          ],
          "contourcarpet": [
           {
            "colorbar": {
             "outlinewidth": 0,
             "ticks": ""
            },
            "type": "contourcarpet"
           }
          ],
          "heatmap": [
           {
            "colorbar": {
             "outlinewidth": 0,
             "ticks": ""
            },
            "colorscale": [
             [
              0,
              "#0d0887"
             ],
             [
              0.1111111111111111,
              "#46039f"
             ],
             [
              0.2222222222222222,
              "#7201a8"
             ],
             [
              0.3333333333333333,
              "#9c179e"
             ],
             [
              0.4444444444444444,
              "#bd3786"
             ],
             [
              0.5555555555555556,
              "#d8576b"
             ],
             [
              0.6666666666666666,
              "#ed7953"
             ],
             [
              0.7777777777777778,
              "#fb9f3a"
             ],
             [
              0.8888888888888888,
              "#fdca26"
             ],
             [
              1,
              "#f0f921"
             ]
            ],
            "type": "heatmap"
           }
          ],
          "heatmapgl": [
           {
            "colorbar": {
             "outlinewidth": 0,
             "ticks": ""
            },
            "colorscale": [
             [
              0,
              "#0d0887"
             ],
             [
              0.1111111111111111,
              "#46039f"
             ],
             [
              0.2222222222222222,
              "#7201a8"
             ],
             [
              0.3333333333333333,
              "#9c179e"
             ],
             [
              0.4444444444444444,
              "#bd3786"
             ],
             [
              0.5555555555555556,
              "#d8576b"
             ],
             [
              0.6666666666666666,
              "#ed7953"
             ],
             [
              0.7777777777777778,
              "#fb9f3a"
             ],
             [
              0.8888888888888888,
              "#fdca26"
             ],
             [
              1,
              "#f0f921"
             ]
            ],
            "type": "heatmapgl"
           }
          ],
          "histogram": [
           {
            "marker": {
             "pattern": {
              "fillmode": "overlay",
              "size": 10,
              "solidity": 0.2
             }
            },
            "type": "histogram"
           }
          ],
          "histogram2d": [
           {
            "colorbar": {
             "outlinewidth": 0,
             "ticks": ""
            },
            "colorscale": [
             [
              0,
              "#0d0887"
             ],
             [
              0.1111111111111111,
              "#46039f"
             ],
             [
              0.2222222222222222,
              "#7201a8"
             ],
             [
              0.3333333333333333,
              "#9c179e"
             ],
             [
              0.4444444444444444,
              "#bd3786"
             ],
             [
              0.5555555555555556,
              "#d8576b"
             ],
             [
              0.6666666666666666,
              "#ed7953"
             ],
             [
              0.7777777777777778,
              "#fb9f3a"
             ],
             [
              0.8888888888888888,
              "#fdca26"
             ],
             [
              1,
              "#f0f921"
             ]
            ],
            "type": "histogram2d"
           }
          ],
          "histogram2dcontour": [
           {
            "colorbar": {
             "outlinewidth": 0,
             "ticks": ""
            },
            "colorscale": [
             [
              0,
              "#0d0887"
             ],
             [
              0.1111111111111111,
              "#46039f"
             ],
             [
              0.2222222222222222,
              "#7201a8"
             ],
             [
              0.3333333333333333,
              "#9c179e"
             ],
             [
              0.4444444444444444,
              "#bd3786"
             ],
             [
              0.5555555555555556,
              "#d8576b"
             ],
             [
              0.6666666666666666,
              "#ed7953"
             ],
             [
              0.7777777777777778,
              "#fb9f3a"
             ],
             [
              0.8888888888888888,
              "#fdca26"
             ],
             [
              1,
              "#f0f921"
             ]
            ],
            "type": "histogram2dcontour"
           }
          ],
          "mesh3d": [
           {
            "colorbar": {
             "outlinewidth": 0,
             "ticks": ""
            },
            "type": "mesh3d"
           }
          ],
          "parcoords": [
           {
            "line": {
             "colorbar": {
              "outlinewidth": 0,
              "ticks": ""
             }
            },
            "type": "parcoords"
           }
          ],
          "pie": [
           {
            "automargin": true,
            "type": "pie"
           }
          ],
          "scatter": [
           {
            "fillpattern": {
             "fillmode": "overlay",
             "size": 10,
             "solidity": 0.2
            },
            "type": "scatter"
           }
          ],
          "scatter3d": [
           {
            "line": {
             "colorbar": {
              "outlinewidth": 0,
              "ticks": ""
             }
            },
            "marker": {
             "colorbar": {
              "outlinewidth": 0,
              "ticks": ""
             }
            },
            "type": "scatter3d"
           }
          ],
          "scattercarpet": [
           {
            "marker": {
             "colorbar": {
              "outlinewidth": 0,
              "ticks": ""
             }
            },
            "type": "scattercarpet"
           }
          ],
          "scattergeo": [
           {
            "marker": {
             "colorbar": {
              "outlinewidth": 0,
              "ticks": ""
             }
            },
            "type": "scattergeo"
           }
          ],
          "scattergl": [
           {
            "marker": {
             "colorbar": {
              "outlinewidth": 0,
              "ticks": ""
             }
            },
            "type": "scattergl"
           }
          ],
          "scattermapbox": [
           {
            "marker": {
             "colorbar": {
              "outlinewidth": 0,
              "ticks": ""
             }
            },
            "type": "scattermapbox"
           }
          ],
          "scatterpolar": [
           {
            "marker": {
             "colorbar": {
              "outlinewidth": 0,
              "ticks": ""
             }
            },
            "type": "scatterpolar"
           }
          ],
          "scatterpolargl": [
           {
            "marker": {
             "colorbar": {
              "outlinewidth": 0,
              "ticks": ""
             }
            },
            "type": "scatterpolargl"
           }
          ],
          "scatterternary": [
           {
            "marker": {
             "colorbar": {
              "outlinewidth": 0,
              "ticks": ""
             }
            },
            "type": "scatterternary"
           }
          ],
          "surface": [
           {
            "colorbar": {
             "outlinewidth": 0,
             "ticks": ""
            },
            "colorscale": [
             [
              0,
              "#0d0887"
             ],
             [
              0.1111111111111111,
              "#46039f"
             ],
             [
              0.2222222222222222,
              "#7201a8"
             ],
             [
              0.3333333333333333,
              "#9c179e"
             ],
             [
              0.4444444444444444,
              "#bd3786"
             ],
             [
              0.5555555555555556,
              "#d8576b"
             ],
             [
              0.6666666666666666,
              "#ed7953"
             ],
             [
              0.7777777777777778,
              "#fb9f3a"
             ],
             [
              0.8888888888888888,
              "#fdca26"
             ],
             [
              1,
              "#f0f921"
             ]
            ],
            "type": "surface"
           }
          ],
          "table": [
           {
            "cells": {
             "fill": {
              "color": "#EBF0F8"
             },
             "line": {
              "color": "white"
             }
            },
            "header": {
             "fill": {
              "color": "#C8D4E3"
             },
             "line": {
              "color": "white"
             }
            },
            "type": "table"
           }
          ]
         },
         "layout": {
          "annotationdefaults": {
           "arrowcolor": "#2a3f5f",
           "arrowhead": 0,
           "arrowwidth": 1
          },
          "autotypenumbers": "strict",
          "coloraxis": {
           "colorbar": {
            "outlinewidth": 0,
            "ticks": ""
           }
          },
          "colorscale": {
           "diverging": [
            [
             0,
             "#8e0152"
            ],
            [
             0.1,
             "#c51b7d"
            ],
            [
             0.2,
             "#de77ae"
            ],
            [
             0.3,
             "#f1b6da"
            ],
            [
             0.4,
             "#fde0ef"
            ],
            [
             0.5,
             "#f7f7f7"
            ],
            [
             0.6,
             "#e6f5d0"
            ],
            [
             0.7,
             "#b8e186"
            ],
            [
             0.8,
             "#7fbc41"
            ],
            [
             0.9,
             "#4d9221"
            ],
            [
             1,
             "#276419"
            ]
           ],
           "sequential": [
            [
             0,
             "#0d0887"
            ],
            [
             0.1111111111111111,
             "#46039f"
            ],
            [
             0.2222222222222222,
             "#7201a8"
            ],
            [
             0.3333333333333333,
             "#9c179e"
            ],
            [
             0.4444444444444444,
             "#bd3786"
            ],
            [
             0.5555555555555556,
             "#d8576b"
            ],
            [
             0.6666666666666666,
             "#ed7953"
            ],
            [
             0.7777777777777778,
             "#fb9f3a"
            ],
            [
             0.8888888888888888,
             "#fdca26"
            ],
            [
             1,
             "#f0f921"
            ]
           ],
           "sequentialminus": [
            [
             0,
             "#0d0887"
            ],
            [
             0.1111111111111111,
             "#46039f"
            ],
            [
             0.2222222222222222,
             "#7201a8"
            ],
            [
             0.3333333333333333,
             "#9c179e"
            ],
            [
             0.4444444444444444,
             "#bd3786"
            ],
            [
             0.5555555555555556,
             "#d8576b"
            ],
            [
             0.6666666666666666,
             "#ed7953"
            ],
            [
             0.7777777777777778,
             "#fb9f3a"
            ],
            [
             0.8888888888888888,
             "#fdca26"
            ],
            [
             1,
             "#f0f921"
            ]
           ]
          },
          "colorway": [
           "#636efa",
           "#EF553B",
           "#00cc96",
           "#ab63fa",
           "#FFA15A",
           "#19d3f3",
           "#FF6692",
           "#B6E880",
           "#FF97FF",
           "#FECB52"
          ],
          "font": {
           "color": "#2a3f5f"
          },
          "geo": {
           "bgcolor": "white",
           "lakecolor": "white",
           "landcolor": "#E5ECF6",
           "showlakes": true,
           "showland": true,
           "subunitcolor": "white"
          },
          "hoverlabel": {
           "align": "left"
          },
          "hovermode": "closest",
          "mapbox": {
           "style": "light"
          },
          "paper_bgcolor": "white",
          "plot_bgcolor": "#E5ECF6",
          "polar": {
           "angularaxis": {
            "gridcolor": "white",
            "linecolor": "white",
            "ticks": ""
           },
           "bgcolor": "#E5ECF6",
           "radialaxis": {
            "gridcolor": "white",
            "linecolor": "white",
            "ticks": ""
           }
          },
          "scene": {
           "xaxis": {
            "backgroundcolor": "#E5ECF6",
            "gridcolor": "white",
            "gridwidth": 2,
            "linecolor": "white",
            "showbackground": true,
            "ticks": "",
            "zerolinecolor": "white"
           },
           "yaxis": {
            "backgroundcolor": "#E5ECF6",
            "gridcolor": "white",
            "gridwidth": 2,
            "linecolor": "white",
            "showbackground": true,
            "ticks": "",
            "zerolinecolor": "white"
           },
           "zaxis": {
            "backgroundcolor": "#E5ECF6",
            "gridcolor": "white",
            "gridwidth": 2,
            "linecolor": "white",
            "showbackground": true,
            "ticks": "",
            "zerolinecolor": "white"
           }
          },
          "shapedefaults": {
           "line": {
            "color": "#2a3f5f"
           }
          },
          "ternary": {
           "aaxis": {
            "gridcolor": "white",
            "linecolor": "white",
            "ticks": ""
           },
           "baxis": {
            "gridcolor": "white",
            "linecolor": "white",
            "ticks": ""
           },
           "bgcolor": "#E5ECF6",
           "caxis": {
            "gridcolor": "white",
            "linecolor": "white",
            "ticks": ""
           }
          },
          "title": {
           "x": 0.05
          },
          "xaxis": {
           "automargin": true,
           "gridcolor": "white",
           "linecolor": "white",
           "ticks": "",
           "title": {
            "standoff": 15
           },
           "zerolinecolor": "white",
           "zerolinewidth": 2
          },
          "yaxis": {
           "automargin": true,
           "gridcolor": "white",
           "linecolor": "white",
           "ticks": "",
           "title": {
            "standoff": 15
           },
           "zerolinecolor": "white",
           "zerolinewidth": 2
          }
         }
        },
        "title": {
         "text": "Top 20 words in timer"
        },
        "xaxis": {
         "anchor": "y",
         "domain": [
          0,
          1
         ],
         "title": {
          "text": "word"
         }
        },
        "yaxis": {
         "anchor": "x",
         "domain": [
          0,
          1
         ],
         "title": {
          "text": "count"
         }
        }
       }
      }
     },
     "metadata": {},
     "output_type": "display_data"
    }
   ],
   "source": [
    "common_words, common_words_ct = get_top_n_words_without_stop_words(train_df[train_df['intent'] == 'meaning_of_life']['new_sentence'], 20)\n",
    "df1 = pd.DataFrame({'word':common_words , 'count':common_words_ct})\n",
    "df1_sorted = df1.sort_values('count',ascending=False)\n",
    "\n",
    "import plotly.express as px\n",
    "\n",
    "fig = px.bar(df1_sorted, x='word', y='count', title='Top 20 words in timer')\n",
    "fig.show()"
   ]
  },
  {
   "cell_type": "markdown",
   "metadata": {},
   "source": [
    "3) Nombre de mots moyen dans une phrase"
   ]
  },
  {
   "cell_type": "code",
   "execution_count": 12,
   "metadata": {},
   "outputs": [
    {
     "data": {
      "text/html": [
       "<div>\n",
       "<style scoped>\n",
       "    .dataframe tbody tr th:only-of-type {\n",
       "        vertical-align: middle;\n",
       "    }\n",
       "\n",
       "    .dataframe tbody tr th {\n",
       "        vertical-align: top;\n",
       "    }\n",
       "\n",
       "    .dataframe thead th {\n",
       "        text-align: right;\n",
       "    }\n",
       "</style>\n",
       "<table border=\"1\" class=\"dataframe\">\n",
       "  <thead>\n",
       "    <tr style=\"text-align: right;\">\n",
       "      <th></th>\n",
       "      <th>sentence</th>\n",
       "      <th>intent</th>\n",
       "      <th>new_sentence</th>\n",
       "      <th>sentence_len</th>\n",
       "    </tr>\n",
       "  </thead>\n",
       "  <tbody>\n",
       "    <tr>\n",
       "      <th>0</th>\n",
       "      <td>what expression would i use to say i love you ...</td>\n",
       "      <td>translate</td>\n",
       "      <td>what expression would i use to say i love you ...</td>\n",
       "      <td>15</td>\n",
       "    </tr>\n",
       "    <tr>\n",
       "      <th>1</th>\n",
       "      <td>can you tell me how to say 'i do not speak muc...</td>\n",
       "      <td>translate</td>\n",
       "      <td>can you tell me how to say i do not speak much...</td>\n",
       "      <td>15</td>\n",
       "    </tr>\n",
       "    <tr>\n",
       "      <th>2</th>\n",
       "      <td>what is the equivalent of, 'life is good' in f...</td>\n",
       "      <td>translate</td>\n",
       "      <td>what is the equivalent of life is good in french</td>\n",
       "      <td>10</td>\n",
       "    </tr>\n",
       "    <tr>\n",
       "      <th>3</th>\n",
       "      <td>tell me how to say, 'it is a beautiful morning...</td>\n",
       "      <td>translate</td>\n",
       "      <td>tell me how to say it is a beautiful morning i...</td>\n",
       "      <td>12</td>\n",
       "    </tr>\n",
       "    <tr>\n",
       "      <th>4</th>\n",
       "      <td>if i were mongolian, how would i say that i am...</td>\n",
       "      <td>translate</td>\n",
       "      <td>if i were mongolian how would i say that i am ...</td>\n",
       "      <td>13</td>\n",
       "    </tr>\n",
       "  </tbody>\n",
       "</table>\n",
       "</div>"
      ],
      "text/plain": [
       "                                            sentence     intent  \\\n",
       "0  what expression would i use to say i love you ...  translate   \n",
       "1  can you tell me how to say 'i do not speak muc...  translate   \n",
       "2  what is the equivalent of, 'life is good' in f...  translate   \n",
       "3  tell me how to say, 'it is a beautiful morning...  translate   \n",
       "4  if i were mongolian, how would i say that i am...  translate   \n",
       "\n",
       "                                        new_sentence  sentence_len  \n",
       "0  what expression would i use to say i love you ...            15  \n",
       "1  can you tell me how to say i do not speak much...            15  \n",
       "2   what is the equivalent of life is good in french            10  \n",
       "3  tell me how to say it is a beautiful morning i...            12  \n",
       "4  if i were mongolian how would i say that i am ...            13  "
      ]
     },
     "execution_count": 12,
     "metadata": {},
     "output_type": "execute_result"
    }
   ],
   "source": [
    "train_df.head()"
   ]
  },
  {
   "cell_type": "code",
   "execution_count": 13,
   "metadata": {},
   "outputs": [
    {
     "data": {
      "text/plain": [
       "8.33092715231788"
      ]
     },
     "execution_count": 13,
     "metadata": {},
     "output_type": "execute_result"
    }
   ],
   "source": [
    "train_df['sentence_len'].mean()"
   ]
  },
  {
   "cell_type": "markdown",
   "metadata": {},
   "source": [
    "On a ainsi une moyenne de 39,89 mots par phrases"
   ]
  },
  {
   "cell_type": "markdown",
   "metadata": {
    "id": "mgFMvGm02Q7C"
   },
   "source": [
    "## 2) Data preparation:"
   ]
  },
  {
   "cell_type": "markdown",
   "metadata": {},
   "source": [
    "1) Crée colonne processed_sentence sans stop_word, sans ponctuation et en utilisant lemmatization"
   ]
  },
  {
   "cell_type": "code",
   "execution_count": 14,
   "metadata": {
    "id": "ViE2WqPZ2cd4"
   },
   "outputs": [],
   "source": [
    "import pandas as pd\n",
    "import spacy\n",
    "\n",
    "# Load the csv file into a pandas dataframe\n",
    "train_df = train_df[train_df['sentence'].apply(lambda x:isinstance(x,str))]\n",
    "\n",
    "# Load the spacy model for French\n",
    "nlp = spacy.load('en_core_web_md')\n",
    "\n",
    "# Define a function to preprocess the text\n",
    "def preprocess_text(text):\n",
    "    # Convert the text to lowercase\n",
    "    output_text = text.lower()\n",
    "    # Tokenize the text using spacy\n",
    "    tokens = nlp(output_text)\n",
    "    # Remove stopwords, punctuation, and get lemma using tokens attributes like 'is_stop'\n",
    "    lemmas = [token.lemma_ for token in tokens if not token.is_punct and not token.is_stop]\n",
    "    # Join the lemmatized tokens back into a string\n",
    "    clean_text = ' '.join(lemmas)\n",
    "    return clean_text\n",
    "\n",
    "# Apply the preprocess_text function to the \"sentence\" column to create a new column \"processed_sentence\"\n",
    "train_df['processed_sentence'] = train_df['sentence'].apply(preprocess_text)"
   ]
  },
  {
   "cell_type": "code",
   "execution_count": 15,
   "metadata": {},
   "outputs": [
    {
     "data": {
      "text/html": [
       "<div>\n",
       "<style scoped>\n",
       "    .dataframe tbody tr th:only-of-type {\n",
       "        vertical-align: middle;\n",
       "    }\n",
       "\n",
       "    .dataframe tbody tr th {\n",
       "        vertical-align: top;\n",
       "    }\n",
       "\n",
       "    .dataframe thead th {\n",
       "        text-align: right;\n",
       "    }\n",
       "</style>\n",
       "<table border=\"1\" class=\"dataframe\">\n",
       "  <thead>\n",
       "    <tr style=\"text-align: right;\">\n",
       "      <th></th>\n",
       "      <th>sentence</th>\n",
       "      <th>intent</th>\n",
       "      <th>new_sentence</th>\n",
       "      <th>sentence_len</th>\n",
       "      <th>processed_sentence</th>\n",
       "    </tr>\n",
       "  </thead>\n",
       "  <tbody>\n",
       "    <tr>\n",
       "      <th>0</th>\n",
       "      <td>what expression would i use to say i love you ...</td>\n",
       "      <td>translate</td>\n",
       "      <td>what expression would i use to say i love you ...</td>\n",
       "      <td>15</td>\n",
       "      <td>expression use love italian</td>\n",
       "    </tr>\n",
       "    <tr>\n",
       "      <th>1</th>\n",
       "      <td>can you tell me how to say 'i do not speak muc...</td>\n",
       "      <td>translate</td>\n",
       "      <td>can you tell me how to say i do not speak much...</td>\n",
       "      <td>15</td>\n",
       "      <td>tell speak spanish spanish</td>\n",
       "    </tr>\n",
       "    <tr>\n",
       "      <th>2</th>\n",
       "      <td>what is the equivalent of, 'life is good' in f...</td>\n",
       "      <td>translate</td>\n",
       "      <td>what is the equivalent of life is good in french</td>\n",
       "      <td>10</td>\n",
       "      <td>equivalent life good french</td>\n",
       "    </tr>\n",
       "    <tr>\n",
       "      <th>3</th>\n",
       "      <td>tell me how to say, 'it is a beautiful morning...</td>\n",
       "      <td>translate</td>\n",
       "      <td>tell me how to say it is a beautiful morning i...</td>\n",
       "      <td>12</td>\n",
       "      <td>tell beautiful morning italian</td>\n",
       "    </tr>\n",
       "    <tr>\n",
       "      <th>4</th>\n",
       "      <td>if i were mongolian, how would i say that i am...</td>\n",
       "      <td>translate</td>\n",
       "      <td>if i were mongolian how would i say that i am ...</td>\n",
       "      <td>13</td>\n",
       "      <td>mongolian tourist</td>\n",
       "    </tr>\n",
       "  </tbody>\n",
       "</table>\n",
       "</div>"
      ],
      "text/plain": [
       "                                            sentence     intent  \\\n",
       "0  what expression would i use to say i love you ...  translate   \n",
       "1  can you tell me how to say 'i do not speak muc...  translate   \n",
       "2  what is the equivalent of, 'life is good' in f...  translate   \n",
       "3  tell me how to say, 'it is a beautiful morning...  translate   \n",
       "4  if i were mongolian, how would i say that i am...  translate   \n",
       "\n",
       "                                        new_sentence  sentence_len  \\\n",
       "0  what expression would i use to say i love you ...            15   \n",
       "1  can you tell me how to say i do not speak much...            15   \n",
       "2   what is the equivalent of life is good in french            10   \n",
       "3  tell me how to say it is a beautiful morning i...            12   \n",
       "4  if i were mongolian how would i say that i am ...            13   \n",
       "\n",
       "               processed_sentence  \n",
       "0     expression use love italian  \n",
       "1      tell speak spanish spanish  \n",
       "2     equivalent life good french  \n",
       "3  tell beautiful morning italian  \n",
       "4               mongolian tourist  "
      ]
     },
     "execution_count": 15,
     "metadata": {},
     "output_type": "execute_result"
    }
   ],
   "source": [
    "train_df.head()"
   ]
  },
  {
   "cell_type": "markdown",
   "metadata": {},
   "source": [
    "IDEM POUR EVAL ?"
   ]
  },
  {
   "cell_type": "code",
   "execution_count": 16,
   "metadata": {},
   "outputs": [],
   "source": [
    "import pandas as pd\n",
    "import spacy\n",
    "\n",
    "# Load the csv file into a pandas dataframe\n",
    "val_df = val_df[val_df['sentence'].apply(lambda x:isinstance(x,str))]\n",
    "\n",
    "# Load the spacy model for French\n",
    "nlp = spacy.load('en_core_web_md')\n",
    "\n",
    "# Define a function to preprocess the text\n",
    "def preprocess_text(text):\n",
    "    # Convert the text to lowercase\n",
    "    output_text = text.lower()\n",
    "    # Tokenize the text using spacy\n",
    "    tokens = nlp(output_text)\n",
    "    # Remove stopwords, punctuation, and get lemma using tokens attributes like 'is_stop'\n",
    "    lemmas = [token.lemma_ for token in tokens if not token.is_punct and not token.is_stop]\n",
    "    # Join the lemmatized tokens back into a string\n",
    "    clean_text = ' '.join(lemmas)\n",
    "    return clean_text\n",
    "\n",
    "# Apply the preprocess_text function to the \"sentence\" column to create a new column \"processed_sentence\"\n",
    "val_df['processed_sentence'] = val_df['sentence'].apply(preprocess_text)"
   ]
  },
  {
   "cell_type": "markdown",
   "metadata": {},
   "source": [
    "2) Séparer les classes 'oos' du reste :"
   ]
  },
  {
   "cell_type": "code",
   "execution_count": 17,
   "metadata": {},
   "outputs": [
    {
     "data": {
      "text/html": [
       "<div>\n",
       "<style scoped>\n",
       "    .dataframe tbody tr th:only-of-type {\n",
       "        vertical-align: middle;\n",
       "    }\n",
       "\n",
       "    .dataframe tbody tr th {\n",
       "        vertical-align: top;\n",
       "    }\n",
       "\n",
       "    .dataframe thead th {\n",
       "        text-align: right;\n",
       "    }\n",
       "</style>\n",
       "<table border=\"1\" class=\"dataframe\">\n",
       "  <thead>\n",
       "    <tr style=\"text-align: right;\">\n",
       "      <th></th>\n",
       "      <th>sentence</th>\n",
       "      <th>intent</th>\n",
       "      <th>new_sentence</th>\n",
       "      <th>sentence_len</th>\n",
       "      <th>processed_sentence</th>\n",
       "    </tr>\n",
       "  </thead>\n",
       "  <tbody>\n",
       "    <tr>\n",
       "      <th>0</th>\n",
       "      <td>what expression would i use to say i love you ...</td>\n",
       "      <td>translate</td>\n",
       "      <td>what expression would i use to say i love you ...</td>\n",
       "      <td>15</td>\n",
       "      <td>expression use love italian</td>\n",
       "    </tr>\n",
       "    <tr>\n",
       "      <th>1</th>\n",
       "      <td>can you tell me how to say 'i do not speak muc...</td>\n",
       "      <td>translate</td>\n",
       "      <td>can you tell me how to say i do not speak much...</td>\n",
       "      <td>15</td>\n",
       "      <td>tell speak spanish spanish</td>\n",
       "    </tr>\n",
       "    <tr>\n",
       "      <th>2</th>\n",
       "      <td>what is the equivalent of, 'life is good' in f...</td>\n",
       "      <td>translate</td>\n",
       "      <td>what is the equivalent of life is good in french</td>\n",
       "      <td>10</td>\n",
       "      <td>equivalent life good french</td>\n",
       "    </tr>\n",
       "    <tr>\n",
       "      <th>3</th>\n",
       "      <td>tell me how to say, 'it is a beautiful morning...</td>\n",
       "      <td>translate</td>\n",
       "      <td>tell me how to say it is a beautiful morning i...</td>\n",
       "      <td>12</td>\n",
       "      <td>tell beautiful morning italian</td>\n",
       "    </tr>\n",
       "    <tr>\n",
       "      <th>4</th>\n",
       "      <td>if i were mongolian, how would i say that i am...</td>\n",
       "      <td>translate</td>\n",
       "      <td>if i were mongolian how would i say that i am ...</td>\n",
       "      <td>13</td>\n",
       "      <td>mongolian tourist</td>\n",
       "    </tr>\n",
       "    <tr>\n",
       "      <th>...</th>\n",
       "      <td>...</td>\n",
       "      <td>...</td>\n",
       "      <td>...</td>\n",
       "      <td>...</td>\n",
       "      <td>...</td>\n",
       "    </tr>\n",
       "    <tr>\n",
       "      <th>14995</th>\n",
       "      <td>can you explain why my card was declined</td>\n",
       "      <td>card_declined</td>\n",
       "      <td>can you explain why my card was declined</td>\n",
       "      <td>8</td>\n",
       "      <td>explain card decline</td>\n",
       "    </tr>\n",
       "    <tr>\n",
       "      <th>14996</th>\n",
       "      <td>how come starbucks declined my card when i tri...</td>\n",
       "      <td>card_declined</td>\n",
       "      <td>how come starbucks declined my card when i tri...</td>\n",
       "      <td>14</td>\n",
       "      <td>come starbuck decline card try use pay</td>\n",
       "    </tr>\n",
       "    <tr>\n",
       "      <th>14997</th>\n",
       "      <td>how come my card was not accepted yesterday</td>\n",
       "      <td>card_declined</td>\n",
       "      <td>how come my card was not accepted yesterday</td>\n",
       "      <td>8</td>\n",
       "      <td>come card accept yesterday</td>\n",
       "    </tr>\n",
       "    <tr>\n",
       "      <th>14998</th>\n",
       "      <td>find out what happened to make my card get dec...</td>\n",
       "      <td>card_declined</td>\n",
       "      <td>find out what happened to make my card get dec...</td>\n",
       "      <td>11</td>\n",
       "      <td>find happen card decline yesterday</td>\n",
       "    </tr>\n",
       "    <tr>\n",
       "      <th>14999</th>\n",
       "      <td>why was my card declined at safeway</td>\n",
       "      <td>card_declined</td>\n",
       "      <td>why was my card declined at safeway</td>\n",
       "      <td>7</td>\n",
       "      <td>card decline safeway</td>\n",
       "    </tr>\n",
       "  </tbody>\n",
       "</table>\n",
       "<p>15000 rows × 5 columns</p>\n",
       "</div>"
      ],
      "text/plain": [
       "                                                sentence         intent  \\\n",
       "0      what expression would i use to say i love you ...      translate   \n",
       "1      can you tell me how to say 'i do not speak muc...      translate   \n",
       "2      what is the equivalent of, 'life is good' in f...      translate   \n",
       "3      tell me how to say, 'it is a beautiful morning...      translate   \n",
       "4      if i were mongolian, how would i say that i am...      translate   \n",
       "...                                                  ...            ...   \n",
       "14995           can you explain why my card was declined  card_declined   \n",
       "14996  how come starbucks declined my card when i tri...  card_declined   \n",
       "14997        how come my card was not accepted yesterday  card_declined   \n",
       "14998  find out what happened to make my card get dec...  card_declined   \n",
       "14999                why was my card declined at safeway  card_declined   \n",
       "\n",
       "                                            new_sentence  sentence_len  \\\n",
       "0      what expression would i use to say i love you ...            15   \n",
       "1      can you tell me how to say i do not speak much...            15   \n",
       "2       what is the equivalent of life is good in french            10   \n",
       "3      tell me how to say it is a beautiful morning i...            12   \n",
       "4      if i were mongolian how would i say that i am ...            13   \n",
       "...                                                  ...           ...   \n",
       "14995           can you explain why my card was declined             8   \n",
       "14996  how come starbucks declined my card when i tri...            14   \n",
       "14997        how come my card was not accepted yesterday             8   \n",
       "14998  find out what happened to make my card get dec...            11   \n",
       "14999                why was my card declined at safeway             7   \n",
       "\n",
       "                           processed_sentence  \n",
       "0                 expression use love italian  \n",
       "1                  tell speak spanish spanish  \n",
       "2                 equivalent life good french  \n",
       "3              tell beautiful morning italian  \n",
       "4                           mongolian tourist  \n",
       "...                                       ...  \n",
       "14995                    explain card decline  \n",
       "14996  come starbuck decline card try use pay  \n",
       "14997              come card accept yesterday  \n",
       "14998      find happen card decline yesterday  \n",
       "14999                    card decline safeway  \n",
       "\n",
       "[15000 rows x 5 columns]"
      ]
     },
     "execution_count": 17,
     "metadata": {},
     "output_type": "execute_result"
    }
   ],
   "source": [
    "train_df_oos = train_df[train_df['intent'] == 'oos']\n",
    "train_df = train_df.loc[train_df['intent'] != 'oos']\n",
    "eval_df_oos = val_df[val_df['intent'] == 'oos']\n",
    "val_df = val_df.loc[val_df['intent'] != 'oos']\n",
    "train_df"
   ]
  },
  {
   "cell_type": "markdown",
   "metadata": {
    "id": "9RF14CPX2cxu"
   },
   "source": [
    "## 3) Topic modeling:"
   ]
  },
  {
   "cell_type": "markdown",
   "metadata": {},
   "source": [
    "1) Avec sentence, crée la matrice TF-IDF sans stop_word"
   ]
  },
  {
   "cell_type": "code",
   "execution_count": 19,
   "metadata": {
    "id": "hl49XPuX2dS7"
   },
   "outputs": [
    {
     "data": {
      "text/plain": [
       "array([[0., 0., 0., ..., 0., 0., 0.],\n",
       "       [0., 0., 0., ..., 0., 0., 0.],\n",
       "       [0., 0., 0., ..., 0., 0., 0.],\n",
       "       ...,\n",
       "       [0., 0., 0., ..., 0., 0., 0.],\n",
       "       [0., 0., 0., ..., 0., 0., 0.],\n",
       "       [0., 0., 0., ..., 0., 0., 0.]])"
      ]
     },
     "execution_count": 19,
     "metadata": {},
     "output_type": "execute_result"
    }
   ],
   "source": [
    "#supprime ponctuation\n",
    "def remove_punctuation(text):\n",
    "    return text.translate(str.maketrans('', '', string.punctuation))\n",
    "vectorizer = TfidfVectorizer(stop_words='english', preprocessor=remove_punctuation) # TFIDF\n",
    "corpus = train_df['sentence']\n",
    "vectors = vectorizer.fit_transform(corpus)\n",
    "vectors.toarray()"
   ]
  },
  {
   "cell_type": "markdown",
   "metadata": {},
   "source": [
    "2) Effectuer LSA dessus avec 20 composants"
   ]
  },
  {
   "cell_type": "code",
   "execution_count": 20,
   "metadata": {},
   "outputs": [
    {
     "data": {
      "text/html": [
       "<style>#sk-container-id-1 {\n",
       "  /* Definition of color scheme common for light and dark mode */\n",
       "  --sklearn-color-text: black;\n",
       "  --sklearn-color-line: gray;\n",
       "  /* Definition of color scheme for unfitted estimators */\n",
       "  --sklearn-color-unfitted-level-0: #fff5e6;\n",
       "  --sklearn-color-unfitted-level-1: #f6e4d2;\n",
       "  --sklearn-color-unfitted-level-2: #ffe0b3;\n",
       "  --sklearn-color-unfitted-level-3: chocolate;\n",
       "  /* Definition of color scheme for fitted estimators */\n",
       "  --sklearn-color-fitted-level-0: #f0f8ff;\n",
       "  --sklearn-color-fitted-level-1: #d4ebff;\n",
       "  --sklearn-color-fitted-level-2: #b3dbfd;\n",
       "  --sklearn-color-fitted-level-3: cornflowerblue;\n",
       "\n",
       "  /* Specific color for light theme */\n",
       "  --sklearn-color-text-on-default-background: var(--sg-text-color, var(--theme-code-foreground, var(--jp-content-font-color1, black)));\n",
       "  --sklearn-color-background: var(--sg-background-color, var(--theme-background, var(--jp-layout-color0, white)));\n",
       "  --sklearn-color-border-box: var(--sg-text-color, var(--theme-code-foreground, var(--jp-content-font-color1, black)));\n",
       "  --sklearn-color-icon: #696969;\n",
       "\n",
       "  @media (prefers-color-scheme: dark) {\n",
       "    /* Redefinition of color scheme for dark theme */\n",
       "    --sklearn-color-text-on-default-background: var(--sg-text-color, var(--theme-code-foreground, var(--jp-content-font-color1, white)));\n",
       "    --sklearn-color-background: var(--sg-background-color, var(--theme-background, var(--jp-layout-color0, #111)));\n",
       "    --sklearn-color-border-box: var(--sg-text-color, var(--theme-code-foreground, var(--jp-content-font-color1, white)));\n",
       "    --sklearn-color-icon: #878787;\n",
       "  }\n",
       "}\n",
       "\n",
       "#sk-container-id-1 {\n",
       "  color: var(--sklearn-color-text);\n",
       "}\n",
       "\n",
       "#sk-container-id-1 pre {\n",
       "  padding: 0;\n",
       "}\n",
       "\n",
       "#sk-container-id-1 input.sk-hidden--visually {\n",
       "  border: 0;\n",
       "  clip: rect(1px 1px 1px 1px);\n",
       "  clip: rect(1px, 1px, 1px, 1px);\n",
       "  height: 1px;\n",
       "  margin: -1px;\n",
       "  overflow: hidden;\n",
       "  padding: 0;\n",
       "  position: absolute;\n",
       "  width: 1px;\n",
       "}\n",
       "\n",
       "#sk-container-id-1 div.sk-dashed-wrapped {\n",
       "  border: 1px dashed var(--sklearn-color-line);\n",
       "  margin: 0 0.4em 0.5em 0.4em;\n",
       "  box-sizing: border-box;\n",
       "  padding-bottom: 0.4em;\n",
       "  background-color: var(--sklearn-color-background);\n",
       "}\n",
       "\n",
       "#sk-container-id-1 div.sk-container {\n",
       "  /* jupyter's `normalize.less` sets `[hidden] { display: none; }`\n",
       "     but bootstrap.min.css set `[hidden] { display: none !important; }`\n",
       "     so we also need the `!important` here to be able to override the\n",
       "     default hidden behavior on the sphinx rendered scikit-learn.org.\n",
       "     See: https://github.com/scikit-learn/scikit-learn/issues/21755 */\n",
       "  display: inline-block !important;\n",
       "  position: relative;\n",
       "}\n",
       "\n",
       "#sk-container-id-1 div.sk-text-repr-fallback {\n",
       "  display: none;\n",
       "}\n",
       "\n",
       "div.sk-parallel-item,\n",
       "div.sk-serial,\n",
       "div.sk-item {\n",
       "  /* draw centered vertical line to link estimators */\n",
       "  background-image: linear-gradient(var(--sklearn-color-text-on-default-background), var(--sklearn-color-text-on-default-background));\n",
       "  background-size: 2px 100%;\n",
       "  background-repeat: no-repeat;\n",
       "  background-position: center center;\n",
       "}\n",
       "\n",
       "/* Parallel-specific style estimator block */\n",
       "\n",
       "#sk-container-id-1 div.sk-parallel-item::after {\n",
       "  content: \"\";\n",
       "  width: 100%;\n",
       "  border-bottom: 2px solid var(--sklearn-color-text-on-default-background);\n",
       "  flex-grow: 1;\n",
       "}\n",
       "\n",
       "#sk-container-id-1 div.sk-parallel {\n",
       "  display: flex;\n",
       "  align-items: stretch;\n",
       "  justify-content: center;\n",
       "  background-color: var(--sklearn-color-background);\n",
       "  position: relative;\n",
       "}\n",
       "\n",
       "#sk-container-id-1 div.sk-parallel-item {\n",
       "  display: flex;\n",
       "  flex-direction: column;\n",
       "}\n",
       "\n",
       "#sk-container-id-1 div.sk-parallel-item:first-child::after {\n",
       "  align-self: flex-end;\n",
       "  width: 50%;\n",
       "}\n",
       "\n",
       "#sk-container-id-1 div.sk-parallel-item:last-child::after {\n",
       "  align-self: flex-start;\n",
       "  width: 50%;\n",
       "}\n",
       "\n",
       "#sk-container-id-1 div.sk-parallel-item:only-child::after {\n",
       "  width: 0;\n",
       "}\n",
       "\n",
       "/* Serial-specific style estimator block */\n",
       "\n",
       "#sk-container-id-1 div.sk-serial {\n",
       "  display: flex;\n",
       "  flex-direction: column;\n",
       "  align-items: center;\n",
       "  background-color: var(--sklearn-color-background);\n",
       "  padding-right: 1em;\n",
       "  padding-left: 1em;\n",
       "}\n",
       "\n",
       "\n",
       "/* Toggleable style: style used for estimator/Pipeline/ColumnTransformer box that is\n",
       "clickable and can be expanded/collapsed.\n",
       "- Pipeline and ColumnTransformer use this feature and define the default style\n",
       "- Estimators will overwrite some part of the style using the `sk-estimator` class\n",
       "*/\n",
       "\n",
       "/* Pipeline and ColumnTransformer style (default) */\n",
       "\n",
       "#sk-container-id-1 div.sk-toggleable {\n",
       "  /* Default theme specific background. It is overwritten whether we have a\n",
       "  specific estimator or a Pipeline/ColumnTransformer */\n",
       "  background-color: var(--sklearn-color-background);\n",
       "}\n",
       "\n",
       "/* Toggleable label */\n",
       "#sk-container-id-1 label.sk-toggleable__label {\n",
       "  cursor: pointer;\n",
       "  display: block;\n",
       "  width: 100%;\n",
       "  margin-bottom: 0;\n",
       "  padding: 0.5em;\n",
       "  box-sizing: border-box;\n",
       "  text-align: center;\n",
       "}\n",
       "\n",
       "#sk-container-id-1 label.sk-toggleable__label-arrow:before {\n",
       "  /* Arrow on the left of the label */\n",
       "  content: \"▸\";\n",
       "  float: left;\n",
       "  margin-right: 0.25em;\n",
       "  color: var(--sklearn-color-icon);\n",
       "}\n",
       "\n",
       "#sk-container-id-1 label.sk-toggleable__label-arrow:hover:before {\n",
       "  color: var(--sklearn-color-text);\n",
       "}\n",
       "\n",
       "/* Toggleable content - dropdown */\n",
       "\n",
       "#sk-container-id-1 div.sk-toggleable__content {\n",
       "  max-height: 0;\n",
       "  max-width: 0;\n",
       "  overflow: hidden;\n",
       "  text-align: left;\n",
       "  /* unfitted */\n",
       "  background-color: var(--sklearn-color-unfitted-level-0);\n",
       "}\n",
       "\n",
       "#sk-container-id-1 div.sk-toggleable__content.fitted {\n",
       "  /* fitted */\n",
       "  background-color: var(--sklearn-color-fitted-level-0);\n",
       "}\n",
       "\n",
       "#sk-container-id-1 div.sk-toggleable__content pre {\n",
       "  margin: 0.2em;\n",
       "  border-radius: 0.25em;\n",
       "  color: var(--sklearn-color-text);\n",
       "  /* unfitted */\n",
       "  background-color: var(--sklearn-color-unfitted-level-0);\n",
       "}\n",
       "\n",
       "#sk-container-id-1 div.sk-toggleable__content.fitted pre {\n",
       "  /* unfitted */\n",
       "  background-color: var(--sklearn-color-fitted-level-0);\n",
       "}\n",
       "\n",
       "#sk-container-id-1 input.sk-toggleable__control:checked~div.sk-toggleable__content {\n",
       "  /* Expand drop-down */\n",
       "  max-height: 200px;\n",
       "  max-width: 100%;\n",
       "  overflow: auto;\n",
       "}\n",
       "\n",
       "#sk-container-id-1 input.sk-toggleable__control:checked~label.sk-toggleable__label-arrow:before {\n",
       "  content: \"▾\";\n",
       "}\n",
       "\n",
       "/* Pipeline/ColumnTransformer-specific style */\n",
       "\n",
       "#sk-container-id-1 div.sk-label input.sk-toggleable__control:checked~label.sk-toggleable__label {\n",
       "  color: var(--sklearn-color-text);\n",
       "  background-color: var(--sklearn-color-unfitted-level-2);\n",
       "}\n",
       "\n",
       "#sk-container-id-1 div.sk-label.fitted input.sk-toggleable__control:checked~label.sk-toggleable__label {\n",
       "  background-color: var(--sklearn-color-fitted-level-2);\n",
       "}\n",
       "\n",
       "/* Estimator-specific style */\n",
       "\n",
       "/* Colorize estimator box */\n",
       "#sk-container-id-1 div.sk-estimator input.sk-toggleable__control:checked~label.sk-toggleable__label {\n",
       "  /* unfitted */\n",
       "  background-color: var(--sklearn-color-unfitted-level-2);\n",
       "}\n",
       "\n",
       "#sk-container-id-1 div.sk-estimator.fitted input.sk-toggleable__control:checked~label.sk-toggleable__label {\n",
       "  /* fitted */\n",
       "  background-color: var(--sklearn-color-fitted-level-2);\n",
       "}\n",
       "\n",
       "#sk-container-id-1 div.sk-label label.sk-toggleable__label,\n",
       "#sk-container-id-1 div.sk-label label {\n",
       "  /* The background is the default theme color */\n",
       "  color: var(--sklearn-color-text-on-default-background);\n",
       "}\n",
       "\n",
       "/* On hover, darken the color of the background */\n",
       "#sk-container-id-1 div.sk-label:hover label.sk-toggleable__label {\n",
       "  color: var(--sklearn-color-text);\n",
       "  background-color: var(--sklearn-color-unfitted-level-2);\n",
       "}\n",
       "\n",
       "/* Label box, darken color on hover, fitted */\n",
       "#sk-container-id-1 div.sk-label.fitted:hover label.sk-toggleable__label.fitted {\n",
       "  color: var(--sklearn-color-text);\n",
       "  background-color: var(--sklearn-color-fitted-level-2);\n",
       "}\n",
       "\n",
       "/* Estimator label */\n",
       "\n",
       "#sk-container-id-1 div.sk-label label {\n",
       "  font-family: monospace;\n",
       "  font-weight: bold;\n",
       "  display: inline-block;\n",
       "  line-height: 1.2em;\n",
       "}\n",
       "\n",
       "#sk-container-id-1 div.sk-label-container {\n",
       "  text-align: center;\n",
       "}\n",
       "\n",
       "/* Estimator-specific */\n",
       "#sk-container-id-1 div.sk-estimator {\n",
       "  font-family: monospace;\n",
       "  border: 1px dotted var(--sklearn-color-border-box);\n",
       "  border-radius: 0.25em;\n",
       "  box-sizing: border-box;\n",
       "  margin-bottom: 0.5em;\n",
       "  /* unfitted */\n",
       "  background-color: var(--sklearn-color-unfitted-level-0);\n",
       "}\n",
       "\n",
       "#sk-container-id-1 div.sk-estimator.fitted {\n",
       "  /* fitted */\n",
       "  background-color: var(--sklearn-color-fitted-level-0);\n",
       "}\n",
       "\n",
       "/* on hover */\n",
       "#sk-container-id-1 div.sk-estimator:hover {\n",
       "  /* unfitted */\n",
       "  background-color: var(--sklearn-color-unfitted-level-2);\n",
       "}\n",
       "\n",
       "#sk-container-id-1 div.sk-estimator.fitted:hover {\n",
       "  /* fitted */\n",
       "  background-color: var(--sklearn-color-fitted-level-2);\n",
       "}\n",
       "\n",
       "/* Specification for estimator info (e.g. \"i\" and \"?\") */\n",
       "\n",
       "/* Common style for \"i\" and \"?\" */\n",
       "\n",
       ".sk-estimator-doc-link,\n",
       "a:link.sk-estimator-doc-link,\n",
       "a:visited.sk-estimator-doc-link {\n",
       "  float: right;\n",
       "  font-size: smaller;\n",
       "  line-height: 1em;\n",
       "  font-family: monospace;\n",
       "  background-color: var(--sklearn-color-background);\n",
       "  border-radius: 1em;\n",
       "  height: 1em;\n",
       "  width: 1em;\n",
       "  text-decoration: none !important;\n",
       "  margin-left: 1ex;\n",
       "  /* unfitted */\n",
       "  border: var(--sklearn-color-unfitted-level-1) 1pt solid;\n",
       "  color: var(--sklearn-color-unfitted-level-1);\n",
       "}\n",
       "\n",
       ".sk-estimator-doc-link.fitted,\n",
       "a:link.sk-estimator-doc-link.fitted,\n",
       "a:visited.sk-estimator-doc-link.fitted {\n",
       "  /* fitted */\n",
       "  border: var(--sklearn-color-fitted-level-1) 1pt solid;\n",
       "  color: var(--sklearn-color-fitted-level-1);\n",
       "}\n",
       "\n",
       "/* On hover */\n",
       "div.sk-estimator:hover .sk-estimator-doc-link:hover,\n",
       ".sk-estimator-doc-link:hover,\n",
       "div.sk-label-container:hover .sk-estimator-doc-link:hover,\n",
       ".sk-estimator-doc-link:hover {\n",
       "  /* unfitted */\n",
       "  background-color: var(--sklearn-color-unfitted-level-3);\n",
       "  color: var(--sklearn-color-background);\n",
       "  text-decoration: none;\n",
       "}\n",
       "\n",
       "div.sk-estimator.fitted:hover .sk-estimator-doc-link.fitted:hover,\n",
       ".sk-estimator-doc-link.fitted:hover,\n",
       "div.sk-label-container:hover .sk-estimator-doc-link.fitted:hover,\n",
       ".sk-estimator-doc-link.fitted:hover {\n",
       "  /* fitted */\n",
       "  background-color: var(--sklearn-color-fitted-level-3);\n",
       "  color: var(--sklearn-color-background);\n",
       "  text-decoration: none;\n",
       "}\n",
       "\n",
       "/* Span, style for the box shown on hovering the info icon */\n",
       ".sk-estimator-doc-link span {\n",
       "  display: none;\n",
       "  z-index: 9999;\n",
       "  position: relative;\n",
       "  font-weight: normal;\n",
       "  right: .2ex;\n",
       "  padding: .5ex;\n",
       "  margin: .5ex;\n",
       "  width: min-content;\n",
       "  min-width: 20ex;\n",
       "  max-width: 50ex;\n",
       "  color: var(--sklearn-color-text);\n",
       "  box-shadow: 2pt 2pt 4pt #999;\n",
       "  /* unfitted */\n",
       "  background: var(--sklearn-color-unfitted-level-0);\n",
       "  border: .5pt solid var(--sklearn-color-unfitted-level-3);\n",
       "}\n",
       "\n",
       ".sk-estimator-doc-link.fitted span {\n",
       "  /* fitted */\n",
       "  background: var(--sklearn-color-fitted-level-0);\n",
       "  border: var(--sklearn-color-fitted-level-3);\n",
       "}\n",
       "\n",
       ".sk-estimator-doc-link:hover span {\n",
       "  display: block;\n",
       "}\n",
       "\n",
       "/* \"?\"-specific style due to the `<a>` HTML tag */\n",
       "\n",
       "#sk-container-id-1 a.estimator_doc_link {\n",
       "  float: right;\n",
       "  font-size: 1rem;\n",
       "  line-height: 1em;\n",
       "  font-family: monospace;\n",
       "  background-color: var(--sklearn-color-background);\n",
       "  border-radius: 1rem;\n",
       "  height: 1rem;\n",
       "  width: 1rem;\n",
       "  text-decoration: none;\n",
       "  /* unfitted */\n",
       "  color: var(--sklearn-color-unfitted-level-1);\n",
       "  border: var(--sklearn-color-unfitted-level-1) 1pt solid;\n",
       "}\n",
       "\n",
       "#sk-container-id-1 a.estimator_doc_link.fitted {\n",
       "  /* fitted */\n",
       "  border: var(--sklearn-color-fitted-level-1) 1pt solid;\n",
       "  color: var(--sklearn-color-fitted-level-1);\n",
       "}\n",
       "\n",
       "/* On hover */\n",
       "#sk-container-id-1 a.estimator_doc_link:hover {\n",
       "  /* unfitted */\n",
       "  background-color: var(--sklearn-color-unfitted-level-3);\n",
       "  color: var(--sklearn-color-background);\n",
       "  text-decoration: none;\n",
       "}\n",
       "\n",
       "#sk-container-id-1 a.estimator_doc_link.fitted:hover {\n",
       "  /* fitted */\n",
       "  background-color: var(--sklearn-color-fitted-level-3);\n",
       "}\n",
       "</style><div id=\"sk-container-id-1\" class=\"sk-top-container\"><div class=\"sk-text-repr-fallback\"><pre>TruncatedSVD(n_components=20)</pre><b>In a Jupyter environment, please rerun this cell to show the HTML representation or trust the notebook. <br />On GitHub, the HTML representation is unable to render, please try loading this page with nbviewer.org.</b></div><div class=\"sk-container\" hidden><div class=\"sk-item\"><div class=\"sk-estimator fitted sk-toggleable\"><input class=\"sk-toggleable__control sk-hidden--visually\" id=\"sk-estimator-id-1\" type=\"checkbox\" checked><label for=\"sk-estimator-id-1\" class=\"sk-toggleable__label fitted sk-toggleable__label-arrow fitted\">&nbsp;&nbsp;TruncatedSVD<a class=\"sk-estimator-doc-link fitted\" rel=\"noreferrer\" target=\"_blank\" href=\"https://scikit-learn.org/1.5/modules/generated/sklearn.decomposition.TruncatedSVD.html\">?<span>Documentation for TruncatedSVD</span></a><span class=\"sk-estimator-doc-link fitted\">i<span>Fitted</span></span></label><div class=\"sk-toggleable__content fitted\"><pre>TruncatedSVD(n_components=20)</pre></div> </div></div></div></div>"
      ],
      "text/plain": [
       "TruncatedSVD(n_components=20)"
      ]
     },
     "execution_count": 20,
     "metadata": {},
     "output_type": "execute_result"
    }
   ],
   "source": [
    "from sklearn.decomposition import TruncatedSVD\n",
    "\n",
    "n_components = 20\n",
    "lsa = TruncatedSVD(n_components=n_components)\n",
    "lsa_tdm = lsa.fit_transform(vectors)\n",
    "lsa"
   ]
  },
  {
   "cell_type": "markdown",
   "metadata": {},
   "source": [
    "3) Afficher les sujets obtenus (5 premiers mots aves poids)"
   ]
  },
  {
   "cell_type": "code",
   "execution_count": 21,
   "metadata": {},
   "outputs": [
    {
     "name": "stdout",
     "output_type": "stream",
     "text": [
      "Sujet 0 :\n",
      "card: 0.4614361675465942\n",
      "credit: 0.4102674575120848\n",
      "need: 0.35325219185029455\n",
      "know: 0.2939379615930631\n",
      "tell: 0.2809803878673435\n",
      "\n",
      "Sujet 1 :\n",
      "credit: 0.4169654525999911\n",
      "card: 0.41372064358989996\n",
      "score: 0.130688996729607\n",
      "limit: 0.13053555896115102\n",
      "apr: 0.07445505799986699\n",
      "\n",
      "Sujet 2 :\n",
      "tell: 0.8525676805913511\n",
      "list: 0.23754379807970039\n",
      "shopping: 0.14509457034989193\n",
      "whats: 0.06334029714385422\n",
      "joke: 0.04890229867743266\n",
      "\n",
      "Sujet 3 :\n",
      "change: 0.4964431277024175\n",
      "oil: 0.40912935644700715\n",
      "tell: 0.18176432770970308\n",
      "car: 0.17104697577451136\n",
      "credit: 0.10988319954129458\n",
      "\n",
      "Sujet 4 :\n",
      "list: 0.6234401902800212\n",
      "shopping: 0.41698631724346724\n",
      "change: 0.2505489171264792\n",
      "oil: 0.20161562988531107\n",
      "credit: 0.10956959632211177\n",
      "\n",
      "Sujet 5 :\n",
      "account: 0.5057760557629657\n",
      "bank: 0.29897571898008624\n",
      "whats: 0.2503932335520421\n",
      "change: 0.19479773653032592\n",
      "like: 0.1882926014533997\n",
      "\n",
      "Sujet 6 :\n",
      "know: 0.49019250405839143\n",
      "credit: 0.195603049789556\n",
      "oil: 0.15618930503511824\n",
      "score: 0.1458307108193769\n",
      "let: 0.13889585547668465\n",
      "\n",
      "Sujet 7 :\n",
      "whats: 0.6067565386303154\n",
      "car: 0.33799441658642837\n",
      "time: 0.3154861764477922\n",
      "gas: 0.18384028401857672\n",
      "card: 0.1427893042031158\n",
      "\n",
      "Sujet 8 :\n",
      "car: 0.4179109329053674\n",
      "credit: 0.4129595953174764\n",
      "score: 0.3530026945191546\n",
      "gas: 0.24938234685811125\n",
      "limit: 0.1303421657692339\n",
      "\n",
      "Sujet 9 :\n",
      "car: 0.425995363662217\n",
      "gas: 0.23161465595446043\n",
      "card: 0.21205189053166518\n",
      "does: 0.19580183653312788\n",
      "account: 0.1572601882250288\n",
      "\n",
      "Sujet 10 :\n",
      "set: 0.46293665938828604\n",
      "want: 0.39004908748710077\n",
      "like: 0.3149657908077704\n",
      "phone: 0.2540162166253533\n",
      "timer: 0.18628645067250685\n",
      "\n",
      "Sujet 11 :\n",
      "time: 0.5071362727081105\n",
      "vacation: 0.3667779551129188\n",
      "days: 0.24706624848709144\n",
      "request: 0.16357684795677005\n",
      "account: 0.10081334149609363\n",
      "\n",
      "Sujet 12 :\n",
      "phone: 0.6479825290728677\n",
      "help: 0.24402945924970734\n",
      "want: 0.16496842842441298\n",
      "time: 0.1313596660398875\n",
      "vacation: 0.11625076842716095\n",
      "\n",
      "Sujet 13 :\n",
      "like: 0.5481557667107295\n",
      "phone: 0.29824668746323124\n",
      "id: 0.22759077636248828\n",
      "time: 0.07616403685620801\n",
      "help: 0.06753872624203082\n",
      "\n",
      "Sujet 14 :\n",
      "time: 0.590594424028259\n",
      "song: 0.2723658247108481\n",
      "new: 0.12007600980953931\n",
      "playlist: 0.09456226194993458\n",
      "play: 0.07673744590930665\n",
      "\n",
      "Sujet 15 :\n",
      "song: 0.42571423762137417\n",
      "like: 0.38606976745915655\n",
      "vacation: 0.2636293927728276\n",
      "days: 0.2043666907427788\n",
      "new: 0.167848666733656\n",
      "\n",
      "Sujet 16 :\n",
      "want: 0.5085808645267388\n",
      "new: 0.19566998761191265\n",
      "pay: 0.1844914106958489\n",
      "like: 0.18075759145017\n",
      "whats: 0.1759802666499054\n",
      "\n",
      "Sujet 17 :\n",
      "pay: 0.5917498358750317\n",
      "taxes: 0.21632937796414542\n",
      "visa: 0.15934117429831374\n",
      "time: 0.11478454569812162\n",
      "like: 0.11199568023122199\n",
      "\n",
      "Sujet 18 :\n",
      "date: 0.6307306470153264\n",
      "today: 0.2920093970442368\n",
      "day: 0.19072140327802342\n",
      "order: 0.17191760508154783\n",
      "pay: 0.1701559157334192\n",
      "\n",
      "Sujet 19 :\n",
      "pay: 0.3942166372028096\n",
      "tires: 0.3117095083979126\n",
      "help: 0.2209825211647587\n",
      "new: 0.18316238234924181\n",
      "taxes: 0.13976022318048678\n",
      "\n"
     ]
    }
   ],
   "source": [
    "for sujet, component in enumerate(lsa.components_):\n",
    "    print('Sujet', sujet, ':')\n",
    "    top_words = [(vectorizer.get_feature_names_out()[idx], component[idx]) for idx in np.argsort(-component)[:5]]\n",
    "    for word, weight in top_words:\n",
    "        print(f\"{word}: {weight}\")\n",
    "    print()"
   ]
  },
  {
   "cell_type": "markdown",
   "metadata": {},
   "source": [
    "4) Afficher toutes les intentions distinctes de train_df"
   ]
  },
  {
   "cell_type": "code",
   "execution_count": 22,
   "metadata": {},
   "outputs": [
    {
     "name": "stdout",
     "output_type": "stream",
     "text": [
      "translate\n",
      "transfer\n",
      "timer\n",
      "definition\n",
      "meaning_of_life\n",
      "insurance_change\n",
      "find_phone\n",
      "travel_alert\n",
      "pto_request\n",
      "improve_credit_score\n",
      "fun_fact\n",
      "change_language\n",
      "payday\n",
      "replacement_card_duration\n",
      "time\n",
      "application_status\n",
      "flight_status\n",
      "flip_coin\n",
      "change_user_name\n",
      "where_are_you_from\n",
      "shopping_list_update\n",
      "what_can_i_ask_you\n",
      "maybe\n",
      "oil_change_how\n",
      "restaurant_reservation\n",
      "balance\n",
      "confirm_reservation\n",
      "freeze_account\n",
      "rollover_401k\n",
      "who_made_you\n",
      "distance\n",
      "user_name\n",
      "timezone\n",
      "next_song\n",
      "transactions\n",
      "restaurant_suggestion\n",
      "rewards_balance\n",
      "pay_bill\n",
      "spending_history\n",
      "pto_request_status\n",
      "credit_score\n",
      "new_card\n",
      "lost_luggage\n",
      "repeat\n",
      "mpg\n",
      "oil_change_when\n",
      "yes\n",
      "travel_suggestion\n",
      "insurance\n",
      "todo_list_update\n",
      "reminder\n",
      "change_speed\n",
      "tire_pressure\n",
      "no\n",
      "apr\n",
      "nutrition_info\n",
      "calendar\n",
      "uber\n",
      "calculator\n",
      "date\n",
      "carry_on\n",
      "pto_used\n",
      "schedule_maintenance\n",
      "travel_notification\n",
      "sync_device\n",
      "thank_you\n",
      "roll_dice\n",
      "food_last\n",
      "cook_time\n",
      "reminder_update\n",
      "report_lost_card\n",
      "ingredient_substitution\n",
      "make_call\n",
      "alarm\n",
      "todo_list\n",
      "change_accent\n",
      "w2\n",
      "bill_due\n",
      "calories\n",
      "damaged_card\n",
      "restaurant_reviews\n",
      "routing\n",
      "do_you_have_pets\n",
      "schedule_meeting\n",
      "gas_type\n",
      "plug_type\n",
      "tire_change\n",
      "exchange_rate\n",
      "next_holiday\n",
      "change_volume\n",
      "who_do_you_work_for\n",
      "credit_limit\n",
      "how_busy\n",
      "accept_reservations\n",
      "order_status\n",
      "pin_change\n",
      "goodbye\n",
      "account_blocked\n",
      "what_song\n",
      "international_fees\n",
      "last_maintenance\n",
      "meeting_schedule\n",
      "ingredients_list\n",
      "report_fraud\n",
      "measurement_conversion\n",
      "smart_home\n",
      "book_hotel\n",
      "current_location\n",
      "weather\n",
      "taxes\n",
      "min_payment\n",
      "whisper_mode\n",
      "cancel\n",
      "international_visa\n",
      "vaccines\n",
      "pto_balance\n",
      "directions\n",
      "spelling\n",
      "greeting\n",
      "reset_settings\n",
      "what_is_your_name\n",
      "direct_deposit\n",
      "interest_rate\n",
      "credit_limit_change\n",
      "what_are_your_hobbies\n",
      "book_flight\n",
      "shopping_list\n",
      "text\n",
      "bill_balance\n",
      "share_location\n",
      "redeem_rewards\n",
      "play_music\n",
      "calendar_update\n",
      "are_you_a_bot\n",
      "gas\n",
      "expiration_date\n",
      "update_playlist\n",
      "cancel_reservation\n",
      "tell_joke\n",
      "change_ai_name\n",
      "how_old_are_you\n",
      "car_rental\n",
      "jump_start\n",
      "meal_suggestion\n",
      "recipe\n",
      "income\n",
      "order\n",
      "traffic\n",
      "order_checks\n",
      "card_declined\n"
     ]
    }
   ],
   "source": [
    "for intent in train_df['intent'].unique():\n",
    "    print(intent)"
   ]
  },
  {
   "cell_type": "markdown",
   "metadata": {},
   "source": [
    "5) Voyez-vous une relation entre les sujets extraits automatiquement et les intentions réelles ?"
   ]
  },
  {
   "cell_type": "markdown",
   "metadata": {},
   "source": [
    "    Oui, on contate une relation entre les sujets extraits et les intentions réelles. Par exemple, le sujet 1 nous parle de carte de crédit, cela nous fait penser à des transferts d'argent. On retrouve aussi le mot find dans un des sujets et l'une des intentions est find_phone."
   ]
  },
  {
   "cell_type": "markdown",
   "metadata": {},
   "source": [
    "6) Trouver les sujets des train_df_oos et eval_df_oos"
   ]
  },
  {
   "cell_type": "code",
   "execution_count": 24,
   "metadata": {},
   "outputs": [
    {
     "name": "stdout",
     "output_type": "stream",
     "text": [
      "Sujets obtenus à partir des phrases OOS:\n",
      "Sujet 1: does, start, mean, marketing, alpha\n",
      "Sujet 2: start, marketing, character, saas, did\n",
      "Sujet 3: marketing, saas, whats, involved, united\n",
      "Sujet 4: year, radiohead, released, star, shawshank\n",
      "Sujet 5: did, start, game, football, mls\n",
      "Sujet 6: game, football, college, overtime, atari\n",
      "Sujet 7: created, nintendo, toyota, direct, year\n",
      "Sujet 8: born, segovia, kobe, bryant, denver\n",
      "Sujet 9: males, alpha, year, want, animals\n",
      "Sujet 10: bulls, chicago, coach, players, males\n",
      "Sujet 11: whats, did, live, best, movies\n",
      "Sujet 12: evolution, theory, considered, stage, formulated\n",
      "Sujet 13: long, start, winter, wire, transfers\n",
      "Sujet 14: long, winter, share, wire, transfers\n",
      "Sujet 15: share, aapl, expensive, apple, whats\n",
      "Sujet 16: best, current, share, war, piano\n",
      "Sujet 17: current, movies, trend, market, captain\n",
      "Sujet 18: college, war, overtime, completing, benefits\n",
      "Sujet 19: radiohead, change, notable, current, address\n",
      "Sujet 20: people, change, notable, taiwan, prefer\n"
     ]
    }
   ],
   "source": [
    "# concat les phrases OOS\n",
    "oos = pd.concat([train_df_oos, eval_df_oos])\n",
    "\n",
    "def remove_punctuation(text):\n",
    "    return text.translate(str.maketrans('', '', string.punctuation))\n",
    "vectorizer = TfidfVectorizer(stop_words='english', preprocessor=remove_punctuation) # TFIDF\n",
    "corpus = train_df_oos['sentence']\n",
    "vectors = vectorizer.fit_transform(corpus)\n",
    "vectors.toarray()\n",
    "\n",
    "#LSA\n",
    "n_components = 20\n",
    "lsa_oss = TruncatedSVD(n_components=n_components)\n",
    "lsa_oos_vectors = lsa_oss.fit_transform(vectors)\n",
    "\n",
    "# Affichage des sujets obtenus\n",
    "print(\"Sujets obtenus à partir des phrases OOS:\")\n",
    "for i, component in enumerate(lsa_oss.components_):\n",
    "    top_words_idx = np.argsort(-component)[:5]\n",
    "    top_words = [vectorizer.get_feature_names_out()[idx] for idx in top_words_idx]\n",
    "    print(f\"Sujet {i+1}: {', '.join(top_words)}\")\n"
   ]
  },
  {
   "cell_type": "markdown",
   "metadata": {},
   "source": [
    "Oui, il semblerait que ces sujets soient différents des intentions existantes"
   ]
  },
  {
   "cell_type": "markdown",
   "metadata": {
    "id": "MV9h0y3-2dle"
   },
   "source": [
    "## 4) Classification:"
   ]
  },
  {
   "cell_type": "markdown",
   "metadata": {},
   "source": [
    "1) Constuire Bag Of Word pour train et eval"
   ]
  },
  {
   "cell_type": "code",
   "execution_count": 25,
   "metadata": {
    "id": "AIW-nhs72eBq"
   },
   "outputs": [
    {
     "name": "stdout",
     "output_type": "stream",
     "text": [
      "{'overdraft': 166, 'fee': 100, 'bank': 25, 'exponents': 95, 'preformed': 185, 'multiplication': 154, 'order': 163, 'operations': 162, 'size': 215, 'wipers': 268, 'does': 82, 'car': 44, 'dipstick': 78, 'share': 210, 'aapl': 1, 'glue': 109, 'headlines': 112, 'area': 18, 'largest': 129, 'state': 226, 'current': 72, 'market': 145, 'trend': 251, 'popular': 182, 'airline': 7, 'formula': 105, 'circumference': 51, 'circle': 50, 'ways': 262, 'reduce': 190, 'spending': 219, 'time': 241, 'louvre': 140, 'open': 161, 'local': 137, 'stations': 228, 'covering': 68, 'moral': 151, 'march': 144, 'raleigh': 188, 'februaryu': 99, 'planets': 176, 'discovered': 80, 'change': 46, 'billing': 31, 'address': 5, 'online': 160, 'line': 134, 'credit': 70, 'remove': 194, 'coffee': 56, 'blemish': 32, 'expensive': 93, 'apple': 17, 'cruise': 71, 'control': 67, 'kia': 126, 'sportage': 220, '2010': 0, 'sides': 214, 'hexagon': 114, 'fast': 98, 'airplane': 8, 'travel': 248, 'worth': 272, 'investing': 119, 'target': 235, 'need': 156, 'speak': 217, 'customer': 73, 'service': 208, 'regarding': 191, 'flight': 103, 'long': 138, 'wire': 269, 'transfers': 247, 'deals': 74, 'amazon': 12, 'city': 52, 'super': 233, 'bowl': 36, 'trees': 249, 'color': 59, 'autumn': 22, 'people': 169, 'prefer': 184, 'summer': 232, 'fall': 96, 'winter': 267, 'ben': 27, 'franklins': 107, 'notable': 159, 'accomplishments': 4, 'john': 123, 'denver': 75, 'born': 35, 'did': 76, 'abraham': 3, 'lincoln': 133, 'live': 136, 'kobe': 127, 'bryant': 38, 'whos': 265, 'toledos': 243, 'starting': 225, 'point': 180, 'guard': 111, 'game': 108, 'players': 179, 'chicago': 48, 'bulls': 39, 'coach': 55, 'utah': 257, 'jazz': 122, 'play': 177, 'nations': 155, 'involved': 120, 'chinese': 49, 'trade': 245, 'war': 260, 'years': 274, 'korea': 128, 'theory': 238, 'evolution': 91, 'considered': 66, 'formulated': 106, 'relativity': 192, 'stage': 221, 'personality': 171, 'type': 252, 'compatible': 64, 'infjs': 118, 'mean': 148, 'whats': 263, 'dominant': 83, 'scale': 204, 'bluegrass': 34, 'year': 273, 'saxaphone': 203, 'played': 178, 'piano': 173, 'best': 29, 'classical': 54, 'k12': 125, 'education': 87, 'required': 195, 'outside': 165, 'united': 256, 'states': 227, 'benefits': 28, 'completing': 65, 'college': 58, 'able': 2, 'answer': 15, 'algebra': 9, 'equations': 90, 'help': 113, 'study': 231, 'history': 116, 'exam': 92, 'points': 181, 'lebron': 131, 'james': 121, 'averaging': 24, 'season': 206, 'team': 236, 'eli': 88, 'mannign': 143, 'dwight': 84, 'howard': 117, 'shooting': 213, 'average': 23, 'list': 135, 'tiger': 240, 'woods': 270, 'stats': 229, 'runtime': 201, 'lord': 139, 'rings': 199, 'movies': 153, 'combined': 60, 'character': 47, 'famous': 97, 'titanic': 242, 'oscars': 164, 'star': 222, 'wars': 261, 'films': 101, 'win': 266, 'shawshank': 211, 'redemption': 189, 'released': 193, 'marvel': 147, 'appeared': 16, 'whens': 264, 'movie': 152, 'starring': 223, 'thor': 239, 'set': 209, 'come': 61, 'capcom': 41, 'justice': 124, 'league': 130, 'coming': 62, 'tell': 237, 'nfl': 157, 'explain': 94, 'catch': 45, 'rule': 200, 'overtime': 167, 'football': 104, 'mls': 149, 'start': 224, 'price': 186, 'smash': 216, 'bros': 37, 'ultimate': 255, 'right': 198, 'highest': 115, 'earning': 86, 'atari': 20, 'nintendo': 158, 'direct': 79, 'created': 69, 'capital': 42, 'pakistan': 168, 'population': 183, 'taiwan': 234, 'picassos': 174, 'works': 271, 'van': 258, 'goghs': 110, 'pieces': 175, 'art': 19, 'camus': 40, 'die': 77, 'money': 150, 'radiohead': 187, 'earn': 85, 'biggest': 30, 'saas': 202, 'marketing': 146, 'company': 63, 'firm': 102, 'restaurant': 196, 'segovia': 207, 'rhineland': 197, 'scariest': 205, 'trek': 250, 'captain': 43, 'ship': 212, 'toyota': 244, 'alumni': 11, 'ucsd': 254, 'students': 230, 'attend': 21, 'ucsb': 253, 'classes': 53, 'aerospace': 6, 'engineer': 89, 'percentage': 170, 'species': 218, 'display': 81, 'cold': 57, 'blooded': 33, 'traits': 246, 'alpha': 10, 'male': 141, 'animals': 14, 'males': 142, 'want': 259, 'battery': 26, 'life': 132, 'android': 13, 'phone': 172}\n",
      "[[0 0 0 ... 0 0 0]\n",
      " [0 0 0 ... 0 0 0]\n",
      " [0 0 0 ... 0 0 0]\n",
      " ...\n",
      " [0 0 0 ... 0 0 0]\n",
      " [0 0 0 ... 0 0 0]\n",
      " [0 0 0 ... 0 0 0]]\n",
      "[[0 0 0 ... 0 0 0]\n",
      " [0 0 0 ... 0 0 0]\n",
      " [0 0 0 ... 0 0 0]\n",
      " ...\n",
      " [0 0 0 ... 0 0 0]\n",
      " [0 0 0 ... 0 0 0]\n",
      " [0 0 0 ... 0 0 0]]\n",
      "[[0 0 0 ... 0 0 0]\n",
      " [0 0 0 ... 0 0 0]\n",
      " [0 0 0 ... 0 0 0]\n",
      " ...\n",
      " [0 0 0 ... 0 0 0]\n",
      " [0 0 0 ... 0 0 0]\n",
      " [0 0 0 ... 0 0 0]]\n",
      "[[0 0 0 ... 0 0 0]\n",
      " [0 0 0 ... 0 0 0]\n",
      " [0 0 0 ... 0 0 0]\n",
      " ...\n",
      " [0 0 0 ... 0 0 0]\n",
      " [0 0 0 ... 0 0 0]\n",
      " [0 0 0 ... 0 0 0]]\n"
     ]
    }
   ],
   "source": [
    "from sklearn.feature_extraction.text import CountVectorizer\n",
    "vectorizer1 = CountVectorizer(stop_words='english')\n",
    "vectorizer2 = CountVectorizer(stop_words='english')\n",
    "vectors_train_sentence = vectorizer1.fit_transform(train_df['sentence'])\n",
    "vectors_train_processed = vectorizer2.fit_transform(train_df['processed_sentence'])\n",
    "vectors_eval_sentence = vectorizer1.transform(val_df['sentence'])\n",
    "vectors_eval_processed = vectorizer2.transform(val_df['processed_sentence'])\n",
    "print(vectorizer.vocabulary_)\n",
    "\n",
    "print(vectors_train_sentence.toarray()) # Sac de mot pour train['setence']\n",
    "print(vectors_train_processed.toarray())\n",
    "print(vectors_eval_sentence.toarray())\n",
    "print(vectors_eval_processed.toarray())"
   ]
  },
  {
   "cell_type": "markdown",
   "metadata": {},
   "source": [
    "2)  Crée 2 Logistic Regression pour chaque matrice de train"
   ]
  },
  {
   "cell_type": "code",
   "execution_count": 26,
   "metadata": {},
   "outputs": [
    {
     "data": {
      "text/html": [
       "<style>#sk-container-id-2 {\n",
       "  /* Definition of color scheme common for light and dark mode */\n",
       "  --sklearn-color-text: black;\n",
       "  --sklearn-color-line: gray;\n",
       "  /* Definition of color scheme for unfitted estimators */\n",
       "  --sklearn-color-unfitted-level-0: #fff5e6;\n",
       "  --sklearn-color-unfitted-level-1: #f6e4d2;\n",
       "  --sklearn-color-unfitted-level-2: #ffe0b3;\n",
       "  --sklearn-color-unfitted-level-3: chocolate;\n",
       "  /* Definition of color scheme for fitted estimators */\n",
       "  --sklearn-color-fitted-level-0: #f0f8ff;\n",
       "  --sklearn-color-fitted-level-1: #d4ebff;\n",
       "  --sklearn-color-fitted-level-2: #b3dbfd;\n",
       "  --sklearn-color-fitted-level-3: cornflowerblue;\n",
       "\n",
       "  /* Specific color for light theme */\n",
       "  --sklearn-color-text-on-default-background: var(--sg-text-color, var(--theme-code-foreground, var(--jp-content-font-color1, black)));\n",
       "  --sklearn-color-background: var(--sg-background-color, var(--theme-background, var(--jp-layout-color0, white)));\n",
       "  --sklearn-color-border-box: var(--sg-text-color, var(--theme-code-foreground, var(--jp-content-font-color1, black)));\n",
       "  --sklearn-color-icon: #696969;\n",
       "\n",
       "  @media (prefers-color-scheme: dark) {\n",
       "    /* Redefinition of color scheme for dark theme */\n",
       "    --sklearn-color-text-on-default-background: var(--sg-text-color, var(--theme-code-foreground, var(--jp-content-font-color1, white)));\n",
       "    --sklearn-color-background: var(--sg-background-color, var(--theme-background, var(--jp-layout-color0, #111)));\n",
       "    --sklearn-color-border-box: var(--sg-text-color, var(--theme-code-foreground, var(--jp-content-font-color1, white)));\n",
       "    --sklearn-color-icon: #878787;\n",
       "  }\n",
       "}\n",
       "\n",
       "#sk-container-id-2 {\n",
       "  color: var(--sklearn-color-text);\n",
       "}\n",
       "\n",
       "#sk-container-id-2 pre {\n",
       "  padding: 0;\n",
       "}\n",
       "\n",
       "#sk-container-id-2 input.sk-hidden--visually {\n",
       "  border: 0;\n",
       "  clip: rect(1px 1px 1px 1px);\n",
       "  clip: rect(1px, 1px, 1px, 1px);\n",
       "  height: 1px;\n",
       "  margin: -1px;\n",
       "  overflow: hidden;\n",
       "  padding: 0;\n",
       "  position: absolute;\n",
       "  width: 1px;\n",
       "}\n",
       "\n",
       "#sk-container-id-2 div.sk-dashed-wrapped {\n",
       "  border: 1px dashed var(--sklearn-color-line);\n",
       "  margin: 0 0.4em 0.5em 0.4em;\n",
       "  box-sizing: border-box;\n",
       "  padding-bottom: 0.4em;\n",
       "  background-color: var(--sklearn-color-background);\n",
       "}\n",
       "\n",
       "#sk-container-id-2 div.sk-container {\n",
       "  /* jupyter's `normalize.less` sets `[hidden] { display: none; }`\n",
       "     but bootstrap.min.css set `[hidden] { display: none !important; }`\n",
       "     so we also need the `!important` here to be able to override the\n",
       "     default hidden behavior on the sphinx rendered scikit-learn.org.\n",
       "     See: https://github.com/scikit-learn/scikit-learn/issues/21755 */\n",
       "  display: inline-block !important;\n",
       "  position: relative;\n",
       "}\n",
       "\n",
       "#sk-container-id-2 div.sk-text-repr-fallback {\n",
       "  display: none;\n",
       "}\n",
       "\n",
       "div.sk-parallel-item,\n",
       "div.sk-serial,\n",
       "div.sk-item {\n",
       "  /* draw centered vertical line to link estimators */\n",
       "  background-image: linear-gradient(var(--sklearn-color-text-on-default-background), var(--sklearn-color-text-on-default-background));\n",
       "  background-size: 2px 100%;\n",
       "  background-repeat: no-repeat;\n",
       "  background-position: center center;\n",
       "}\n",
       "\n",
       "/* Parallel-specific style estimator block */\n",
       "\n",
       "#sk-container-id-2 div.sk-parallel-item::after {\n",
       "  content: \"\";\n",
       "  width: 100%;\n",
       "  border-bottom: 2px solid var(--sklearn-color-text-on-default-background);\n",
       "  flex-grow: 1;\n",
       "}\n",
       "\n",
       "#sk-container-id-2 div.sk-parallel {\n",
       "  display: flex;\n",
       "  align-items: stretch;\n",
       "  justify-content: center;\n",
       "  background-color: var(--sklearn-color-background);\n",
       "  position: relative;\n",
       "}\n",
       "\n",
       "#sk-container-id-2 div.sk-parallel-item {\n",
       "  display: flex;\n",
       "  flex-direction: column;\n",
       "}\n",
       "\n",
       "#sk-container-id-2 div.sk-parallel-item:first-child::after {\n",
       "  align-self: flex-end;\n",
       "  width: 50%;\n",
       "}\n",
       "\n",
       "#sk-container-id-2 div.sk-parallel-item:last-child::after {\n",
       "  align-self: flex-start;\n",
       "  width: 50%;\n",
       "}\n",
       "\n",
       "#sk-container-id-2 div.sk-parallel-item:only-child::after {\n",
       "  width: 0;\n",
       "}\n",
       "\n",
       "/* Serial-specific style estimator block */\n",
       "\n",
       "#sk-container-id-2 div.sk-serial {\n",
       "  display: flex;\n",
       "  flex-direction: column;\n",
       "  align-items: center;\n",
       "  background-color: var(--sklearn-color-background);\n",
       "  padding-right: 1em;\n",
       "  padding-left: 1em;\n",
       "}\n",
       "\n",
       "\n",
       "/* Toggleable style: style used for estimator/Pipeline/ColumnTransformer box that is\n",
       "clickable and can be expanded/collapsed.\n",
       "- Pipeline and ColumnTransformer use this feature and define the default style\n",
       "- Estimators will overwrite some part of the style using the `sk-estimator` class\n",
       "*/\n",
       "\n",
       "/* Pipeline and ColumnTransformer style (default) */\n",
       "\n",
       "#sk-container-id-2 div.sk-toggleable {\n",
       "  /* Default theme specific background. It is overwritten whether we have a\n",
       "  specific estimator or a Pipeline/ColumnTransformer */\n",
       "  background-color: var(--sklearn-color-background);\n",
       "}\n",
       "\n",
       "/* Toggleable label */\n",
       "#sk-container-id-2 label.sk-toggleable__label {\n",
       "  cursor: pointer;\n",
       "  display: block;\n",
       "  width: 100%;\n",
       "  margin-bottom: 0;\n",
       "  padding: 0.5em;\n",
       "  box-sizing: border-box;\n",
       "  text-align: center;\n",
       "}\n",
       "\n",
       "#sk-container-id-2 label.sk-toggleable__label-arrow:before {\n",
       "  /* Arrow on the left of the label */\n",
       "  content: \"▸\";\n",
       "  float: left;\n",
       "  margin-right: 0.25em;\n",
       "  color: var(--sklearn-color-icon);\n",
       "}\n",
       "\n",
       "#sk-container-id-2 label.sk-toggleable__label-arrow:hover:before {\n",
       "  color: var(--sklearn-color-text);\n",
       "}\n",
       "\n",
       "/* Toggleable content - dropdown */\n",
       "\n",
       "#sk-container-id-2 div.sk-toggleable__content {\n",
       "  max-height: 0;\n",
       "  max-width: 0;\n",
       "  overflow: hidden;\n",
       "  text-align: left;\n",
       "  /* unfitted */\n",
       "  background-color: var(--sklearn-color-unfitted-level-0);\n",
       "}\n",
       "\n",
       "#sk-container-id-2 div.sk-toggleable__content.fitted {\n",
       "  /* fitted */\n",
       "  background-color: var(--sklearn-color-fitted-level-0);\n",
       "}\n",
       "\n",
       "#sk-container-id-2 div.sk-toggleable__content pre {\n",
       "  margin: 0.2em;\n",
       "  border-radius: 0.25em;\n",
       "  color: var(--sklearn-color-text);\n",
       "  /* unfitted */\n",
       "  background-color: var(--sklearn-color-unfitted-level-0);\n",
       "}\n",
       "\n",
       "#sk-container-id-2 div.sk-toggleable__content.fitted pre {\n",
       "  /* unfitted */\n",
       "  background-color: var(--sklearn-color-fitted-level-0);\n",
       "}\n",
       "\n",
       "#sk-container-id-2 input.sk-toggleable__control:checked~div.sk-toggleable__content {\n",
       "  /* Expand drop-down */\n",
       "  max-height: 200px;\n",
       "  max-width: 100%;\n",
       "  overflow: auto;\n",
       "}\n",
       "\n",
       "#sk-container-id-2 input.sk-toggleable__control:checked~label.sk-toggleable__label-arrow:before {\n",
       "  content: \"▾\";\n",
       "}\n",
       "\n",
       "/* Pipeline/ColumnTransformer-specific style */\n",
       "\n",
       "#sk-container-id-2 div.sk-label input.sk-toggleable__control:checked~label.sk-toggleable__label {\n",
       "  color: var(--sklearn-color-text);\n",
       "  background-color: var(--sklearn-color-unfitted-level-2);\n",
       "}\n",
       "\n",
       "#sk-container-id-2 div.sk-label.fitted input.sk-toggleable__control:checked~label.sk-toggleable__label {\n",
       "  background-color: var(--sklearn-color-fitted-level-2);\n",
       "}\n",
       "\n",
       "/* Estimator-specific style */\n",
       "\n",
       "/* Colorize estimator box */\n",
       "#sk-container-id-2 div.sk-estimator input.sk-toggleable__control:checked~label.sk-toggleable__label {\n",
       "  /* unfitted */\n",
       "  background-color: var(--sklearn-color-unfitted-level-2);\n",
       "}\n",
       "\n",
       "#sk-container-id-2 div.sk-estimator.fitted input.sk-toggleable__control:checked~label.sk-toggleable__label {\n",
       "  /* fitted */\n",
       "  background-color: var(--sklearn-color-fitted-level-2);\n",
       "}\n",
       "\n",
       "#sk-container-id-2 div.sk-label label.sk-toggleable__label,\n",
       "#sk-container-id-2 div.sk-label label {\n",
       "  /* The background is the default theme color */\n",
       "  color: var(--sklearn-color-text-on-default-background);\n",
       "}\n",
       "\n",
       "/* On hover, darken the color of the background */\n",
       "#sk-container-id-2 div.sk-label:hover label.sk-toggleable__label {\n",
       "  color: var(--sklearn-color-text);\n",
       "  background-color: var(--sklearn-color-unfitted-level-2);\n",
       "}\n",
       "\n",
       "/* Label box, darken color on hover, fitted */\n",
       "#sk-container-id-2 div.sk-label.fitted:hover label.sk-toggleable__label.fitted {\n",
       "  color: var(--sklearn-color-text);\n",
       "  background-color: var(--sklearn-color-fitted-level-2);\n",
       "}\n",
       "\n",
       "/* Estimator label */\n",
       "\n",
       "#sk-container-id-2 div.sk-label label {\n",
       "  font-family: monospace;\n",
       "  font-weight: bold;\n",
       "  display: inline-block;\n",
       "  line-height: 1.2em;\n",
       "}\n",
       "\n",
       "#sk-container-id-2 div.sk-label-container {\n",
       "  text-align: center;\n",
       "}\n",
       "\n",
       "/* Estimator-specific */\n",
       "#sk-container-id-2 div.sk-estimator {\n",
       "  font-family: monospace;\n",
       "  border: 1px dotted var(--sklearn-color-border-box);\n",
       "  border-radius: 0.25em;\n",
       "  box-sizing: border-box;\n",
       "  margin-bottom: 0.5em;\n",
       "  /* unfitted */\n",
       "  background-color: var(--sklearn-color-unfitted-level-0);\n",
       "}\n",
       "\n",
       "#sk-container-id-2 div.sk-estimator.fitted {\n",
       "  /* fitted */\n",
       "  background-color: var(--sklearn-color-fitted-level-0);\n",
       "}\n",
       "\n",
       "/* on hover */\n",
       "#sk-container-id-2 div.sk-estimator:hover {\n",
       "  /* unfitted */\n",
       "  background-color: var(--sklearn-color-unfitted-level-2);\n",
       "}\n",
       "\n",
       "#sk-container-id-2 div.sk-estimator.fitted:hover {\n",
       "  /* fitted */\n",
       "  background-color: var(--sklearn-color-fitted-level-2);\n",
       "}\n",
       "\n",
       "/* Specification for estimator info (e.g. \"i\" and \"?\") */\n",
       "\n",
       "/* Common style for \"i\" and \"?\" */\n",
       "\n",
       ".sk-estimator-doc-link,\n",
       "a:link.sk-estimator-doc-link,\n",
       "a:visited.sk-estimator-doc-link {\n",
       "  float: right;\n",
       "  font-size: smaller;\n",
       "  line-height: 1em;\n",
       "  font-family: monospace;\n",
       "  background-color: var(--sklearn-color-background);\n",
       "  border-radius: 1em;\n",
       "  height: 1em;\n",
       "  width: 1em;\n",
       "  text-decoration: none !important;\n",
       "  margin-left: 1ex;\n",
       "  /* unfitted */\n",
       "  border: var(--sklearn-color-unfitted-level-1) 1pt solid;\n",
       "  color: var(--sklearn-color-unfitted-level-1);\n",
       "}\n",
       "\n",
       ".sk-estimator-doc-link.fitted,\n",
       "a:link.sk-estimator-doc-link.fitted,\n",
       "a:visited.sk-estimator-doc-link.fitted {\n",
       "  /* fitted */\n",
       "  border: var(--sklearn-color-fitted-level-1) 1pt solid;\n",
       "  color: var(--sklearn-color-fitted-level-1);\n",
       "}\n",
       "\n",
       "/* On hover */\n",
       "div.sk-estimator:hover .sk-estimator-doc-link:hover,\n",
       ".sk-estimator-doc-link:hover,\n",
       "div.sk-label-container:hover .sk-estimator-doc-link:hover,\n",
       ".sk-estimator-doc-link:hover {\n",
       "  /* unfitted */\n",
       "  background-color: var(--sklearn-color-unfitted-level-3);\n",
       "  color: var(--sklearn-color-background);\n",
       "  text-decoration: none;\n",
       "}\n",
       "\n",
       "div.sk-estimator.fitted:hover .sk-estimator-doc-link.fitted:hover,\n",
       ".sk-estimator-doc-link.fitted:hover,\n",
       "div.sk-label-container:hover .sk-estimator-doc-link.fitted:hover,\n",
       ".sk-estimator-doc-link.fitted:hover {\n",
       "  /* fitted */\n",
       "  background-color: var(--sklearn-color-fitted-level-3);\n",
       "  color: var(--sklearn-color-background);\n",
       "  text-decoration: none;\n",
       "}\n",
       "\n",
       "/* Span, style for the box shown on hovering the info icon */\n",
       ".sk-estimator-doc-link span {\n",
       "  display: none;\n",
       "  z-index: 9999;\n",
       "  position: relative;\n",
       "  font-weight: normal;\n",
       "  right: .2ex;\n",
       "  padding: .5ex;\n",
       "  margin: .5ex;\n",
       "  width: min-content;\n",
       "  min-width: 20ex;\n",
       "  max-width: 50ex;\n",
       "  color: var(--sklearn-color-text);\n",
       "  box-shadow: 2pt 2pt 4pt #999;\n",
       "  /* unfitted */\n",
       "  background: var(--sklearn-color-unfitted-level-0);\n",
       "  border: .5pt solid var(--sklearn-color-unfitted-level-3);\n",
       "}\n",
       "\n",
       ".sk-estimator-doc-link.fitted span {\n",
       "  /* fitted */\n",
       "  background: var(--sklearn-color-fitted-level-0);\n",
       "  border: var(--sklearn-color-fitted-level-3);\n",
       "}\n",
       "\n",
       ".sk-estimator-doc-link:hover span {\n",
       "  display: block;\n",
       "}\n",
       "\n",
       "/* \"?\"-specific style due to the `<a>` HTML tag */\n",
       "\n",
       "#sk-container-id-2 a.estimator_doc_link {\n",
       "  float: right;\n",
       "  font-size: 1rem;\n",
       "  line-height: 1em;\n",
       "  font-family: monospace;\n",
       "  background-color: var(--sklearn-color-background);\n",
       "  border-radius: 1rem;\n",
       "  height: 1rem;\n",
       "  width: 1rem;\n",
       "  text-decoration: none;\n",
       "  /* unfitted */\n",
       "  color: var(--sklearn-color-unfitted-level-1);\n",
       "  border: var(--sklearn-color-unfitted-level-1) 1pt solid;\n",
       "}\n",
       "\n",
       "#sk-container-id-2 a.estimator_doc_link.fitted {\n",
       "  /* fitted */\n",
       "  border: var(--sklearn-color-fitted-level-1) 1pt solid;\n",
       "  color: var(--sklearn-color-fitted-level-1);\n",
       "}\n",
       "\n",
       "/* On hover */\n",
       "#sk-container-id-2 a.estimator_doc_link:hover {\n",
       "  /* unfitted */\n",
       "  background-color: var(--sklearn-color-unfitted-level-3);\n",
       "  color: var(--sklearn-color-background);\n",
       "  text-decoration: none;\n",
       "}\n",
       "\n",
       "#sk-container-id-2 a.estimator_doc_link.fitted:hover {\n",
       "  /* fitted */\n",
       "  background-color: var(--sklearn-color-fitted-level-3);\n",
       "}\n",
       "</style><div id=\"sk-container-id-2\" class=\"sk-top-container\"><div class=\"sk-text-repr-fallback\"><pre>LogisticRegression(max_iter=1000)</pre><b>In a Jupyter environment, please rerun this cell to show the HTML representation or trust the notebook. <br />On GitHub, the HTML representation is unable to render, please try loading this page with nbviewer.org.</b></div><div class=\"sk-container\" hidden><div class=\"sk-item\"><div class=\"sk-estimator fitted sk-toggleable\"><input class=\"sk-toggleable__control sk-hidden--visually\" id=\"sk-estimator-id-2\" type=\"checkbox\" checked><label for=\"sk-estimator-id-2\" class=\"sk-toggleable__label fitted sk-toggleable__label-arrow fitted\">&nbsp;&nbsp;LogisticRegression<a class=\"sk-estimator-doc-link fitted\" rel=\"noreferrer\" target=\"_blank\" href=\"https://scikit-learn.org/1.5/modules/generated/sklearn.linear_model.LogisticRegression.html\">?<span>Documentation for LogisticRegression</span></a><span class=\"sk-estimator-doc-link fitted\">i<span>Fitted</span></span></label><div class=\"sk-toggleable__content fitted\"><pre>LogisticRegression(max_iter=1000)</pre></div> </div></div></div></div>"
      ],
      "text/plain": [
       "LogisticRegression(max_iter=1000)"
      ]
     },
     "execution_count": 26,
     "metadata": {},
     "output_type": "execute_result"
    }
   ],
   "source": [
    "from sklearn.linear_model import LogisticRegression\n",
    "\n",
    "LR_sentence = LogisticRegression(max_iter=1000)\n",
    "LR_sentence.fit(vectors_train_sentence, train_df['intent'])\n",
    "\n",
    "LR_processed = LogisticRegression(max_iter=1000)\n",
    "LR_processed.fit(vectors_train_processed, train_df['intent'])\n"
   ]
  },
  {
   "cell_type": "markdown",
   "metadata": {},
   "source": [
    "3) Évaluer avec précision et micro F1 score sur Eval"
   ]
  },
  {
   "cell_type": "code",
   "execution_count": 27,
   "metadata": {},
   "outputs": [
    {
     "name": "stdout",
     "output_type": "stream",
     "text": [
      "Sentence :\n",
      "precision: 0.8166666666666667\n",
      "F1: 0.8166666666666667\n",
      "Processed :\n",
      "precision: 0.807\n",
      "F1: 0.807\n"
     ]
    }
   ],
   "source": [
    "from sklearn.metrics import accuracy_score, f1_score\n",
    "\n",
    "LR_sentence_pred = LR_sentence.predict(vectors_eval_sentence)\n",
    "print('Sentence :')\n",
    "print('precision:', accuracy_score(val_df['intent'], LR_sentence_pred))\n",
    "print('F1:', f1_score(val_df['intent'], LR_sentence_pred, average='micro'))\n",
    "\n",
    "LR_processed_pred = LR_processed.predict(vectors_eval_processed)\n",
    "print('Processed :')\n",
    "print('precision:', accuracy_score(val_df['intent'], LR_processed_pred))\n",
    "print('F1:', f1_score(val_df['intent'], LR_processed_pred, average='micro'))"
   ]
  },
  {
   "cell_type": "markdown",
   "metadata": {},
   "source": [
    "4) On essaie avec TF-IDF"
   ]
  },
  {
   "cell_type": "code",
   "execution_count": 28,
   "metadata": {},
   "outputs": [
    {
     "name": "stdout",
     "output_type": "stream",
     "text": [
      "Sentence (TF-IDF):\n",
      "Precision: 0.81\n",
      "F1: 0.81\n",
      "Processed (TF-IDF):\n",
      "Precision: 0.8013333333333333\n",
      "F1: 0.8013333333333333\n"
     ]
    }
   ],
   "source": [
    "vectorizer1 = TfidfVectorizer(stop_words='english')\n",
    "vectorizer2 = TfidfVectorizer(stop_words='english')\n",
    "\n",
    "vectors_train_sentence = vectorizer1.fit_transform(train_df['sentence'])\n",
    "vectors_train_processed = vectorizer2.fit_transform(train_df['processed_sentence'])\n",
    "vectors_eval_sentence = vectorizer1.transform(val_df['sentence'])\n",
    "vectors_eval_processed = vectorizer2.transform(val_df['processed_sentence'])\n",
    "\n",
    "LR_sentence_tfidf = LogisticRegression(max_iter=1000)\n",
    "LR_sentence_tfidf.fit(vectors_train_sentence, train_df['intent'])\n",
    "\n",
    "LR_processed_tfidf = LogisticRegression(max_iter=1000)\n",
    "LR_processed_tfidf.fit(vectors_train_processed, train_df['intent'])\n",
    "\n",
    "\n",
    "LR_sentence_pred_tfidf = LR_sentence_tfidf.predict(vectors_eval_sentence)\n",
    "print('Sentence (TF-IDF):')\n",
    "print('Precision:', accuracy_score(val_df['intent'], LR_sentence_pred_tfidf))\n",
    "print('F1:', f1_score(val_df['intent'], LR_sentence_pred_tfidf, average='micro'))\n",
    "\n",
    "LR_processed_pred_tfidf = LR_processed_tfidf.predict(vectors_eval_processed)\n",
    "print('Processed (TF-IDF):')\n",
    "print('Precision:', accuracy_score(val_df['intent'], LR_processed_pred_tfidf))\n",
    "print('F1:', f1_score(val_df['intent'], LR_processed_pred_tfidf, average='micro'))\n"
   ]
  },
  {
   "cell_type": "markdown",
   "metadata": {},
   "source": [
    "On peut donc conclure que les scores sont un peu moins bons que ceux de LogisticRegression"
   ]
  },
  {
   "cell_type": "markdown",
   "metadata": {},
   "source": [
    "5) Sélectionnez la meilleure approche, entraînez-la sur le sous-ensemble d'intentions suivant et affichez la matrice de confusion d'évaluation"
   ]
  },
  {
   "cell_type": "code",
   "execution_count": 29,
   "metadata": {},
   "outputs": [
    {
     "data": {
      "text/plain": [
       "<sklearn.metrics._plot.confusion_matrix.ConfusionMatrixDisplay at 0x7d03bbe37130>"
      ]
     },
     "execution_count": 29,
     "metadata": {},
     "output_type": "execute_result"
    },
    {
     "data": {
      "image/png": "[encoded data removed]",
      "text/plain": [
       "<Figure size 640x480 with 2 Axes>"
      ]
     },
     "metadata": {},
     "output_type": "display_data"
    }
   ],
   "source": [
    "from sklearn.linear_model import LogisticRegression\n",
    "from sklearn.metrics import confusion_matrix\n",
    "from sklearn.model_selection import cross_val_predict\n",
    "\n",
    "# sous-ensemble d'intentions\n",
    "sousEnsemble = ['traduire', 'transfert', 'définition', 'change_langue', 'payday', 'replacement_card_duration', 'solde', 'pay_bill', 'sending_history', 'credit_score', 'report_lost_card', 'damaged_card', 'credit_limit', 'account_blocked', 'report_fraud', 'direct_deposit', 'interest_rate', 'credit_limit_change', 'card_declined']\n",
    "\n",
    "new_train_df = train_df[train_df['intent'].isin(sousEnsemble)]\n",
    "new_val_df = val_df[val_df['intent'].isin(sousEnsemble)]\n",
    "\n",
    "vectorizer1 = CountVectorizer(stop_words='english')\n",
    "vectors_train_sentence = vectorizer1.fit_transform(new_train_df['sentence'])\n",
    "vectors_eval_sentence = vectorizer1.transform(new_val_df['sentence'])\n",
    "\n",
    "LR_best = LogisticRegression(max_iter=1000)\n",
    "LR_best.fit(vectors_train_sentence, new_train_df['intent'])\n",
    "\n",
    "\n",
    "LR_simple_pred = cross_val_predict(LR_best, vectors_eval_sentence, new_val_df['intent'], cv=5)\n",
    "\n",
    "from sklearn.preprocessing import LabelEncoder\n",
    "le = LabelEncoder()\n",
    "y_train = le.fit_transform(new_train_df['intent'])\n",
    "y_test = le.transform(new_val_df['intent'])\n",
    "\n",
    "from sklearn.metrics import confusion_matrix, ConfusionMatrixDisplay\n",
    "cm = confusion_matrix(new_val_df['intent'], LR_simple_pred)\n",
    "disp = ConfusionMatrixDisplay(confusion_matrix=cm,display_labels=le.classes_)\n",
    "disp.plot()\n"
   ]
  },
  {
   "cell_type": "markdown",
   "metadata": {},
   "source": [
    "6) Quelles paires d'intentions sont les plus confondues ?"
   ]
  },
  {
   "cell_type": "markdown",
   "metadata": {},
   "source": [
    "Les paires d'intention les plus confondues sont pay_bill avec payday"
   ]
  },
  {
   "cell_type": "markdown",
   "metadata": {
    "id": "Gg-V9MWC2ec8"
   },
   "source": [
    "## 5) Named Entity Recognition:"
   ]
  },
  {
   "cell_type": "markdown",
   "metadata": {},
   "source": [
    "1) On se concentre sur certaines intentions"
   ]
  },
  {
   "cell_type": "code",
   "execution_count": 30,
   "metadata": {
    "id": "AG_XTIja2e2A"
   },
   "outputs": [],
   "source": [
    "selected_intentions = ['change_user_name', 'time', 'change_lingual', 'pto_request', 'travel_alert', 'timer', 'Translate']\n",
    "selected_train_df = train_df[train_df['intent'].isin(selected_intentions)]\n",
    "selected_val_df = val_df[val_df['intent'].isin(selected_intentions)]"
   ]
  },
  {
   "cell_type": "markdown",
   "metadata": {},
   "source": [
    "2) Afficher 10 phrases pour chaque intention"
   ]
  },
  {
   "cell_type": "code",
   "execution_count": 31,
   "metadata": {},
   "outputs": [
    {
     "name": "stdout",
     "output_type": "stream",
     "text": [
      "change_user_name :\n",
      "1. please change my name\n",
      "2. i go by stefan\n",
      "3. you can call me cindy\n",
      "4. please change the name you refer to me by\n",
      "5. you can refer to me as frank\n",
      "6. call me mary\n",
      "7. my name is john\n",
      "8. you can call me brandon\n",
      "9. i'd rather have you call be ray ray\n",
      "10. i want to be called by mary\n",
      "\n",
      "time :\n",
      "1. can you give me the time\n",
      "2. what time is it in the mountain standard timezone\n",
      "3. what time is it right now in paris\n",
      "4. what time do you have on your watch\n",
      "5. in the central timezone, what time is it\n",
      "6. what time would it be in rome right now\n",
      "7. i want to know what time it is\n",
      "8. how is the time\n",
      "9. what is the time right now in the hst timezone\n",
      "10. what time is it exactly\n",
      "\n",
      "change_lingual :\n",
      "\n",
      "pto_request :\n",
      "1. please tell me how to submit a vacation request\n",
      "2. could you submit a pto request for me from dates mar 3 to 9, please\n",
      "3. can i request pto from march 9-16\n",
      "4. i would like to make a pto request for july 17th and 18th\n",
      "5. i'd like to make a vacation request\n",
      "6. put in a pto request for march 4 to march 6\n",
      "7. i would like to take a paid time off for february 7 and 8\n",
      "8. how can i request a vacation from work\n",
      "9. how can i make a vacation request\n",
      "10. make a pto request from dates may 3 to 9\n",
      "\n",
      "travel_alert :\n",
      "1. are there any alerts for travelling to beirut\n",
      "2. is there a travel alert for [country]\n",
      "3. is there a travel alert for that country\n",
      "4. i need any relevant travel alerts for australia\n",
      "5. find if there are any travel alerts for canada\n",
      "6. argentina travel alert yes or no\n",
      "7. look for travel alerts for china\n",
      "8. does italy have any travel alerts i should be aware of\n",
      "9. is there a travel alert for scotland\n",
      "10. i am going to be traveling in turkey, are there any alerts\n",
      "\n",
      "timer :\n",
      "1. make up a timer for me\n",
      "2. remind me in (x) hours\n",
      "3. can you set a timer\n",
      "4. i need a 10 minute timer\n",
      "5. set a timer for 5 minutes\n",
      "6. i'll need you to set a timer for 10 minutes\n",
      "7. i must set a timer\n",
      "8. i wish to have a 10 minute timer\n",
      "9. timer 10 minutes\n",
      "10. can you set a timer for me for fifteen minutes starting now\n",
      "\n",
      "Translate :\n",
      "\n"
     ]
    }
   ],
   "source": [
    "import random\n",
    "\n",
    "for intent in selected_intentions:\n",
    "    print(intent,':')\n",
    "    temp_train_df = selected_train_df[selected_train_df['intent'] == intent]\n",
    "    random_sentences = temp_train_df.sample(n=min(10, len(temp_train_df)))['sentence'].tolist()\n",
    "    for i, sentence in enumerate(random_sentences, start=1):\n",
    "        print(f\"{i}. {sentence}\")\n",
    "    print()"
   ]
  },
  {
   "cell_type": "markdown",
   "metadata": {},
   "source": [
    "Les entités à reconnaitre sont les Noms, les adresses, les lieux, les dates, les organisations ..."
   ]
  },
  {
   "cell_type": "markdown",
   "metadata": {},
   "source": [
    "3) Instancier le modèle anglais spacy"
   ]
  },
  {
   "cell_type": "code",
   "execution_count": 38,
   "metadata": {},
   "outputs": [],
   "source": [
    "import spacy\n",
    "nlp = spacy.load(\"en_core_web_sm\", disable = ['parser', 'ner'])"
   ]
  },
  {
   "cell_type": "markdown",
   "metadata": {},
   "source": [
    "4) Reconnaissance basée sur des règles pour les langues, les dates et les pays des entités "
   ]
  },
  {
   "cell_type": "code",
   "execution_count": 39,
   "metadata": {
    "id": "o-NBwdtzXwNN"
   },
   "outputs": [
    {
     "name": "stdout",
     "output_type": "stream",
     "text": [
      "Defaulting to user installation because normal site-packages is not writeable\n",
      "Requirement already satisfied: geonamescache in /home/sandro/.local/lib/python3.10/site-packages (2.0.0)\n",
      "Defaulting to user installation because normal site-packages is not writeable\n",
      "Requirement already satisfied: pycountry in /home/sandro/.local/lib/python3.10/site-packages (23.12.11)\n"
     ]
    }
   ],
   "source": [
    "!pip install geonamescache\n",
    "!pip install pycountry"
   ]
  },
  {
   "cell_type": "code",
   "execution_count": 40,
   "metadata": {
    "id": "1udw_i8W47Ak"
   },
   "outputs": [],
   "source": [
    "# getting a list of countries  using pycountry\n",
    "import pycountry\n",
    "countries = [x.name for x in list(pycountry.countries)]"
   ]
  },
  {
   "cell_type": "code",
   "execution_count": 41,
   "metadata": {
    "id": "V4GBE5FB6Qjv"
   },
   "outputs": [],
   "source": [
    "# hard coded languages\n",
    "languages = [\n",
    "    \"English\",\n",
    "    \"Spanish\",\n",
    "    \"French\",\n",
    "    \"German\",\n",
    "    \"Chinese\",\n",
    "    \"Hindi\",\n",
    "    \"Arabic\",\n",
    "    \"Bengali\",\n",
    "    \"Russian\",\n",
    "    \"Portuguese\",\n",
    "    \"Japanese\",\n",
    "    \"Punjabi\",\n",
    "    \"Bengali\",\n",
    "    \"Telugu\",\n",
    "    \"Marathi\",\n",
    "    \"Tamil\",\n",
    "    \"Urdu\",\n",
    "    \"Turkish\",\n",
    "    \"Italian\",\n",
    "    \"Vietnamese\",\n",
    "    \"Korean\",\n",
    "    \"Thai\",\n",
    "    \"Malay\",\n",
    "    \"Persian\",\n",
    "    \"Polish\",\n",
    "    \"Cantonese\",\n",
    "    \"Ukrainian\",\n",
    "    \"Romanian\",\n",
    "    \"Dutch\",\n",
    "    \"Swedish\",\n",
    "    \"Gujarati\",\n",
    "    \"Indonesian\",\n",
    "    \"Greek\",\n",
    "    \"Czech\",\n",
    "    \"Hebrew\",\n",
    "    \"Danish\",\n",
    "    \"Norwegian\",\n",
    "    \"Finnish\",\n",
    "    \"Hungarian\",\n",
    "    \"Slovak\",\n",
    "    \"Bulgarian\",\n",
    "    \"Croatian\",\n",
    "    \"Serbian\",\n",
    "    \"Slovenian\",\n",
    "    \"Lithuanian\",\n",
    "    \"Latvian\",\n",
    "    \"Estonian\",\n",
    "    \"Kazakh\",\n",
    "    \"Georgian\",\n",
    "    \"Tatar\",\n",
    "    \"Kyrgyz\",\n",
    "    \"Belarusian\",\n",
    "    \"Mongolian\",\n",
    "    \"Azerbaijani\",\n",
    "    \"Uzbek\",\n",
    "    \"Tajik\",\n",
    "    \"Turkmen\",\n",
    "    \"Armenian\",\n",
    "    \"Bosnian\",\n",
    "    \"Albanian\",\n",
    "    \"Macedonian\",\n",
    "    \"Montenegrin\",\n",
    "    \"Bislama\",\n",
    "    \"Fijian\",\n",
    "    \"Hawaiian\",\n",
    "    \"Samoan\",\n",
    "    \"Tongan\",\n",
    "    \"Tahitian\",\n",
    "    \"Marshallese\",\n",
    "    \"Palauan\",\n",
    "    \"Chamorro\"\n",
    "]"
   ]
  },
  {
   "cell_type": "code",
   "execution_count": 42,
   "metadata": {},
   "outputs": [],
   "source": [
    "ruler = nlp.add_pipe(\"entity_ruler\")\n",
    "patterns = [{\"label\": \"COUNTRY\", \"pattern\": [{\"LOWER\":ct.lower()}]} for ct in countries]\n",
    "ruler.add_patterns(patterns)\n",
    "date_patterns = [\n",
    "    {\"label\": \"DATE\", \"pattern\": [{\"LOWER\": {\"IN\": [\"january\", \"february\", \"march\",\"april\",\"may\",\"june\",\"july\",\"august\",\"september\",\"october\",\"november\",\"december\"]}},{\"TEXT\": {\"REGEX\": \"^[0-9]+\"}}]},\n",
    "    {\"label\": \"DATE\", \"pattern\": [{\"LOWER\": {\"IN\": [\"january\", \"february\", \"march\",\"april\",\"may\",\"june\",\"july\",\"august\",\"september\",\"october\",\"november\",\"december\"]}}]},\n",
    "    {\"label\": \"DATE\", \"pattern\": [{\"TEXT\": {\"REGEX\": r\"^\\d{4}-\\d{2}-\\d{2}$\"}}]}\n",
    "]\n",
    "\n",
    "# Ajouter les motifs de langue et de date à l'entity ruler\n",
    "ruler.add_patterns([{\"label\": \"LANGUAGE\", \"pattern\": [{\"LOWER\": lang.lower()}]} for lang in languages])\n",
    "ruler.add_patterns(date_patterns)"
   ]
  },
  {
   "cell_type": "markdown",
   "metadata": {},
   "source": [
    "5) Afficher les entités detectées"
   ]
  },
  {
   "cell_type": "code",
   "execution_count": 43,
   "metadata": {},
   "outputs": [
    {
     "name": "stdout",
     "output_type": "stream",
     "text": [
      "[('France', 'COUNTRY'), ('Cantonese', 'LANGUAGE'), ('January 16', 'DATE')]\n",
      "Intent: change_user_name\n",
      "please change the name you refer to me by\n",
      "[]\n",
      "\n",
      "how do i change the name you use to address me\n",
      "[]\n",
      "\n",
      "is there a way i can change the name you use to address me\n",
      "[]\n",
      "\n",
      "i need to change my name to something else for you to call me\n",
      "[]\n",
      "\n",
      "can i have you call me something else\n",
      "[]\n",
      "\n",
      "i go by brad\n",
      "[]\n",
      "\n",
      "usually people refer to me as brad\n",
      "[]\n",
      "\n",
      "i prefer to go by brad\n",
      "[]\n",
      "\n",
      "people call me brad\n",
      "[]\n",
      "\n",
      "my name is brad\n",
      "[]\n",
      "\n",
      "Intent: time\n",
      "what time is it in punta gorda, florida\n",
      "[]\n",
      "\n",
      "what time is it in glenwood springs, co\n",
      "[]\n",
      "\n",
      "what time is it in fredericksburg, tx\n",
      "[]\n",
      "\n",
      "what time is it in las vegas, nv\n",
      "[]\n",
      "\n",
      "what time is it in houston, tx\n",
      "[]\n",
      "\n",
      "i need to know the current time in the central timezone\n",
      "[]\n",
      "\n",
      "would you tell me the current time in the eastern timezone\n",
      "[]\n",
      "\n",
      "let me know the current time in the central timezone\n",
      "[]\n",
      "\n",
      "tell me what time it is in the central timezone\n",
      "[]\n",
      "\n",
      "i am needing to know the current time in the eastern timezone\n",
      "[]\n",
      "\n",
      "Intent: change_lingual\n",
      "Intent: pto_request\n",
      "how do i put in a pto request for the first to the ninth\n",
      "[]\n",
      "\n",
      "am i allowed to put in a pto request for now to april\n",
      "[('april', 'DATE')]\n",
      "\n",
      "is there a time i can put in a pto request for dec 2 to new years\n",
      "[]\n",
      "\n",
      "when can i put a pto request in for feb 22 to march 1\n",
      "[('march 1', 'DATE')]\n",
      "\n",
      "i need a pto request on march 1 to 2\n",
      "[('march 1', 'DATE')]\n",
      "\n",
      "on march 1-2 i want a pto request made for me\n",
      "[('march 1', 'DATE')]\n",
      "\n",
      "schedule a pto request for me on march 1-2\n",
      "[('march 1', 'DATE')]\n",
      "\n",
      "for march 1 to 2 make a pto request for me\n",
      "[('march 1', 'DATE')]\n",
      "\n",
      "i want to schedule a pto request on march 1-2\n",
      "[('march 1', 'DATE')]\n",
      "\n",
      "between october 7th and october 10th, i'd like for there to be a pto request for me\n",
      "[('october 7th', 'DATE'), ('october 10th', 'DATE')]\n",
      "\n",
      "Intent: travel_alert\n",
      "does ireland have any travel alerts i should be aware of\n",
      "[('ireland', 'COUNTRY')]\n",
      "\n",
      "does north korea have any travel alerts i should be aware of\n",
      "[]\n",
      "\n",
      "are there any travel alerts for russia\n",
      "[]\n",
      "\n",
      "does spain have any travel alerts i should be aware of\n",
      "[('spain', 'COUNTRY')]\n",
      "\n",
      "are there any travel alerts for north korea\n",
      "[]\n",
      "\n",
      "does macedonia have any travel alerts i should be aware of\n",
      "[]\n",
      "\n",
      "are there any travel alerts for syria\n",
      "[]\n",
      "\n",
      "are there any travel alerts for ukraine\n",
      "[('ukraine', 'COUNTRY')]\n",
      "\n",
      "does myanmar have any travel alerts i should be aware of\n",
      "[('myanmar', 'COUNTRY')]\n",
      "\n",
      "are there any travel alerts for china\n",
      "[('china', 'COUNTRY')]\n",
      "\n",
      "Intent: timer\n",
      "please set a 4 minute timer\n",
      "[]\n",
      "\n",
      "please set a timer for 6 minutes\n",
      "[]\n",
      "\n",
      "set a timer for 5 minutes\n",
      "[]\n",
      "\n",
      "i need a 7 minute timer\n",
      "[]\n",
      "\n",
      "i need to set the timer for two minutes\n",
      "[]\n",
      "\n",
      "can you set a timer for me for fifteen minutes starting now\n",
      "[]\n",
      "\n",
      "start the timer now and stop at thirty minutes\n",
      "[]\n",
      "\n",
      "i would like you to set the timer to go off in ten minutes\n",
      "[]\n",
      "\n",
      "please set a timer for 40 minutes\n",
      "[]\n",
      "\n",
      "wake me in an hour\n",
      "[]\n",
      "\n",
      "Intent: Translate\n"
     ]
    }
   ],
   "source": [
    "#test \n",
    "doc = nlp(\"Test France speak Cantonese in January 16\")\n",
    "print([(ent.text, ent.label_) for ent in doc.ents])\n",
    "\n",
    "for intent in selected_intentions:\n",
    "    print(\"Intent:\",intent)\n",
    "    relevant_sentences = selected_train_df[selected_train_df['intent'] == intent]['sentence'].head(10)\n",
    "    for i, sentence in enumerate(relevant_sentences):\n",
    "        doc = nlp(sentence)\n",
    "        print(sentence)\n",
    "        print([(ent.text, ent.label_) for ent in doc.ents])\n",
    "        print()"
   ]
  },
  {
   "cell_type": "markdown",
   "metadata": {
    "id": "cq1wqcvN2fHs"
   },
   "source": [
    "## 6) Chatbot:"
   ]
  },
  {
   "cell_type": "markdown",
   "metadata": {},
   "source": [
    "1) Demander à l'utilisateur de saisir une phrase\n",
    "2) Extraire les entités\n",
    "3) Intention prédiction\n",
    "4) Réponse"
   ]
  },
  {
   "cell_type": "code",
   "execution_count": 44,
   "metadata": {
    "id": "TehrIMRs2fyL"
   },
   "outputs": [
    {
     "name": "stdout",
     "output_type": "stream",
     "text": [
      "How do you say hello in French?\n",
      "    --> Entities: [('French', 'LANGUAGE')]\n",
      "    --> Prediction intention: ['payday']\n",
      "    --> Response: I can help you keep track of your payday.\n",
      "\n",
      "I want to go on holidays from 2021-01-12 to 2021-01-25\n",
      "    --> Entities: []\n",
      "    --> Prediction intention: ['payday']\n",
      "    --> Response: I can help you keep track of your payday.\n",
      "\n",
      "What is the weather in Germany?\n",
      "    --> Entities: [('Germany', 'COUNTRY')]\n",
      "    --> Prediction intention: ['payday']\n",
      "    --> Response: I can help you keep track of your payday.\n",
      "\n",
      "Can you set the language to Spanish?\n",
      "    --> Entities: [('Spanish', 'LANGUAGE')]\n",
      "    --> Prediction intention: ['direct_deposit']\n",
      "    --> Response: I can assist you in setting up direct deposit.\n",
      "\n"
     ]
    }
   ],
   "source": [
    "while True:\n",
    "    sentence = input('Type your sentence (exit to quit):')\n",
    "    if sentence == 'exit':\n",
    "        break\n",
    "    doc = nlp(sentence)\n",
    "    print(sentence)\n",
    "    entities = [(ent.text, ent.label_) for ent in doc.ents]\n",
    "    print('    --> Entities:', entities)\n",
    "    vectors_phrase_a_predire = vectorizer1.transform([sentence])\n",
    "    intent = LR_best.predict(vectors_phrase_a_predire)\n",
    "    print('    --> Prediction intention:', intent)\n",
    "    response_row = intent_responses.loc[intent_responses['intent'] == intent[0], 'response']\n",
    "    if not response_row.empty:\n",
    "        response = response_row.values[0]\n",
    "    else:\n",
    "        response = \"I'm not sure how to help with that.\"\n",
    "    print('    --> Response:', response)\n",
    "    print()"
   ]
  }
 ],
 "metadata": {
  "colab": {
   "provenance": []
  },
  "kernelspec": {
   "display_name": "usr",
   "language": "python",
   "name": "python3"
  },
  "language_info": {
   "codemirror_mode": {
    "name": "ipython",
    "version": 3
   },
   "file_extension": ".py",
   "mimetype": "text/x-python",
   "name": "python",
   "nbconvert_exporter": "python",
   "pygments_lexer": "ipython3",
   "version": "3.10.12"
  }
 },
 "nbformat": 4,
 "nbformat_minor": 0
}
